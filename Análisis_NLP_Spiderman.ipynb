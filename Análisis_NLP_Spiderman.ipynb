{
  "cells": [
    {
      "cell_type": "markdown",
      "metadata": {
        "id": "view-in-github",
        "colab_type": "text"
      },
      "source": [
        "<a href=\"https://colab.research.google.com/github/NlilloC/NLP-y-Deep-Learning---Comision-61625-/blob/main/An%C3%A1lisis_NLP_Spiderman.ipynb\" target=\"_parent\"><img src=\"https://colab.research.google.com/assets/colab-badge.svg\" alt=\"Open In Colab\"/></a>"
      ]
    },
    {
      "cell_type": "markdown",
      "source": [
        "#**Análisis NLP - Películas Spiderman**"
      ],
      "metadata": {
        "id": "hQ6AthfnDfNr"
      }
    },
    {
      "cell_type": "markdown",
      "source": [
        "##**Objetivo**\n",
        "\n",
        "Las películas de Spiderman, sin duda alguna, son una de las películas de superhéroes más importantes en los fanáticos del cine de acción. Es por ello, que a través del presente análisis se espera poder obtener un modelo que pueda predecir con un alto nivel de presición, cual es el sentimiento expresados por los usuarios al momento de referirse a las películas del \"buen vecino\" nuyorkino."
      ],
      "metadata": {
        "id": "9xSaZpJVF_Ms"
      }
    },
    {
      "cell_type": "markdown",
      "source": [
        "##**Lectura y análisis de datos**"
      ],
      "metadata": {
        "id": "qBkOgKKED_90"
      }
    },
    {
      "cell_type": "markdown",
      "source": [
        "###**Librerías necesarias**"
      ],
      "metadata": {
        "id": "000vYjbAD0S9"
      }
    },
    {
      "cell_type": "code",
      "execution_count": 44,
      "metadata": {
        "colab": {
          "base_uri": "https://localhost:8080/"
        },
        "id": "baUsXOD4UqY9",
        "outputId": "fdd29572-97c2-4151-9d07-e9a41d6165c3"
      },
      "outputs": [
        {
          "output_type": "stream",
          "name": "stderr",
          "text": [
            "[nltk_data] Downloading package punkt to /root/nltk_data...\n",
            "[nltk_data]   Package punkt is already up-to-date!\n",
            "[nltk_data] Downloading package stopwords to /root/nltk_data...\n",
            "[nltk_data]   Package stopwords is already up-to-date!\n",
            "[nltk_data] Downloading package wordnet to /root/nltk_data...\n",
            "[nltk_data]   Package wordnet is already up-to-date!\n"
          ]
        }
      ],
      "source": [
        "import pandas as pd\n",
        "import nltk # importar natural language toolkit\n",
        "nltk.download('punkt')\n",
        "nltk.download('stopwords') # modulo para descargar stopwords en diferentes idiomas\n",
        "nltk.download('wordnet')\n",
        "from nltk.corpus import stopwords\n",
        "import pandas as pd\n",
        "import numpy  as np\n",
        "import re\n",
        "import string\n",
        "import plotly\n",
        "import matplotlib.pyplot as plt\n",
        "from nltk.stem import PorterStemmer\n",
        "import time\n",
        "from nltk.corpus import stopwords\n",
        "from nltk.tokenize import word_tokenize\n",
        "from nltk.tokenize import sent_tokenize\n",
        "from sklearn.feature_extraction.text import CountVectorizer\n",
        "from sklearn.feature_extraction.text import TfidfTransformer\n",
        "from sklearn.feature_extraction.text import TfidfVectorizer\n",
        "from nltk.probability import FreqDist\n",
        "from wordcloud import WordCloud\n",
        "\n",
        "import os\n",
        "from collections import Counter\n",
        "\n",
        "from pylab import rcParams\n",
        "\n",
        "from sklearn.model_selection import train_test_split\n",
        "from sklearn.linear_model import LogisticRegression\n",
        "from sklearn.metrics import accuracy_score\n",
        "from sklearn.metrics import f1_score\n",
        "from sklearn.ensemble import RandomForestClassifier\n",
        "from sklearn.neighbors import KNeighborsClassifier\n",
        "from sklearn.tree import DecisionTreeClassifier\n",
        "from sklearn.naive_bayes import GaussianNB\n",
        "from sklearn.model_selection import cross_val_score\n",
        "from sklearn.metrics import accuracy_score, log_loss"
      ]
    },
    {
      "cell_type": "code",
      "execution_count": 45,
      "metadata": {
        "colab": {
          "base_uri": "https://localhost:8080/",
          "height": 572
        },
        "id": "m-cFQ3vRB2hf",
        "outputId": "2c0dd9e2-86f0-4100-c8a7-eaf2b1ae5d62"
      },
      "outputs": [
        {
          "output_type": "execute_result",
          "data": {
            "text/plain": [
              "       Rating                                              Title  \\\n",
              "0        10.0             Fantastic...but possibly overwhelming.   \n",
              "1         8.0  How on God's green Earth did this work so well???   \n",
              "2        10.0                      Stan Lee Is Smiling Right Now   \n",
              "3        10.0                      So Much More Than I Expected!   \n",
              "4        10.0                                       Game Changer   \n",
              "...       ...                                                ...   \n",
              "21223    10.0                    Marvel did the best spider ever   \n",
              "21224    10.0                             spider man no way home   \n",
              "21225    10.0                                Spiderman spiderman   \n",
              "21226     9.0                                           Amazing!   \n",
              "21227     9.0  Suprisingly dark and free from the \"feel-good ...   \n",
              "\n",
              "                   Date  Helpful_Vote  Total_Vote  \\\n",
              "0         26 March 2019            54          71   \n",
              "1      21 December 2018           198         279   \n",
              "2      17 December 2018           773         947   \n",
              "3      19 November 2019            38          50   \n",
              "4      21 December 2018           373         517   \n",
              "...                 ...           ...         ...   \n",
              "21223  23 December 2021             0           7   \n",
              "21224  17 December 2021             0           4   \n",
              "21225   14 January 2022             0           2   \n",
              "21226  19 December 2021             0           0   \n",
              "21227  17 December 2021             0           0   \n",
              "\n",
              "                                                  Review  \\\n",
              "0      \"Spider-Man: Into the Spider-Verse\" is a fanta...   \n",
              "1      The worlds of superhero movies and superhero c...   \n",
              "2      A movie worthy of Stan Lee's approval. Incredi...   \n",
              "3      So many have commented, so I will be brief. Fr...   \n",
              "4      Have you ever sat through a film and you knew ...   \n",
              "...                                                  ...   \n",
              "21223  Love what Marvel/Sony just did.\\n\\nVery good i...   \n",
              "21224  This film is amazing! The best Spider-Man film...   \n",
              "21225  One of the Marvel's masterpiece, Super Excelle...   \n",
              "21226  The originals have always been my fav Spiderma...   \n",
              "21227  This movie feels suprisingly somber for a marv...   \n",
              "\n",
              "                                   Movie  \n",
              "0      Spider-Man: Into the Spider-Verse  \n",
              "1      Spider-Man: Into the Spider-Verse  \n",
              "2      Spider-Man: Into the Spider-Verse  \n",
              "3      Spider-Man: Into the Spider-Verse  \n",
              "4      Spider-Man: Into the Spider-Verse  \n",
              "...                                  ...  \n",
              "21223            Spider-Man: No Way Home  \n",
              "21224            Spider-Man: No Way Home  \n",
              "21225            Spider-Man: No Way Home  \n",
              "21226            Spider-Man: No Way Home  \n",
              "21227            Spider-Man: No Way Home  \n",
              "\n",
              "[21228 rows x 7 columns]"
            ],
            "text/html": [
              "\n",
              "  <div id=\"df-7749d480-e185-4986-b1ee-4a116c759c08\" class=\"colab-df-container\">\n",
              "    <div>\n",
              "<style scoped>\n",
              "    .dataframe tbody tr th:only-of-type {\n",
              "        vertical-align: middle;\n",
              "    }\n",
              "\n",
              "    .dataframe tbody tr th {\n",
              "        vertical-align: top;\n",
              "    }\n",
              "\n",
              "    .dataframe thead th {\n",
              "        text-align: right;\n",
              "    }\n",
              "</style>\n",
              "<table border=\"1\" class=\"dataframe\">\n",
              "  <thead>\n",
              "    <tr style=\"text-align: right;\">\n",
              "      <th></th>\n",
              "      <th>Rating</th>\n",
              "      <th>Title</th>\n",
              "      <th>Date</th>\n",
              "      <th>Helpful_Vote</th>\n",
              "      <th>Total_Vote</th>\n",
              "      <th>Review</th>\n",
              "      <th>Movie</th>\n",
              "    </tr>\n",
              "  </thead>\n",
              "  <tbody>\n",
              "    <tr>\n",
              "      <th>0</th>\n",
              "      <td>10.0</td>\n",
              "      <td>Fantastic...but possibly overwhelming.</td>\n",
              "      <td>26 March 2019</td>\n",
              "      <td>54</td>\n",
              "      <td>71</td>\n",
              "      <td>\"Spider-Man: Into the Spider-Verse\" is a fanta...</td>\n",
              "      <td>Spider-Man: Into the Spider-Verse</td>\n",
              "    </tr>\n",
              "    <tr>\n",
              "      <th>1</th>\n",
              "      <td>8.0</td>\n",
              "      <td>How on God's green Earth did this work so well???</td>\n",
              "      <td>21 December 2018</td>\n",
              "      <td>198</td>\n",
              "      <td>279</td>\n",
              "      <td>The worlds of superhero movies and superhero c...</td>\n",
              "      <td>Spider-Man: Into the Spider-Verse</td>\n",
              "    </tr>\n",
              "    <tr>\n",
              "      <th>2</th>\n",
              "      <td>10.0</td>\n",
              "      <td>Stan Lee Is Smiling Right Now</td>\n",
              "      <td>17 December 2018</td>\n",
              "      <td>773</td>\n",
              "      <td>947</td>\n",
              "      <td>A movie worthy of Stan Lee's approval. Incredi...</td>\n",
              "      <td>Spider-Man: Into the Spider-Verse</td>\n",
              "    </tr>\n",
              "    <tr>\n",
              "      <th>3</th>\n",
              "      <td>10.0</td>\n",
              "      <td>So Much More Than I Expected!</td>\n",
              "      <td>19 November 2019</td>\n",
              "      <td>38</td>\n",
              "      <td>50</td>\n",
              "      <td>So many have commented, so I will be brief. Fr...</td>\n",
              "      <td>Spider-Man: Into the Spider-Verse</td>\n",
              "    </tr>\n",
              "    <tr>\n",
              "      <th>4</th>\n",
              "      <td>10.0</td>\n",
              "      <td>Game Changer</td>\n",
              "      <td>21 December 2018</td>\n",
              "      <td>373</td>\n",
              "      <td>517</td>\n",
              "      <td>Have you ever sat through a film and you knew ...</td>\n",
              "      <td>Spider-Man: Into the Spider-Verse</td>\n",
              "    </tr>\n",
              "    <tr>\n",
              "      <th>...</th>\n",
              "      <td>...</td>\n",
              "      <td>...</td>\n",
              "      <td>...</td>\n",
              "      <td>...</td>\n",
              "      <td>...</td>\n",
              "      <td>...</td>\n",
              "      <td>...</td>\n",
              "    </tr>\n",
              "    <tr>\n",
              "      <th>21223</th>\n",
              "      <td>10.0</td>\n",
              "      <td>Marvel did the best spider ever</td>\n",
              "      <td>23 December 2021</td>\n",
              "      <td>0</td>\n",
              "      <td>7</td>\n",
              "      <td>Love what Marvel/Sony just did.\\n\\nVery good i...</td>\n",
              "      <td>Spider-Man: No Way Home</td>\n",
              "    </tr>\n",
              "    <tr>\n",
              "      <th>21224</th>\n",
              "      <td>10.0</td>\n",
              "      <td>spider man no way home</td>\n",
              "      <td>17 December 2021</td>\n",
              "      <td>0</td>\n",
              "      <td>4</td>\n",
              "      <td>This film is amazing! The best Spider-Man film...</td>\n",
              "      <td>Spider-Man: No Way Home</td>\n",
              "    </tr>\n",
              "    <tr>\n",
              "      <th>21225</th>\n",
              "      <td>10.0</td>\n",
              "      <td>Spiderman spiderman</td>\n",
              "      <td>14 January 2022</td>\n",
              "      <td>0</td>\n",
              "      <td>2</td>\n",
              "      <td>One of the Marvel's masterpiece, Super Excelle...</td>\n",
              "      <td>Spider-Man: No Way Home</td>\n",
              "    </tr>\n",
              "    <tr>\n",
              "      <th>21226</th>\n",
              "      <td>9.0</td>\n",
              "      <td>Amazing!</td>\n",
              "      <td>19 December 2021</td>\n",
              "      <td>0</td>\n",
              "      <td>0</td>\n",
              "      <td>The originals have always been my fav Spiderma...</td>\n",
              "      <td>Spider-Man: No Way Home</td>\n",
              "    </tr>\n",
              "    <tr>\n",
              "      <th>21227</th>\n",
              "      <td>9.0</td>\n",
              "      <td>Suprisingly dark and free from the \"feel-good ...</td>\n",
              "      <td>17 December 2021</td>\n",
              "      <td>0</td>\n",
              "      <td>0</td>\n",
              "      <td>This movie feels suprisingly somber for a marv...</td>\n",
              "      <td>Spider-Man: No Way Home</td>\n",
              "    </tr>\n",
              "  </tbody>\n",
              "</table>\n",
              "<p>21228 rows × 7 columns</p>\n",
              "</div>\n",
              "    <div class=\"colab-df-buttons\">\n",
              "\n",
              "  <div class=\"colab-df-container\">\n",
              "    <button class=\"colab-df-convert\" onclick=\"convertToInteractive('df-7749d480-e185-4986-b1ee-4a116c759c08')\"\n",
              "            title=\"Convert this dataframe to an interactive table.\"\n",
              "            style=\"display:none;\">\n",
              "\n",
              "  <svg xmlns=\"http://www.w3.org/2000/svg\" height=\"24px\" viewBox=\"0 -960 960 960\">\n",
              "    <path d=\"M120-120v-720h720v720H120Zm60-500h600v-160H180v160Zm220 220h160v-160H400v160Zm0 220h160v-160H400v160ZM180-400h160v-160H180v160Zm440 0h160v-160H620v160ZM180-180h160v-160H180v160Zm440 0h160v-160H620v160Z\"/>\n",
              "  </svg>\n",
              "    </button>\n",
              "\n",
              "  <style>\n",
              "    .colab-df-container {\n",
              "      display:flex;\n",
              "      gap: 12px;\n",
              "    }\n",
              "\n",
              "    .colab-df-convert {\n",
              "      background-color: #E8F0FE;\n",
              "      border: none;\n",
              "      border-radius: 50%;\n",
              "      cursor: pointer;\n",
              "      display: none;\n",
              "      fill: #1967D2;\n",
              "      height: 32px;\n",
              "      padding: 0 0 0 0;\n",
              "      width: 32px;\n",
              "    }\n",
              "\n",
              "    .colab-df-convert:hover {\n",
              "      background-color: #E2EBFA;\n",
              "      box-shadow: 0px 1px 2px rgba(60, 64, 67, 0.3), 0px 1px 3px 1px rgba(60, 64, 67, 0.15);\n",
              "      fill: #174EA6;\n",
              "    }\n",
              "\n",
              "    .colab-df-buttons div {\n",
              "      margin-bottom: 4px;\n",
              "    }\n",
              "\n",
              "    [theme=dark] .colab-df-convert {\n",
              "      background-color: #3B4455;\n",
              "      fill: #D2E3FC;\n",
              "    }\n",
              "\n",
              "    [theme=dark] .colab-df-convert:hover {\n",
              "      background-color: #434B5C;\n",
              "      box-shadow: 0px 1px 3px 1px rgba(0, 0, 0, 0.15);\n",
              "      filter: drop-shadow(0px 1px 2px rgba(0, 0, 0, 0.3));\n",
              "      fill: #FFFFFF;\n",
              "    }\n",
              "  </style>\n",
              "\n",
              "    <script>\n",
              "      const buttonEl =\n",
              "        document.querySelector('#df-7749d480-e185-4986-b1ee-4a116c759c08 button.colab-df-convert');\n",
              "      buttonEl.style.display =\n",
              "        google.colab.kernel.accessAllowed ? 'block' : 'none';\n",
              "\n",
              "      async function convertToInteractive(key) {\n",
              "        const element = document.querySelector('#df-7749d480-e185-4986-b1ee-4a116c759c08');\n",
              "        const dataTable =\n",
              "          await google.colab.kernel.invokeFunction('convertToInteractive',\n",
              "                                                    [key], {});\n",
              "        if (!dataTable) return;\n",
              "\n",
              "        const docLinkHtml = 'Like what you see? Visit the ' +\n",
              "          '<a target=\"_blank\" href=https://colab.research.google.com/notebooks/data_table.ipynb>data table notebook</a>'\n",
              "          + ' to learn more about interactive tables.';\n",
              "        element.innerHTML = '';\n",
              "        dataTable['output_type'] = 'display_data';\n",
              "        await google.colab.output.renderOutput(dataTable, element);\n",
              "        const docLink = document.createElement('div');\n",
              "        docLink.innerHTML = docLinkHtml;\n",
              "        element.appendChild(docLink);\n",
              "      }\n",
              "    </script>\n",
              "  </div>\n",
              "\n",
              "\n",
              "<div id=\"df-fc964bdb-ff12-4143-996f-353ec0ce8b79\">\n",
              "  <button class=\"colab-df-quickchart\" onclick=\"quickchart('df-fc964bdb-ff12-4143-996f-353ec0ce8b79')\"\n",
              "            title=\"Suggest charts\"\n",
              "            style=\"display:none;\">\n",
              "\n",
              "<svg xmlns=\"http://www.w3.org/2000/svg\" height=\"24px\"viewBox=\"0 0 24 24\"\n",
              "     width=\"24px\">\n",
              "    <g>\n",
              "        <path d=\"M19 3H5c-1.1 0-2 .9-2 2v14c0 1.1.9 2 2 2h14c1.1 0 2-.9 2-2V5c0-1.1-.9-2-2-2zM9 17H7v-7h2v7zm4 0h-2V7h2v10zm4 0h-2v-4h2v4z\"/>\n",
              "    </g>\n",
              "</svg>\n",
              "  </button>\n",
              "\n",
              "<style>\n",
              "  .colab-df-quickchart {\n",
              "      --bg-color: #E8F0FE;\n",
              "      --fill-color: #1967D2;\n",
              "      --hover-bg-color: #E2EBFA;\n",
              "      --hover-fill-color: #174EA6;\n",
              "      --disabled-fill-color: #AAA;\n",
              "      --disabled-bg-color: #DDD;\n",
              "  }\n",
              "\n",
              "  [theme=dark] .colab-df-quickchart {\n",
              "      --bg-color: #3B4455;\n",
              "      --fill-color: #D2E3FC;\n",
              "      --hover-bg-color: #434B5C;\n",
              "      --hover-fill-color: #FFFFFF;\n",
              "      --disabled-bg-color: #3B4455;\n",
              "      --disabled-fill-color: #666;\n",
              "  }\n",
              "\n",
              "  .colab-df-quickchart {\n",
              "    background-color: var(--bg-color);\n",
              "    border: none;\n",
              "    border-radius: 50%;\n",
              "    cursor: pointer;\n",
              "    display: none;\n",
              "    fill: var(--fill-color);\n",
              "    height: 32px;\n",
              "    padding: 0;\n",
              "    width: 32px;\n",
              "  }\n",
              "\n",
              "  .colab-df-quickchart:hover {\n",
              "    background-color: var(--hover-bg-color);\n",
              "    box-shadow: 0 1px 2px rgba(60, 64, 67, 0.3), 0 1px 3px 1px rgba(60, 64, 67, 0.15);\n",
              "    fill: var(--button-hover-fill-color);\n",
              "  }\n",
              "\n",
              "  .colab-df-quickchart-complete:disabled,\n",
              "  .colab-df-quickchart-complete:disabled:hover {\n",
              "    background-color: var(--disabled-bg-color);\n",
              "    fill: var(--disabled-fill-color);\n",
              "    box-shadow: none;\n",
              "  }\n",
              "\n",
              "  .colab-df-spinner {\n",
              "    border: 2px solid var(--fill-color);\n",
              "    border-color: transparent;\n",
              "    border-bottom-color: var(--fill-color);\n",
              "    animation:\n",
              "      spin 1s steps(1) infinite;\n",
              "  }\n",
              "\n",
              "  @keyframes spin {\n",
              "    0% {\n",
              "      border-color: transparent;\n",
              "      border-bottom-color: var(--fill-color);\n",
              "      border-left-color: var(--fill-color);\n",
              "    }\n",
              "    20% {\n",
              "      border-color: transparent;\n",
              "      border-left-color: var(--fill-color);\n",
              "      border-top-color: var(--fill-color);\n",
              "    }\n",
              "    30% {\n",
              "      border-color: transparent;\n",
              "      border-left-color: var(--fill-color);\n",
              "      border-top-color: var(--fill-color);\n",
              "      border-right-color: var(--fill-color);\n",
              "    }\n",
              "    40% {\n",
              "      border-color: transparent;\n",
              "      border-right-color: var(--fill-color);\n",
              "      border-top-color: var(--fill-color);\n",
              "    }\n",
              "    60% {\n",
              "      border-color: transparent;\n",
              "      border-right-color: var(--fill-color);\n",
              "    }\n",
              "    80% {\n",
              "      border-color: transparent;\n",
              "      border-right-color: var(--fill-color);\n",
              "      border-bottom-color: var(--fill-color);\n",
              "    }\n",
              "    90% {\n",
              "      border-color: transparent;\n",
              "      border-bottom-color: var(--fill-color);\n",
              "    }\n",
              "  }\n",
              "</style>\n",
              "\n",
              "  <script>\n",
              "    async function quickchart(key) {\n",
              "      const quickchartButtonEl =\n",
              "        document.querySelector('#' + key + ' button');\n",
              "      quickchartButtonEl.disabled = true;  // To prevent multiple clicks.\n",
              "      quickchartButtonEl.classList.add('colab-df-spinner');\n",
              "      try {\n",
              "        const charts = await google.colab.kernel.invokeFunction(\n",
              "            'suggestCharts', [key], {});\n",
              "      } catch (error) {\n",
              "        console.error('Error during call to suggestCharts:', error);\n",
              "      }\n",
              "      quickchartButtonEl.classList.remove('colab-df-spinner');\n",
              "      quickchartButtonEl.classList.add('colab-df-quickchart-complete');\n",
              "    }\n",
              "    (() => {\n",
              "      let quickchartButtonEl =\n",
              "        document.querySelector('#df-fc964bdb-ff12-4143-996f-353ec0ce8b79 button');\n",
              "      quickchartButtonEl.style.display =\n",
              "        google.colab.kernel.accessAllowed ? 'block' : 'none';\n",
              "    })();\n",
              "  </script>\n",
              "</div>\n",
              "\n",
              "  <div id=\"id_fdfb4778-6816-4da4-81fd-4b9f9f2f6f66\">\n",
              "    <style>\n",
              "      .colab-df-generate {\n",
              "        background-color: #E8F0FE;\n",
              "        border: none;\n",
              "        border-radius: 50%;\n",
              "        cursor: pointer;\n",
              "        display: none;\n",
              "        fill: #1967D2;\n",
              "        height: 32px;\n",
              "        padding: 0 0 0 0;\n",
              "        width: 32px;\n",
              "      }\n",
              "\n",
              "      .colab-df-generate:hover {\n",
              "        background-color: #E2EBFA;\n",
              "        box-shadow: 0px 1px 2px rgba(60, 64, 67, 0.3), 0px 1px 3px 1px rgba(60, 64, 67, 0.15);\n",
              "        fill: #174EA6;\n",
              "      }\n",
              "\n",
              "      [theme=dark] .colab-df-generate {\n",
              "        background-color: #3B4455;\n",
              "        fill: #D2E3FC;\n",
              "      }\n",
              "\n",
              "      [theme=dark] .colab-df-generate:hover {\n",
              "        background-color: #434B5C;\n",
              "        box-shadow: 0px 1px 3px 1px rgba(0, 0, 0, 0.15);\n",
              "        filter: drop-shadow(0px 1px 2px rgba(0, 0, 0, 0.3));\n",
              "        fill: #FFFFFF;\n",
              "      }\n",
              "    </style>\n",
              "    <button class=\"colab-df-generate\" onclick=\"generateWithVariable('df_spider')\"\n",
              "            title=\"Generate code using this dataframe.\"\n",
              "            style=\"display:none;\">\n",
              "\n",
              "  <svg xmlns=\"http://www.w3.org/2000/svg\" height=\"24px\"viewBox=\"0 0 24 24\"\n",
              "       width=\"24px\">\n",
              "    <path d=\"M7,19H8.4L18.45,9,17,7.55,7,17.6ZM5,21V16.75L18.45,3.32a2,2,0,0,1,2.83,0l1.4,1.43a1.91,1.91,0,0,1,.58,1.4,1.91,1.91,0,0,1-.58,1.4L9.25,21ZM18.45,9,17,7.55Zm-12,3A5.31,5.31,0,0,0,4.9,8.1,5.31,5.31,0,0,0,1,6.5,5.31,5.31,0,0,0,4.9,4.9,5.31,5.31,0,0,0,6.5,1,5.31,5.31,0,0,0,8.1,4.9,5.31,5.31,0,0,0,12,6.5,5.46,5.46,0,0,0,6.5,12Z\"/>\n",
              "  </svg>\n",
              "    </button>\n",
              "    <script>\n",
              "      (() => {\n",
              "      const buttonEl =\n",
              "        document.querySelector('#id_fdfb4778-6816-4da4-81fd-4b9f9f2f6f66 button.colab-df-generate');\n",
              "      buttonEl.style.display =\n",
              "        google.colab.kernel.accessAllowed ? 'block' : 'none';\n",
              "\n",
              "      buttonEl.onclick = () => {\n",
              "        google.colab.notebook.generateWithVariable('df_spider');\n",
              "      }\n",
              "      })();\n",
              "    </script>\n",
              "  </div>\n",
              "\n",
              "    </div>\n",
              "  </div>\n"
            ],
            "application/vnd.google.colaboratory.intrinsic+json": {
              "type": "dataframe",
              "variable_name": "df_spider",
              "summary": "{\n  \"name\": \"df_spider\",\n  \"rows\": 21228,\n  \"fields\": [\n    {\n      \"column\": \"Rating\",\n      \"properties\": {\n        \"dtype\": \"number\",\n        \"std\": 2.728996921559054,\n        \"min\": 1.0,\n        \"max\": 10.0,\n        \"num_unique_values\": 10,\n        \"samples\": [\n          1.0,\n          8.0,\n          5.0\n        ],\n        \"semantic_type\": \"\",\n        \"description\": \"\"\n      }\n    },\n    {\n      \"column\": \"Title\",\n      \"properties\": {\n        \"dtype\": \"string\",\n        \"num_unique_values\": 18955,\n        \"samples\": [\n          \"Phase 3 concluded\",\n          \"Best Mcu Movie\",\n          \"Well Done!\"\n        ],\n        \"semantic_type\": \"\",\n        \"description\": \"\"\n      }\n    },\n    {\n      \"column\": \"Date\",\n      \"properties\": {\n        \"dtype\": \"object\",\n        \"num_unique_values\": 3414,\n        \"samples\": [\n          \"11 March 2007\",\n          \"30 June 2006\",\n          \"30 January 2019\"\n        ],\n        \"semantic_type\": \"\",\n        \"description\": \"\"\n      }\n    },\n    {\n      \"column\": \"Helpful_Vote\",\n      \"properties\": {\n        \"dtype\": \"number\",\n        \"std\": 33,\n        \"min\": 0,\n        \"max\": 1481,\n        \"num_unique_values\": 259,\n        \"samples\": [\n          68,\n          25,\n          117\n        ],\n        \"semantic_type\": \"\",\n        \"description\": \"\"\n      }\n    },\n    {\n      \"column\": \"Total_Vote\",\n      \"properties\": {\n        \"dtype\": \"number\",\n        \"std\": 55,\n        \"min\": 0,\n        \"max\": 2167,\n        \"num_unique_values\": 370,\n        \"samples\": [\n          2167,\n          23,\n          92\n        ],\n        \"semantic_type\": \"\",\n        \"description\": \"\"\n      }\n    },\n    {\n      \"column\": \"Review\",\n      \"properties\": {\n        \"dtype\": \"string\",\n        \"num_unique_values\": 21134,\n        \"samples\": [\n          \"A 7.3 for this masterpiece is honestly a joke this movie is incredible the story the villain the actors are all on point, spider-man 2 is hands down a masterpiece, tobey did an excellent job once again i cannot believe it has only a 7.3 honestly im in shock,\",\n          \"The movie was really boring and so silly Nothing to say more\",\n          \"I might be a Marvel fanboy but I promise this review would be the sincerest one from a movie enthusiast.\\n\\nLet me start from the story! Which keeps you glued right from the start till the post credit scene, the movie makers have done a darn good job with so many characters on hand they could have very easily messed it up but they managed to make a gem of a movie.\\n\\nIt's very much like a perfect Pizza with multiple layers and just the right amount of toppings to cater towards all kinds of fans/audiences. The movie at many times will give you goosebumps for sure, it has all the right ingredients required for a good recipe. You can feel the emotion, pain, strength, sorrow and much more within all the character arcs.\\n\\nIt has to be the best animated marvel movie and second best Spider-Man movie hands down. At the end I would just say we need more movies like this and this kind of character build up, I would never get bored if I watch this movie everyday.\"\n        ],\n        \"semantic_type\": \"\",\n        \"description\": \"\"\n      }\n    },\n    {\n      \"column\": \"Movie\",\n      \"properties\": {\n        \"dtype\": \"category\",\n        \"num_unique_values\": 9,\n        \"samples\": [\n          \"Spider-Man: Far from Home\",\n          \"Spider-Man\",\n          \"The Amazing Spider-Man 2\"\n        ],\n        \"semantic_type\": \"\",\n        \"description\": \"\"\n      }\n    }\n  ]\n}"
            }
          },
          "metadata": {},
          "execution_count": 45
        }
      ],
      "source": [
        "df_spider = pd.read_csv('https://github.com/NlilloC/NLP-y-Deep-Learning---Comision-61625-/raw/refs/heads/main/imdb-spider-man-reviews.csv')\n",
        "df_spider"
      ]
    },
    {
      "cell_type": "markdown",
      "metadata": {
        "id": "CwvfBZVY6hhR"
      },
      "source": [
        "### **Columnas del dataset**\n",
        "\n",
        "- Rating: Clasificación de la reseña entre 1 a 10, siendo 1 la más baja clasificación y 10 la mejor.\n",
        "- Title: Título de la reseña.\n",
        "- Date: Fecha en la que se realizó la reseña.\n",
        "- Helpful_Vote: Número de votos útiles que recibió la reseña.\n",
        "- Total_Vote: Número total de votos que recibió la reseña.\n",
        "- Review: Reseña.\n",
        "- Movie: Película a la cual se le realizó la reseña."
      ]
    },
    {
      "cell_type": "code",
      "execution_count": 46,
      "metadata": {
        "colab": {
          "base_uri": "https://localhost:8080/"
        },
        "id": "OaYtavH_IC6M",
        "outputId": "9a6378fb-b5e6-4f2f-b5a4-dc5bd89a199b"
      },
      "outputs": [
        {
          "output_type": "stream",
          "name": "stdout",
          "text": [
            "<class 'pandas.core.frame.DataFrame'>\n",
            "RangeIndex: 21228 entries, 0 to 21227\n",
            "Data columns (total 7 columns):\n",
            " #   Column        Non-Null Count  Dtype  \n",
            "---  ------        --------------  -----  \n",
            " 0   Rating        20066 non-null  float64\n",
            " 1   Title         21228 non-null  object \n",
            " 2   Date          21228 non-null  object \n",
            " 3   Helpful_Vote  21228 non-null  int64  \n",
            " 4   Total_Vote    21228 non-null  int64  \n",
            " 5   Review        21228 non-null  object \n",
            " 6   Movie         21228 non-null  object \n",
            "dtypes: float64(1), int64(2), object(4)\n",
            "memory usage: 1.1+ MB\n"
          ]
        }
      ],
      "source": [
        "df_spider.info()"
      ]
    },
    {
      "cell_type": "markdown",
      "source": [
        "Del análisis, es podible evidenciar que no existen valores nulos en el dataset, por lo que no es necesario efectuar algún procesamiento."
      ],
      "metadata": {
        "id": "-BnnaXoPEIbv"
      }
    },
    {
      "cell_type": "markdown",
      "metadata": {
        "id": "BQEXWQ5g4QU3"
      },
      "source": [
        "### **Distribución de las palabras en la columna \"Revisión\"**"
      ]
    },
    {
      "cell_type": "code",
      "execution_count": 47,
      "metadata": {
        "colab": {
          "base_uri": "https://localhost:8080/",
          "height": 489
        },
        "id": "LTZcuFp44FYZ",
        "outputId": "d6c6719a-90c8-4ba2-c52b-b97c1e0cdd6a"
      },
      "outputs": [
        {
          "output_type": "execute_result",
          "data": {
            "text/plain": [
              "Text(0, 0.5, 'Frecuencia')"
            ]
          },
          "metadata": {},
          "execution_count": 47
        },
        {
          "output_type": "display_data",
          "data": {
            "text/plain": [
              "<Figure size 640x480 with 1 Axes>"
            ],
            "image/png": "[encoded data removed]"
          },
          "metadata": {}
        }
      ],
      "source": [
        "words_per_review = df_spider.Review.apply(lambda x: len(x.split(\" \")))\n",
        "words_per_review.hist(bins = 100)\n",
        "plt.title('Numero de palabras por Revision')\n",
        "plt.xlabel('Palabras')\n",
        "plt.ylabel('Frecuencia')"
      ]
    },
    {
      "cell_type": "code",
      "execution_count": 48,
      "metadata": {
        "colab": {
          "base_uri": "https://localhost:8080/"
        },
        "id": "oTSl_dBn4FLC",
        "outputId": "dd376eef-600d-411d-c829-ea8b436ca59e"
      },
      "outputs": [
        {
          "output_type": "execute_result",
          "data": {
            "text/plain": [
              "191.67114188807236"
            ]
          },
          "metadata": {},
          "execution_count": 48
        }
      ],
      "source": [
        "words_per_review.mean()"
      ]
    },
    {
      "cell_type": "markdown",
      "source": [
        "Del análisis, es posible evidenciar que gran parte de los comentarios poseen como promedio, 200 palabras."
      ],
      "metadata": {
        "id": "2YPVdPgGFf19"
      }
    },
    {
      "cell_type": "markdown",
      "metadata": {
        "id": "0PixNeKi_akc"
      },
      "source": [
        "### **Distribución del \"Rating\"**"
      ]
    },
    {
      "cell_type": "code",
      "execution_count": 49,
      "metadata": {
        "colab": {
          "base_uri": "https://localhost:8080/",
          "height": 424
        },
        "id": "iRlYamo54E29",
        "outputId": "c133f7df-6061-4697-d50b-7bd02b7f9d93"
      },
      "outputs": [
        {
          "output_type": "execute_result",
          "data": {
            "text/plain": [
              "Rating\n",
              "10.0    6490\n",
              "9.0     2918\n",
              "8.0     2731\n",
              "7.0     2111\n",
              "6.0     1547\n",
              "1.0     1243\n",
              "5.0     1067\n",
              "4.0      781\n",
              "3.0      675\n",
              "2.0      503\n",
              "Name: count, dtype: int64"
            ],
            "text/html": [
              "<div>\n",
              "<style scoped>\n",
              "    .dataframe tbody tr th:only-of-type {\n",
              "        vertical-align: middle;\n",
              "    }\n",
              "\n",
              "    .dataframe tbody tr th {\n",
              "        vertical-align: top;\n",
              "    }\n",
              "\n",
              "    .dataframe thead th {\n",
              "        text-align: right;\n",
              "    }\n",
              "</style>\n",
              "<table border=\"1\" class=\"dataframe\">\n",
              "  <thead>\n",
              "    <tr style=\"text-align: right;\">\n",
              "      <th></th>\n",
              "      <th>count</th>\n",
              "    </tr>\n",
              "    <tr>\n",
              "      <th>Rating</th>\n",
              "      <th></th>\n",
              "    </tr>\n",
              "  </thead>\n",
              "  <tbody>\n",
              "    <tr>\n",
              "      <th>10.0</th>\n",
              "      <td>6490</td>\n",
              "    </tr>\n",
              "    <tr>\n",
              "      <th>9.0</th>\n",
              "      <td>2918</td>\n",
              "    </tr>\n",
              "    <tr>\n",
              "      <th>8.0</th>\n",
              "      <td>2731</td>\n",
              "    </tr>\n",
              "    <tr>\n",
              "      <th>7.0</th>\n",
              "      <td>2111</td>\n",
              "    </tr>\n",
              "    <tr>\n",
              "      <th>6.0</th>\n",
              "      <td>1547</td>\n",
              "    </tr>\n",
              "    <tr>\n",
              "      <th>1.0</th>\n",
              "      <td>1243</td>\n",
              "    </tr>\n",
              "    <tr>\n",
              "      <th>5.0</th>\n",
              "      <td>1067</td>\n",
              "    </tr>\n",
              "    <tr>\n",
              "      <th>4.0</th>\n",
              "      <td>781</td>\n",
              "    </tr>\n",
              "    <tr>\n",
              "      <th>3.0</th>\n",
              "      <td>675</td>\n",
              "    </tr>\n",
              "    <tr>\n",
              "      <th>2.0</th>\n",
              "      <td>503</td>\n",
              "    </tr>\n",
              "  </tbody>\n",
              "</table>\n",
              "</div><br><label><b>dtype:</b> int64</label>"
            ]
          },
          "metadata": {},
          "execution_count": 49
        }
      ],
      "source": [
        "df_spider.Rating.value_counts()"
      ]
    },
    {
      "cell_type": "markdown",
      "source": [
        "Gran parte de los comentarios poseen un rating mayor a 7.0, por lo que se podría afirmar en un comienzo, que el Dataset está compuesto en su mayoría por comentarios positivos."
      ],
      "metadata": {
        "id": "O6BnsZ1aGNzh"
      }
    },
    {
      "cell_type": "markdown",
      "metadata": {
        "id": "sG4bvQOsDmhG"
      },
      "source": [
        "### **Estantadrización de Rating para análisis de sentimiento**"
      ]
    },
    {
      "cell_type": "code",
      "execution_count": 50,
      "metadata": {
        "colab": {
          "base_uri": "https://localhost:8080/",
          "height": 176
        },
        "id": "qrlNaQslEdGY",
        "outputId": "d1df1272-a9b5-423f-a66c-5dc1b7f49bea"
      },
      "outputs": [
        {
          "output_type": "execute_result",
          "data": {
            "text/plain": [
              "Sentiment_rating\n",
              "1    15797\n",
              "0     5431\n",
              "Name: count, dtype: int64"
            ],
            "text/html": [
              "<div>\n",
              "<style scoped>\n",
              "    .dataframe tbody tr th:only-of-type {\n",
              "        vertical-align: middle;\n",
              "    }\n",
              "\n",
              "    .dataframe tbody tr th {\n",
              "        vertical-align: top;\n",
              "    }\n",
              "\n",
              "    .dataframe thead th {\n",
              "        text-align: right;\n",
              "    }\n",
              "</style>\n",
              "<table border=\"1\" class=\"dataframe\">\n",
              "  <thead>\n",
              "    <tr style=\"text-align: right;\">\n",
              "      <th></th>\n",
              "      <th>count</th>\n",
              "    </tr>\n",
              "    <tr>\n",
              "      <th>Sentiment_rating</th>\n",
              "      <th></th>\n",
              "    </tr>\n",
              "  </thead>\n",
              "  <tbody>\n",
              "    <tr>\n",
              "      <th>1</th>\n",
              "      <td>15797</td>\n",
              "    </tr>\n",
              "    <tr>\n",
              "      <th>0</th>\n",
              "      <td>5431</td>\n",
              "    </tr>\n",
              "  </tbody>\n",
              "</table>\n",
              "</div><br><label><b>dtype:</b> int64</label>"
            ]
          },
          "metadata": {},
          "execution_count": 50
        }
      ],
      "source": [
        "df_spider['Sentiment_rating'] = np.where(df_spider.Rating > 5, 1, 0)\n",
        "df_spider['Sentiment_rating'].value_counts()"
      ]
    },
    {
      "cell_type": "markdown",
      "source": [
        "Las calificaciones se estandarizan para demostrar con valor 1 aquellos que presumirían un comentario positivo (calificaciones superiores a 5) y con valor 0 para aquellos que presumen un comentario negativo (calificaciones menores a 5)."
      ],
      "metadata": {
        "id": "DT7EoG5aPRE3"
      }
    },
    {
      "cell_type": "markdown",
      "metadata": {
        "id": "eFo_7-u6G9bE"
      },
      "source": [
        "## **Pre procesamiento con NLTK**"
      ]
    },
    {
      "cell_type": "code",
      "execution_count": 51,
      "metadata": {
        "id": "4sV7wyUpHDmu"
      },
      "outputs": [],
      "source": [
        "df_spider['Review_text_new'] = df_spider.Review.apply(lambda x: x.lower())"
      ]
    },
    {
      "cell_type": "markdown",
      "metadata": {
        "id": "JARt3UHDIwkN"
      },
      "source": [
        "### **Remoción de caracteres especiales**"
      ]
    },
    {
      "cell_type": "code",
      "execution_count": 52,
      "metadata": {
        "colab": {
          "base_uri": "https://localhost:8080/"
        },
        "id": "zC_-ZELYA3Iz",
        "outputId": "464c8ec2-3a40-4a7d-cfc8-3ebca7604af6"
      },
      "outputs": [
        {
          "output_type": "stream",
          "name": "stdout",
          "text": [
            "Requirement already satisfied: nltk in /usr/local/lib/python3.11/dist-packages (3.9.1)\n",
            "Requirement already satisfied: click in /usr/local/lib/python3.11/dist-packages (from nltk) (8.1.8)\n",
            "Requirement already satisfied: joblib in /usr/local/lib/python3.11/dist-packages (from nltk) (1.4.2)\n",
            "Requirement already satisfied: regex>=2021.8.3 in /usr/local/lib/python3.11/dist-packages (from nltk) (2024.11.6)\n",
            "Requirement already satisfied: tqdm in /usr/local/lib/python3.11/dist-packages (from nltk) (4.67.1)\n"
          ]
        },
        {
          "output_type": "stream",
          "name": "stderr",
          "text": [
            "[nltk_data] Downloading package punkt_tab to /root/nltk_data...\n",
            "[nltk_data]   Package punkt_tab is already up-to-date!\n"
          ]
        },
        {
          "output_type": "stream",
          "name": "stdout",
          "text": [
            "Numero de tokens unicos antes:  65311\n",
            "Numero de tokens unicos nuevos:  54850\n"
          ]
        }
      ],
      "source": [
        "!pip install nltk\n",
        "import nltk\n",
        "nltk.download('punkt_tab')\n",
        "\n",
        "token_lists = [word_tokenize(each) for each in df_spider.Review]\n",
        "tokens = [item for sublist in token_lists for item in sublist]\n",
        "print(\"Numero de tokens unicos antes: \", len(set(tokens)))\n",
        "\n",
        "token_lists_lower = [word_tokenize(each) for each in df_spider.Review_text_new]\n",
        "tokens_lower = [item for sublist in token_lists_lower for item in sublist]\n",
        "print(\"Numero de tokens unicos nuevos: \", len(set(tokens_lower)))"
      ]
    },
    {
      "cell_type": "markdown",
      "source": [
        "Con el tratamiento, se logró disminuir un total de 10.461 caracteres."
      ],
      "metadata": {
        "id": "BTJpQo7tRAZ5"
      }
    },
    {
      "cell_type": "code",
      "execution_count": 53,
      "metadata": {
        "colab": {
          "base_uri": "https://localhost:8080/"
        },
        "id": "33IALa4i9gB8",
        "outputId": "ad729555-b277-4196-f2d0-9d24b08e2a1f"
      },
      "outputs": [
        {
          "output_type": "stream",
          "name": "stdout",
          "text": [
            "{'\\xad', '🌎', '¯', '🕷', '👊', '❌', '😌', '👑', '\\ufeff', '🍪', '💀', '`', '💫', '️', '🙃', '\\x97', '🕸', '🇮', '\\x85', '😃', '✔', '·', '😉', '🎉', '¡', '$', '😇', '\\x99', '👺', '\"', '―', '☺', '*', '💖', '🌹', '{', '📣', '💝', '😥', '🤗', '➡', '😞', '£', '⭐', '😲', '🎬', '🏾', '✌', '🤷', '😍', '💬', '🤓', '😁', '❤', '，', '💜', '◽', '￼', '💕', '🍌', '🔜', '😫', '(', '´', '😮', '-', '✅', '\\x91', '+', '/', '🙂', '😒', '👍', '😶', '<', '′', '°', '😀', '⚠', '😊', '&', '¿', '۞', '🗣', '🇵', '🤛', '}', ']', '🤡', '、', '🤣', '😘', '？', '🇰', '😔', '☆', '😝', '—', '»', '🙄', '®', '♀', '💩', '🎦', '🗽', '💙', '¨', '●', ',', '!', '⏳', ':', '⛔', '😱', '🎥', '🏻', '–', '★', '😅', '🐐', '\\x96', '⚡', '😪', '🌍', '«', '😕', '>', '💯', '🤙', '😭', '^', '?', '💪', '.', '[', '🙌', '📵', '😂', '\\\\', '#', '=', '🤜', '🎭', '🌠', '💣', '%', '🌟', '😐', '😩', '🍿', '|', '♥', '💌', \"'\", '😟', '\\uf04a', '\\n', '🍾', '🤠', '😏', '😆', '🎵', '👨', '👎', '😳', '🏼', '👏', '👿', '@', '💥', '🙁', '♂', '″', '👌', '💔', '~', '\\u200d', '👀', ')', '🙏', '😄', '😎', '🔥', '🇳', '🤔', '_', '×', '😜', '😢', '❗', '🌚', '🔰', '🇹', ';', '😑', '🕺', '☝'}\n"
          ]
        }
      ],
      "source": [
        "# Seleccionando los caracteres no alfa numericos que no son espacios\n",
        "special_chars = df_spider.Review_text_new.apply(lambda x: [each for each in list(x) if not each.isalnum() and each != ' '])\n",
        "\n",
        "# obtener una lista de listas\n",
        "flat_list = [item for sublist in special_chars for item in sublist]\n",
        "\n",
        "# caracteres especiales unicos\n",
        "print(set(flat_list))"
      ]
    },
    {
      "cell_type": "code",
      "execution_count": 54,
      "metadata": {
        "id": "vzCaaBJ8M_Xv"
      },
      "outputs": [],
      "source": [
        "import re\n",
        "review_backup = df_spider.Review_text_new.copy()\n",
        "df_spider.Review_text_new = df_spider.Review_text_new.apply(\n",
        "    lambda x: re.sub('[^A-Za-z0-9 ]+', ' ', x)\n",
        ")"
      ]
    },
    {
      "cell_type": "code",
      "execution_count": 55,
      "metadata": {
        "colab": {
          "base_uri": "https://localhost:8080/",
          "height": 154
        },
        "id": "d0y19MBjNPg0",
        "outputId": "cc78a1fe-671a-4a10-cc39-7138a75c1fd5"
      },
      "outputs": [
        {
          "output_type": "stream",
          "name": "stdout",
          "text": [
            "Review anterior:\n"
          ]
        },
        {
          "output_type": "execute_result",
          "data": {
            "text/plain": [
              "\"the thing i hate about superhero movies is the origin story. after a multitude of spider-man stories, do we really need another retelling of his origin? that's the first - of many - things that spider-man: into the spider-verse does right. much like how grant morrison retold superman's beginnings in one page in all-star superman, this movie tells you everything you need to know within one minute and goes right into the action. it expects you to know the expected, but then once it makes you feel comfortable, it tears the rug out from under you.\\n\\nhere's the low down for those of you that don't read comics: there's more than one reality and more than one version of spider-man, who may not always be a man. written by phil lord and christopher miller, who left solo due to creative differences, this movie is pure joy from start to finish. if you know and love the characters, it's so amazing to see them treated properly on the big screen. and if you don't, it's so much fun to meet all new versions of a character you already love.\\n\\nbeyond the spidey you know and love, there's miles morales, a gifted teen who struggles to fit into a new school. he loves spider-man, is often at odds with his parents and looks up to his uncle aaron. while working on graffiti, he's bit by a radioactive spider and suddenly has the same abilities as his hero.\\n\\nafter a tragic incident when the real spidey battles the kingpin as that baddy tries to uses a particle accelerator to bring back his lost wife and son, miles must take on the mantle of a hero while working alongside the spiders of other dimensions: spider-gwen, spider-man noir, peter porker the spectacular spider-ham, and peni parker and sp//dr.\\n\\nthe voice talent in this movie is absolutely amazing: lily tomlin is the best aunt may ever, nicholas cage steals the show as spider-man noir, who is from a world where it's always black and white and smells like rain and it was great to hear comedian john mulaney as spider-ham.\\n\\nthere's so much of this movie that perfectly translates the language of comics in a way that few films have succeeded in accomplishing. ang lee's the hulk came close, but the animated styles of this film are constantly moving and even more alive than real action.\\n\\nit's also the first time i've seen a teenage world in a superhero movie that feels vibrant and now. nothing feels fake, phony or forced about the school scenes. and the music is just as powerful as the film.\\n\\nof all the stan lee cameos in the marvel films, the one here feels the most organic and perfect. it brought a tear to my eye when he sold miles the costume and told him that all the costumes eventually fit. kudos to the producers for remembering both lee and steve ditko at the film's end.\\n\\nin case you didn't pick it up, i give this movie my highest recommendation. while infinity war may be the best marvel movie ever, you need to have seen every single marvel movie ever to get that. this is the kind of film that becca could watch and enjoy without needing to open a single comic, which is just how she likes it. it's not only the best animated movie i've seen this year, it may be the best movie overall.\""
            ],
            "application/vnd.google.colaboratory.intrinsic+json": {
              "type": "string"
            }
          },
          "metadata": {},
          "execution_count": 55
        }
      ],
      "source": [
        "print(\"Review anterior:\")\n",
        "review_backup.values[6]"
      ]
    },
    {
      "cell_type": "code",
      "execution_count": 56,
      "metadata": {
        "colab": {
          "base_uri": "https://localhost:8080/",
          "height": 154
        },
        "id": "4HkaDj1-OkZ_",
        "outputId": "85f1392c-e747-4f83-b7c4-e791927ff027"
      },
      "outputs": [
        {
          "output_type": "stream",
          "name": "stdout",
          "text": [
            "Review nuevo:\n"
          ]
        },
        {
          "output_type": "execute_result",
          "data": {
            "text/plain": [
              "'the thing i hate about superhero movies is the origin story  after a multitude of spider man stories  do we really need another retelling of his origin  that s the first   of many   things that spider man  into the spider verse does right  much like how grant morrison retold superman s beginnings in one page in all star superman  this movie tells you everything you need to know within one minute and goes right into the action  it expects you to know the expected  but then once it makes you feel comfortable  it tears the rug out from under you here s the low down for those of you that don t read comics  there s more than one reality and more than one version of spider man  who may not always be a man  written by phil lord and christopher miller  who left solo due to creative differences  this movie is pure joy from start to finish  if you know and love the characters  it s so amazing to see them treated properly on the big screen  and if you don t  it s so much fun to meet all new versions of a character you already love beyond the spidey you know and love  there s miles morales  a gifted teen who struggles to fit into a new school  he loves spider man  is often at odds with his parents and looks up to his uncle aaron  while working on graffiti  he s bit by a radioactive spider and suddenly has the same abilities as his hero after a tragic incident when the real spidey battles the kingpin as that baddy tries to uses a particle accelerator to bring back his lost wife and son  miles must take on the mantle of a hero while working alongside the spiders of other dimensions  spider gwen  spider man noir  peter porker the spectacular spider ham  and peni parker and sp dr the voice talent in this movie is absolutely amazing  lily tomlin is the best aunt may ever  nicholas cage steals the show as spider man noir  who is from a world where it s always black and white and smells like rain and it was great to hear comedian john mulaney as spider ham there s so much of this movie that perfectly translates the language of comics in a way that few films have succeeded in accomplishing  ang lee s the hulk came close  but the animated styles of this film are constantly moving and even more alive than real action it s also the first time i ve seen a teenage world in a superhero movie that feels vibrant and now  nothing feels fake  phony or forced about the school scenes  and the music is just as powerful as the film of all the stan lee cameos in the marvel films  the one here feels the most organic and perfect  it brought a tear to my eye when he sold miles the costume and told him that all the costumes eventually fit  kudos to the producers for remembering both lee and steve ditko at the film s end in case you didn t pick it up  i give this movie my highest recommendation  while infinity war may be the best marvel movie ever  you need to have seen every single marvel movie ever to get that  this is the kind of film that becca could watch and enjoy without needing to open a single comic  which is just how she likes it  it s not only the best animated movie i ve seen this year  it may be the best movie overall '"
            ],
            "application/vnd.google.colaboratory.intrinsic+json": {
              "type": "string"
            }
          },
          "metadata": {},
          "execution_count": 56
        }
      ],
      "source": [
        "print(\"Review nuevo:\")\n",
        "df_spider.Review_text_new[6]"
      ]
    },
    {
      "cell_type": "code",
      "execution_count": 57,
      "metadata": {
        "colab": {
          "base_uri": "https://localhost:8080/"
        },
        "id": "8e2WQ3n2Z8MP",
        "outputId": "621d0d8b-9ee3-4459-cf8f-ecea8886e999"
      },
      "outputs": [
        {
          "output_type": "stream",
          "name": "stdout",
          "text": [
            "Numero de token unicos antes:  65311\n",
            "Numero de tokens unicos despues:  39792\n"
          ]
        }
      ],
      "source": [
        "token_lists = [word_tokenize(each) for each in df_spider.Review]\n",
        "tokens = [item for sublist in token_lists for item in sublist]\n",
        "print(\"Numero de token unicos antes: \", len(set(tokens)))\n",
        "\n",
        "token_lists = [word_tokenize(each) for each in df_spider.Review_text_new]\n",
        "tokens = [item for sublist in token_lists for item in sublist]\n",
        "print(\"Numero de tokens unicos despues: \", len(set(tokens)))"
      ]
    },
    {
      "cell_type": "markdown",
      "metadata": {
        "id": "OCwZ8BEUaU07"
      },
      "source": [
        "###**Remoción de stopword y palabras de alta frecuencia**\n",
        "\n",
        "Con la finalidad de encontrar las palabras de alta y baja frecuencia, se utilizará lo siguiente: el 1 % de las palabras que aparecen con más frecuencia en las reseñas, así como el 1 % de las palabras que aparecen con menos frecuencia en las reseñas (después de ajustar por mayúsculas y minúsculas y caracteres especiales).\n",
        "\n",
        "Todo lo anterior, es con la finalidad de agregar tanto las stopwords como las palabras de alta/baja frecuencia a las llamadas \"noise_words\", las cuales se eliminarán de las revisiones antes de entrenar los modelos de aprendizaje automático."
      ]
    },
    {
      "cell_type": "code",
      "execution_count": 58,
      "metadata": {
        "colab": {
          "base_uri": "https://localhost:8080/"
        },
        "id": "R9JV4vXUaUBW",
        "outputId": "5f89a549-ea35-4013-d3aa-a6a5b0966d75"
      },
      "outputs": [
        {
          "output_type": "stream",
          "name": "stdout",
          "text": [
            "179\n"
          ]
        },
        {
          "output_type": "stream",
          "name": "stderr",
          "text": [
            "[nltk_data] Downloading package stopwords to /root/nltk_data...\n",
            "[nltk_data]   Package stopwords is already up-to-date!\n"
          ]
        },
        {
          "output_type": "execute_result",
          "data": {
            "text/plain": [
              "['i',\n",
              " 'me',\n",
              " 'my',\n",
              " 'myself',\n",
              " 'we',\n",
              " 'our',\n",
              " 'ours',\n",
              " 'ourselves',\n",
              " 'you',\n",
              " \"you're\",\n",
              " \"you've\",\n",
              " \"you'll\",\n",
              " \"you'd\",\n",
              " 'your',\n",
              " 'yours',\n",
              " 'yourself',\n",
              " 'yourselves',\n",
              " 'he',\n",
              " 'him',\n",
              " 'his',\n",
              " 'himself',\n",
              " 'she',\n",
              " \"she's\",\n",
              " 'her',\n",
              " 'hers',\n",
              " 'herself',\n",
              " 'it',\n",
              " \"it's\",\n",
              " 'its',\n",
              " 'itself',\n",
              " 'they',\n",
              " 'them',\n",
              " 'their',\n",
              " 'theirs',\n",
              " 'themselves',\n",
              " 'what',\n",
              " 'which',\n",
              " 'who',\n",
              " 'whom',\n",
              " 'this',\n",
              " 'that',\n",
              " \"that'll\",\n",
              " 'these',\n",
              " 'those',\n",
              " 'am',\n",
              " 'is',\n",
              " 'are',\n",
              " 'was',\n",
              " 'were',\n",
              " 'be',\n",
              " 'been',\n",
              " 'being',\n",
              " 'have',\n",
              " 'has',\n",
              " 'had',\n",
              " 'having',\n",
              " 'do',\n",
              " 'does',\n",
              " 'did',\n",
              " 'doing',\n",
              " 'a',\n",
              " 'an',\n",
              " 'the',\n",
              " 'and',\n",
              " 'but',\n",
              " 'if',\n",
              " 'or',\n",
              " 'because',\n",
              " 'as',\n",
              " 'until',\n",
              " 'while',\n",
              " 'of',\n",
              " 'at',\n",
              " 'by',\n",
              " 'for',\n",
              " 'with',\n",
              " 'about',\n",
              " 'against',\n",
              " 'between',\n",
              " 'into',\n",
              " 'through',\n",
              " 'during',\n",
              " 'before',\n",
              " 'after',\n",
              " 'above',\n",
              " 'below',\n",
              " 'to',\n",
              " 'from',\n",
              " 'up',\n",
              " 'down',\n",
              " 'in',\n",
              " 'out',\n",
              " 'on',\n",
              " 'off',\n",
              " 'over',\n",
              " 'under',\n",
              " 'again',\n",
              " 'further',\n",
              " 'then',\n",
              " 'once',\n",
              " 'here',\n",
              " 'there',\n",
              " 'when',\n",
              " 'where',\n",
              " 'why',\n",
              " 'how',\n",
              " 'all',\n",
              " 'any',\n",
              " 'both',\n",
              " 'each',\n",
              " 'few',\n",
              " 'more',\n",
              " 'most',\n",
              " 'other',\n",
              " 'some',\n",
              " 'such',\n",
              " 'no',\n",
              " 'nor',\n",
              " 'not',\n",
              " 'only',\n",
              " 'own',\n",
              " 'same',\n",
              " 'so',\n",
              " 'than',\n",
              " 'too',\n",
              " 'very',\n",
              " 's',\n",
              " 't',\n",
              " 'can',\n",
              " 'will',\n",
              " 'just',\n",
              " 'don',\n",
              " \"don't\",\n",
              " 'should',\n",
              " \"should've\",\n",
              " 'now',\n",
              " 'd',\n",
              " 'll',\n",
              " 'm',\n",
              " 'o',\n",
              " 're',\n",
              " 've',\n",
              " 'y',\n",
              " 'ain',\n",
              " 'aren',\n",
              " \"aren't\",\n",
              " 'couldn',\n",
              " \"couldn't\",\n",
              " 'didn',\n",
              " \"didn't\",\n",
              " 'doesn',\n",
              " \"doesn't\",\n",
              " 'hadn',\n",
              " \"hadn't\",\n",
              " 'hasn',\n",
              " \"hasn't\",\n",
              " 'haven',\n",
              " \"haven't\",\n",
              " 'isn',\n",
              " \"isn't\",\n",
              " 'ma',\n",
              " 'mightn',\n",
              " \"mightn't\",\n",
              " 'mustn',\n",
              " \"mustn't\",\n",
              " 'needn',\n",
              " \"needn't\",\n",
              " 'shan',\n",
              " \"shan't\",\n",
              " 'shouldn',\n",
              " \"shouldn't\",\n",
              " 'wasn',\n",
              " \"wasn't\",\n",
              " 'weren',\n",
              " \"weren't\",\n",
              " 'won',\n",
              " \"won't\",\n",
              " 'wouldn',\n",
              " \"wouldn't\"]"
            ]
          },
          "metadata": {},
          "execution_count": 58
        }
      ],
      "source": [
        "import nltk\n",
        "nltk.download('stopwords')\n",
        "\n",
        "noise_words = []\n",
        "stopwords_corpus = nltk.corpus.stopwords\n",
        "eng_stop_words = stopwords_corpus.words('english')\n",
        "noise_words.extend(eng_stop_words)\n",
        "print(len(noise_words))\n",
        "noise_words"
      ]
    },
    {
      "cell_type": "code",
      "execution_count": 59,
      "metadata": {
        "colab": {
          "base_uri": "https://localhost:8080/"
        },
        "id": "1_290i8XalfL",
        "outputId": "d3aeb63e-0935-40a0-e49e-8f6c8eadeba8"
      },
      "outputs": [
        {
          "output_type": "execute_result",
          "data": {
            "text/plain": [
              "[('the', 241262),\n",
              " ('and', 121887),\n",
              " ('a', 101087),\n",
              " ('to', 93565),\n",
              " ('of', 87890),\n",
              " ('i', 75970),\n",
              " ('is', 72424),\n",
              " ('it', 71273),\n",
              " ('in', 59448),\n",
              " ('this', 53991)]"
            ]
          },
          "metadata": {},
          "execution_count": 59
        }
      ],
      "source": [
        "one_percentile = int(len(set(tokens)) * 0.01)\n",
        "top_1_percentile = Counter(tokens).most_common(one_percentile)\n",
        "top_1_percentile[:10]"
      ]
    },
    {
      "cell_type": "code",
      "execution_count": 60,
      "metadata": {
        "colab": {
          "base_uri": "https://localhost:8080/",
          "height": 501
        },
        "id": "fLSvZxrYaqhG",
        "outputId": "ba3ea1a0-68f9-4b44-e911-73a11ff7af8b"
      },
      "outputs": [
        {
          "output_type": "execute_result",
          "data": {
            "text/plain": [
              "Text(0, 0.5, 'Frecuencia')"
            ]
          },
          "metadata": {},
          "execution_count": 60
        },
        {
          "output_type": "display_data",
          "data": {
            "text/plain": [
              "<Figure size 640x480 with 1 Axes>"
            ],
            "image/png": "[encoded data removed]"
          },
          "metadata": {}
        }
      ],
      "source": [
        "pd.DataFrame(top_1_percentile[:10], columns=['Palabras','Frecuencia']).set_index('Palabras').plot(kind='bar')\n",
        "plt.title('Percentil 1 de palabras mas frecuentes')\n",
        "plt.xlabel('Palabras')\n",
        "plt.ylabel('Frecuencia')"
      ]
    },
    {
      "cell_type": "markdown",
      "source": [
        "Efectivamentem, una vez realizada la búsqueda de las palabras más frecuentes, tenemos que estas pertenecen a conectores, los cuales no ayudan a el análisis de sentimientos."
      ],
      "metadata": {
        "id": "l33lAACqTh6M"
      }
    },
    {
      "cell_type": "code",
      "execution_count": 61,
      "metadata": {
        "colab": {
          "base_uri": "https://localhost:8080/"
        },
        "id": "sHtSWKJ4axJd",
        "outputId": "79698623-62d3-47fa-c7c7-7116ba83b51d"
      },
      "outputs": [
        {
          "output_type": "execute_result",
          "data": {
            "text/plain": [
              "[('goooooo', 1),\n",
              " ('kala', 1),\n",
              " ('khaled', 1),\n",
              " ('cindi', 1),\n",
              " ('cubic', 1),\n",
              " ('domains', 1),\n",
              " ('clara', 1),\n",
              " ('col', 1),\n",
              " ('utc', 1),\n",
              " ('hbd', 1)]"
            ]
          },
          "metadata": {},
          "execution_count": 61
        }
      ],
      "source": [
        "bottom_1_percentile = Counter(tokens).most_common()[-one_percentile:]\n",
        "bottom_1_percentile[:10]"
      ]
    },
    {
      "cell_type": "code",
      "execution_count": 62,
      "metadata": {
        "id": "VGZOa5gza0wi"
      },
      "outputs": [],
      "source": [
        "noise_words.extend([word for word,val in top_1_percentile])\n",
        "noise_words.extend([word for word,val in bottom_1_percentile])"
      ]
    },
    {
      "cell_type": "markdown",
      "metadata": {
        "id": "rDlvShcFa8cB"
      },
      "source": [
        "## **Stemming y Lemanización**"
      ]
    },
    {
      "cell_type": "code",
      "execution_count": 63,
      "metadata": {
        "colab": {
          "base_uri": "https://localhost:8080/"
        },
        "id": "Xo6DbfmgbDKN",
        "outputId": "d36f8141-e838-47fd-9561-1c4f681ee9d4"
      },
      "outputs": [
        {
          "output_type": "stream",
          "name": "stderr",
          "text": [
            "[nltk_data] Downloading package wordnet to /root/nltk_data...\n",
            "[nltk_data]   Package wordnet is already up-to-date!\n"
          ]
        }
      ],
      "source": [
        "from nltk.stem import PorterStemmer, WordNetLemmatizer, LancasterStemmer\n",
        "\n",
        "nltk.download('wordnet')\n",
        "\n",
        "from nltk.corpus import wordnet\n",
        "\n",
        "porter = PorterStemmer()\n",
        "lancaster = LancasterStemmer()\n",
        "lemmatizer = WordNetLemmatizer()"
      ]
    },
    {
      "cell_type": "code",
      "execution_count": 64,
      "metadata": {
        "colab": {
          "base_uri": "https://localhost:8080/"
        },
        "id": "6LI32nmubIBL",
        "outputId": "3166f2e0-ccf9-4ffa-991b-a7354d2d91e0"
      },
      "outputs": [
        {
          "output_type": "stream",
          "name": "stderr",
          "text": [
            "[nltk_data] Downloading package omw-1.4 to /root/nltk_data...\n",
            "[nltk_data]   Package omw-1.4 is already up-to-date!\n"
          ]
        },
        {
          "output_type": "execute_result",
          "data": {
            "text/plain": [
              "True"
            ]
          },
          "metadata": {},
          "execution_count": 64
        }
      ],
      "source": [
        "nltk.download('omw-1.4')"
      ]
    },
    {
      "cell_type": "code",
      "execution_count": 65,
      "metadata": {
        "colab": {
          "base_uri": "https://localhost:8080/"
        },
        "id": "1L9L8B37bLUV",
        "outputId": "b64b7fa4-cb04-4018-ff5b-0df4f100a870"
      },
      "outputs": [
        {
          "output_type": "stream",
          "name": "stdout",
          "text": [
            "Lancaster Stemmer\n",
            "troubl\n",
            "troubl\n",
            "troubl\n",
            "WordNet Lemmatizer\n",
            "trouble\n",
            "trouble\n",
            "trouble\n"
          ]
        }
      ],
      "source": [
        "print(\"Lancaster Stemmer\")\n",
        "print(lancaster.stem(\"trouble\"))\n",
        "print(lancaster.stem(\"troubling\"))\n",
        "print(lancaster.stem(\"troubled\"))\n",
        "\n",
        "# Proveer una palabra que sera lemantizada\n",
        "print(\"WordNet Lemmatizer\")\n",
        "print(lemmatizer.lemmatize(\"trouble\", wordnet.NOUN))\n",
        "print(lemmatizer.lemmatize(\"troubling\", wordnet.VERB))\n",
        "print(lemmatizer.lemmatize(\"troubled\", wordnet.VERB))"
      ]
    },
    {
      "cell_type": "code",
      "execution_count": 66,
      "metadata": {
        "colab": {
          "base_uri": "https://localhost:8080/",
          "height": 419
        },
        "id": "2qMSQLfzb1oR",
        "outputId": "a19afff7-4deb-40ea-a5cd-88e91e4ef44a"
      },
      "outputs": [
        {
          "output_type": "execute_result",
          "data": {
            "text/plain": [
              "                                         Review_text_new  Rating  \\\n",
              "0       spider man  into the spider verse  is a fanta...    10.0   \n",
              "1      the worlds of superhero movies and superhero c...     8.0   \n",
              "2      a movie worthy of stan lee s approval  incredi...    10.0   \n",
              "3      so many have commented  so i will be brief  fr...    10.0   \n",
              "4      have you ever sat through a film and you knew ...    10.0   \n",
              "...                                                  ...     ...   \n",
              "21223  love what marvel sony just did very good idea ...    10.0   \n",
              "21224  this film is amazing  the best spider man film...    10.0   \n",
              "21225  one of the marvel s masterpiece  super excelle...    10.0   \n",
              "21226  the originals have always been my fav spiderma...     9.0   \n",
              "21227  this movie feels suprisingly somber for a marv...     9.0   \n",
              "\n",
              "       Sentiment_rating  \n",
              "0                     1  \n",
              "1                     1  \n",
              "2                     1  \n",
              "3                     1  \n",
              "4                     1  \n",
              "...                 ...  \n",
              "21223                 1  \n",
              "21224                 1  \n",
              "21225                 1  \n",
              "21226                 1  \n",
              "21227                 1  \n",
              "\n",
              "[21228 rows x 3 columns]"
            ],
            "text/html": [
              "\n",
              "  <div id=\"df-fb0a83a5-0658-4f1c-882b-bf449bf78773\" class=\"colab-df-container\">\n",
              "    <div>\n",
              "<style scoped>\n",
              "    .dataframe tbody tr th:only-of-type {\n",
              "        vertical-align: middle;\n",
              "    }\n",
              "\n",
              "    .dataframe tbody tr th {\n",
              "        vertical-align: top;\n",
              "    }\n",
              "\n",
              "    .dataframe thead th {\n",
              "        text-align: right;\n",
              "    }\n",
              "</style>\n",
              "<table border=\"1\" class=\"dataframe\">\n",
              "  <thead>\n",
              "    <tr style=\"text-align: right;\">\n",
              "      <th></th>\n",
              "      <th>Review_text_new</th>\n",
              "      <th>Rating</th>\n",
              "      <th>Sentiment_rating</th>\n",
              "    </tr>\n",
              "  </thead>\n",
              "  <tbody>\n",
              "    <tr>\n",
              "      <th>0</th>\n",
              "      <td>spider man  into the spider verse  is a fanta...</td>\n",
              "      <td>10.0</td>\n",
              "      <td>1</td>\n",
              "    </tr>\n",
              "    <tr>\n",
              "      <th>1</th>\n",
              "      <td>the worlds of superhero movies and superhero c...</td>\n",
              "      <td>8.0</td>\n",
              "      <td>1</td>\n",
              "    </tr>\n",
              "    <tr>\n",
              "      <th>2</th>\n",
              "      <td>a movie worthy of stan lee s approval  incredi...</td>\n",
              "      <td>10.0</td>\n",
              "      <td>1</td>\n",
              "    </tr>\n",
              "    <tr>\n",
              "      <th>3</th>\n",
              "      <td>so many have commented  so i will be brief  fr...</td>\n",
              "      <td>10.0</td>\n",
              "      <td>1</td>\n",
              "    </tr>\n",
              "    <tr>\n",
              "      <th>4</th>\n",
              "      <td>have you ever sat through a film and you knew ...</td>\n",
              "      <td>10.0</td>\n",
              "      <td>1</td>\n",
              "    </tr>\n",
              "    <tr>\n",
              "      <th>...</th>\n",
              "      <td>...</td>\n",
              "      <td>...</td>\n",
              "      <td>...</td>\n",
              "    </tr>\n",
              "    <tr>\n",
              "      <th>21223</th>\n",
              "      <td>love what marvel sony just did very good idea ...</td>\n",
              "      <td>10.0</td>\n",
              "      <td>1</td>\n",
              "    </tr>\n",
              "    <tr>\n",
              "      <th>21224</th>\n",
              "      <td>this film is amazing  the best spider man film...</td>\n",
              "      <td>10.0</td>\n",
              "      <td>1</td>\n",
              "    </tr>\n",
              "    <tr>\n",
              "      <th>21225</th>\n",
              "      <td>one of the marvel s masterpiece  super excelle...</td>\n",
              "      <td>10.0</td>\n",
              "      <td>1</td>\n",
              "    </tr>\n",
              "    <tr>\n",
              "      <th>21226</th>\n",
              "      <td>the originals have always been my fav spiderma...</td>\n",
              "      <td>9.0</td>\n",
              "      <td>1</td>\n",
              "    </tr>\n",
              "    <tr>\n",
              "      <th>21227</th>\n",
              "      <td>this movie feels suprisingly somber for a marv...</td>\n",
              "      <td>9.0</td>\n",
              "      <td>1</td>\n",
              "    </tr>\n",
              "  </tbody>\n",
              "</table>\n",
              "<p>21228 rows × 3 columns</p>\n",
              "</div>\n",
              "    <div class=\"colab-df-buttons\">\n",
              "\n",
              "  <div class=\"colab-df-container\">\n",
              "    <button class=\"colab-df-convert\" onclick=\"convertToInteractive('df-fb0a83a5-0658-4f1c-882b-bf449bf78773')\"\n",
              "            title=\"Convert this dataframe to an interactive table.\"\n",
              "            style=\"display:none;\">\n",
              "\n",
              "  <svg xmlns=\"http://www.w3.org/2000/svg\" height=\"24px\" viewBox=\"0 -960 960 960\">\n",
              "    <path d=\"M120-120v-720h720v720H120Zm60-500h600v-160H180v160Zm220 220h160v-160H400v160Zm0 220h160v-160H400v160ZM180-400h160v-160H180v160Zm440 0h160v-160H620v160ZM180-180h160v-160H180v160Zm440 0h160v-160H620v160Z\"/>\n",
              "  </svg>\n",
              "    </button>\n",
              "\n",
              "  <style>\n",
              "    .colab-df-container {\n",
              "      display:flex;\n",
              "      gap: 12px;\n",
              "    }\n",
              "\n",
              "    .colab-df-convert {\n",
              "      background-color: #E8F0FE;\n",
              "      border: none;\n",
              "      border-radius: 50%;\n",
              "      cursor: pointer;\n",
              "      display: none;\n",
              "      fill: #1967D2;\n",
              "      height: 32px;\n",
              "      padding: 0 0 0 0;\n",
              "      width: 32px;\n",
              "    }\n",
              "\n",
              "    .colab-df-convert:hover {\n",
              "      background-color: #E2EBFA;\n",
              "      box-shadow: 0px 1px 2px rgba(60, 64, 67, 0.3), 0px 1px 3px 1px rgba(60, 64, 67, 0.15);\n",
              "      fill: #174EA6;\n",
              "    }\n",
              "\n",
              "    .colab-df-buttons div {\n",
              "      margin-bottom: 4px;\n",
              "    }\n",
              "\n",
              "    [theme=dark] .colab-df-convert {\n",
              "      background-color: #3B4455;\n",
              "      fill: #D2E3FC;\n",
              "    }\n",
              "\n",
              "    [theme=dark] .colab-df-convert:hover {\n",
              "      background-color: #434B5C;\n",
              "      box-shadow: 0px 1px 3px 1px rgba(0, 0, 0, 0.15);\n",
              "      filter: drop-shadow(0px 1px 2px rgba(0, 0, 0, 0.3));\n",
              "      fill: #FFFFFF;\n",
              "    }\n",
              "  </style>\n",
              "\n",
              "    <script>\n",
              "      const buttonEl =\n",
              "        document.querySelector('#df-fb0a83a5-0658-4f1c-882b-bf449bf78773 button.colab-df-convert');\n",
              "      buttonEl.style.display =\n",
              "        google.colab.kernel.accessAllowed ? 'block' : 'none';\n",
              "\n",
              "      async function convertToInteractive(key) {\n",
              "        const element = document.querySelector('#df-fb0a83a5-0658-4f1c-882b-bf449bf78773');\n",
              "        const dataTable =\n",
              "          await google.colab.kernel.invokeFunction('convertToInteractive',\n",
              "                                                    [key], {});\n",
              "        if (!dataTable) return;\n",
              "\n",
              "        const docLinkHtml = 'Like what you see? Visit the ' +\n",
              "          '<a target=\"_blank\" href=https://colab.research.google.com/notebooks/data_table.ipynb>data table notebook</a>'\n",
              "          + ' to learn more about interactive tables.';\n",
              "        element.innerHTML = '';\n",
              "        dataTable['output_type'] = 'display_data';\n",
              "        await google.colab.output.renderOutput(dataTable, element);\n",
              "        const docLink = document.createElement('div');\n",
              "        docLink.innerHTML = docLinkHtml;\n",
              "        element.appendChild(docLink);\n",
              "      }\n",
              "    </script>\n",
              "  </div>\n",
              "\n",
              "\n",
              "<div id=\"df-bd0cac31-0b35-4b3f-812c-85cfe123849f\">\n",
              "  <button class=\"colab-df-quickchart\" onclick=\"quickchart('df-bd0cac31-0b35-4b3f-812c-85cfe123849f')\"\n",
              "            title=\"Suggest charts\"\n",
              "            style=\"display:none;\">\n",
              "\n",
              "<svg xmlns=\"http://www.w3.org/2000/svg\" height=\"24px\"viewBox=\"0 0 24 24\"\n",
              "     width=\"24px\">\n",
              "    <g>\n",
              "        <path d=\"M19 3H5c-1.1 0-2 .9-2 2v14c0 1.1.9 2 2 2h14c1.1 0 2-.9 2-2V5c0-1.1-.9-2-2-2zM9 17H7v-7h2v7zm4 0h-2V7h2v10zm4 0h-2v-4h2v4z\"/>\n",
              "    </g>\n",
              "</svg>\n",
              "  </button>\n",
              "\n",
              "<style>\n",
              "  .colab-df-quickchart {\n",
              "      --bg-color: #E8F0FE;\n",
              "      --fill-color: #1967D2;\n",
              "      --hover-bg-color: #E2EBFA;\n",
              "      --hover-fill-color: #174EA6;\n",
              "      --disabled-fill-color: #AAA;\n",
              "      --disabled-bg-color: #DDD;\n",
              "  }\n",
              "\n",
              "  [theme=dark] .colab-df-quickchart {\n",
              "      --bg-color: #3B4455;\n",
              "      --fill-color: #D2E3FC;\n",
              "      --hover-bg-color: #434B5C;\n",
              "      --hover-fill-color: #FFFFFF;\n",
              "      --disabled-bg-color: #3B4455;\n",
              "      --disabled-fill-color: #666;\n",
              "  }\n",
              "\n",
              "  .colab-df-quickchart {\n",
              "    background-color: var(--bg-color);\n",
              "    border: none;\n",
              "    border-radius: 50%;\n",
              "    cursor: pointer;\n",
              "    display: none;\n",
              "    fill: var(--fill-color);\n",
              "    height: 32px;\n",
              "    padding: 0;\n",
              "    width: 32px;\n",
              "  }\n",
              "\n",
              "  .colab-df-quickchart:hover {\n",
              "    background-color: var(--hover-bg-color);\n",
              "    box-shadow: 0 1px 2px rgba(60, 64, 67, 0.3), 0 1px 3px 1px rgba(60, 64, 67, 0.15);\n",
              "    fill: var(--button-hover-fill-color);\n",
              "  }\n",
              "\n",
              "  .colab-df-quickchart-complete:disabled,\n",
              "  .colab-df-quickchart-complete:disabled:hover {\n",
              "    background-color: var(--disabled-bg-color);\n",
              "    fill: var(--disabled-fill-color);\n",
              "    box-shadow: none;\n",
              "  }\n",
              "\n",
              "  .colab-df-spinner {\n",
              "    border: 2px solid var(--fill-color);\n",
              "    border-color: transparent;\n",
              "    border-bottom-color: var(--fill-color);\n",
              "    animation:\n",
              "      spin 1s steps(1) infinite;\n",
              "  }\n",
              "\n",
              "  @keyframes spin {\n",
              "    0% {\n",
              "      border-color: transparent;\n",
              "      border-bottom-color: var(--fill-color);\n",
              "      border-left-color: var(--fill-color);\n",
              "    }\n",
              "    20% {\n",
              "      border-color: transparent;\n",
              "      border-left-color: var(--fill-color);\n",
              "      border-top-color: var(--fill-color);\n",
              "    }\n",
              "    30% {\n",
              "      border-color: transparent;\n",
              "      border-left-color: var(--fill-color);\n",
              "      border-top-color: var(--fill-color);\n",
              "      border-right-color: var(--fill-color);\n",
              "    }\n",
              "    40% {\n",
              "      border-color: transparent;\n",
              "      border-right-color: var(--fill-color);\n",
              "      border-top-color: var(--fill-color);\n",
              "    }\n",
              "    60% {\n",
              "      border-color: transparent;\n",
              "      border-right-color: var(--fill-color);\n",
              "    }\n",
              "    80% {\n",
              "      border-color: transparent;\n",
              "      border-right-color: var(--fill-color);\n",
              "      border-bottom-color: var(--fill-color);\n",
              "    }\n",
              "    90% {\n",
              "      border-color: transparent;\n",
              "      border-bottom-color: var(--fill-color);\n",
              "    }\n",
              "  }\n",
              "</style>\n",
              "\n",
              "  <script>\n",
              "    async function quickchart(key) {\n",
              "      const quickchartButtonEl =\n",
              "        document.querySelector('#' + key + ' button');\n",
              "      quickchartButtonEl.disabled = true;  // To prevent multiple clicks.\n",
              "      quickchartButtonEl.classList.add('colab-df-spinner');\n",
              "      try {\n",
              "        const charts = await google.colab.kernel.invokeFunction(\n",
              "            'suggestCharts', [key], {});\n",
              "      } catch (error) {\n",
              "        console.error('Error during call to suggestCharts:', error);\n",
              "      }\n",
              "      quickchartButtonEl.classList.remove('colab-df-spinner');\n",
              "      quickchartButtonEl.classList.add('colab-df-quickchart-complete');\n",
              "    }\n",
              "    (() => {\n",
              "      let quickchartButtonEl =\n",
              "        document.querySelector('#df-bd0cac31-0b35-4b3f-812c-85cfe123849f button');\n",
              "      quickchartButtonEl.style.display =\n",
              "        google.colab.kernel.accessAllowed ? 'block' : 'none';\n",
              "    })();\n",
              "  </script>\n",
              "</div>\n",
              "\n",
              "    </div>\n",
              "  </div>\n"
            ],
            "application/vnd.google.colaboratory.intrinsic+json": {
              "type": "dataframe",
              "summary": "{\n  \"name\": \"df_spider[['Review_text_new','Rating', 'Sentiment_rating']]\",\n  \"rows\": 21228,\n  \"fields\": [\n    {\n      \"column\": \"Review_text_new\",\n      \"properties\": {\n        \"dtype\": \"string\",\n        \"num_unique_values\": 21130,\n        \"samples\": [\n          \"the amazing spider man actually took me by surprise  i expected it to be mediocre seeing as how the only reason this movie was created was so that columbia pictures could keep the rights to the spider man series  as disappointing as it was to hear this info i can actually say that they did good with this movie  is it perfect  no  but i can say i liked it a bit better the first spider man movie had issues with technology  for the time it was good and all but it hasn t aged well  the way spider man was portrayed in the previous films was that he was so awkward he could barely talk in complete sentences which always bugged me  no pun intended  however this new spider man is actually likable  is interesting  and is still awkward but in a much more realistic manner  the previous spider man was so awkward it was almost unbearable and unrealistic and mary jane always annoyed me  however in this movie andrew garfield and emma stone both do a great job  the way peter parker is portrayed is much better  funnier  and still serious at the same time  gwen stacy is also very well done though the only problem i have with her is that she is supposed to be 17  and she looks older than that the lizard is also pretty well done in this movie  he gets enough screen time and action to be a pretty cool villain  if there was one complaint i had with him is that i wish they would ve his face look more lizard ish  i know they are making him look like the very original lizard but i think his face still looked a little awkward  though the cgi is very well done on the lizard  i also liked that they didn t make curt connor s really evil  just insane because of the serum  also the fact that they didn t kill him off makes me happy  i wouldn t mind seeing him again sometime the movie s strong points is that i found the villain much more interesting that the green goblin and his lizard form wasn t revealed too early on  i found the characters rather likable but uncle ben had really stupid logic  in one scene where peter parker utterly embarrasses the school bully  flash thompson  uncle ben doesn t approve of it and says that peter parker shouldn t take  revenge  this was the dumbest line in the movie seeing as how peter was proving a point that flash thompson isn t as tough as he thinks he is  peter didn t hurt him  he simply embarrassed him  another dumb thing is that a cop shoots at spider man when he is only casually walking along  that is illegal on many levels and is dumb altogether either way i found this movie rather enjoyable and a bit more interesting than the previous attempt at a spider man movie  all of the issues of the last movie are actually done right such as  gwen knowing peter s identity early on  the lizard doesn t die  peter isn t awkward  and also the very last couple seconds of the movie are also very nice and changes what would ve been a clich  sad ending into something a little bit more  good movie  but not perfect \",\n          \"the potential for subject lines here are as infinite as where i could start with just how bad this movie is  bad maybe an exaggeration  knowing what i know about spider man and of raimi s work  it is bad  the movie by itself is barely average  in the echelon of the trilogy  this movie would be dead last  i haven t been this disappointed by a finale of a trilogy since matrix revolutions  i m not counting revenge of the sith because in all honesty we knew it was going to be bad from the beginning  it is somewhere in the void of  it s so bad its decent  the second movie is the best in the trilogy and one of the best  comic book movies  made  this one meanders from the start with the opening credits involving a montage of scenes from the first two movies  minus alex ross  did i just have my memory wiped  no  that would be one of the main characters  more on this later where as the first movie was relatively slow  i can understand that the character and story development was needed  the follow up had all the elements in all the right proportions  part three simply tries to be better by sheer force  if 1 villain was good  then 3 must be 3 times better  right  wrong  if the trial  tribulations and personal problems of peter parker was meaningful to the character s development  then dropping a truck load of melodrama will make it that much better  right  wrong  there is just too much of everything  except action  for those that thought death proof was boring  the first half of this movie will have you sucking down a extra super large coke just to maintain a semblance of consciousness  i felt like maybe barbara walters and her view cronies had written aspects of the script  i know peter parker is not your typical superhero  who often delves into his personal life and emotion  but did we have to give him estrogen therapy  others have called this movie  dark  and full of revenge  by dark they must have meant the costume and or lighting and by revenge they must not have seen oldboy  or any of chan wook park s revenge trilogy  there are too many nemeses  too much meaning less dialog and situations we have already dealt with in some form and not enough new things  all the growth and development is at the end and done in such a lackadaisically talk show like moment  i m not even going to comment on the crappy and sudden  sunset  ending or the  apology  ugh  now i have to gargle some stolichnaya to keep the vomit down there are few things that are good  the thing that foremost stood out in my mind is sandman  i m not talking about the character  but the cg creation  it is simply amazing and left me in awe  the venom character is also impressive  but it did not resonate with me as much as sandman  maybe that was because eric forman kept talking out of the creature  with unscripted comic high jinks  i was half expecting a chevy chase like pratfall somewhere  i think this is more of a problem with the actor than the character  the only other standout for me is the incomparable bruce campbell  he single handedly outshines any of the marquee names in this movie  and he does this with a very limited screen time  and is one of the most vastly underrated actors out there  the black suited spider man is also interesting and has a couple of nice moments  but overall felt underwhelming  more is better equation again  the few good moments  peter s dark side dancing included  are overwhelmed by repetition and muffled by long stretches of nothing the movie is a summer blockbuster gone bad  it was almost as if everyone involved was forced to work on this movie out of contractual obligations  it is completely soulless and the antithesis of the previous two movies  even new york is missing  replaced by a generic looking metropolis  this would seem to be the case if you heard the way tobe maguire and kirsten dunst speaking on the  promotion tour  of the movie  i would be surprised if either of them  or the director  hook up for a fourth movie  this of course does not take in account the money and people s desire to sell as much of themselves as possible  it just seemed that everyone was tired of it all  tobe plays spider man in either a  robot mimic  style or an over the top emotional fake  does spider man even need a costume anymore  everyone seems to know who he is  was raimi looking towards the recent marvel house of m and civil war events for inspiration  dunst is back to playing the flat mary jane  who yet again is only good for kissing and requires constant rescuing  topher grace just doesn t fill up venom s suit well and his acting acumen has not elevated him past eric forman yet  sandman as character made me yawn  about the only good characterization  apart from bruce campbell  would have to be james franco  harry osbourne  he is the only one who actually looks like he cares  too bad he gets amnesia  his motivations change more times than a manual transmission and his butler has a sudden outbreak of alzheimer s i didn t even mention the story  but that s mostly cause it just seems to be a collection of coincidences  one could say a reader s digest edited version of the best of spider man  this movie reminds me much of the x men 3 movie except that movie made me laugh my ass off  unintentionally of course  i actually had high expectations for this movie  albeit i had a feeling it was going to try too much  i didn t expect too much to equal bad  unless you are a teen  pre teen or a drooling vegetable  you are probably not going to enjoy this movie much  go back and see the previous two movies for your spider man craving \",\n          \"hilarious  brilliant  and action packed  all the stars are being given for this  a spider man movie based around one of my favorite topics  what could be better  i loved this movie  it was witty  the timing was perfect  and the storyline was interesting and unique to itself  watching it made me want to read all of the spider man comics  which i ve only read a few of  but now  knowing all their stories are likely real  i need to play catch up  xd if you haven t seen it yet  i highly recommend it \"\n        ],\n        \"semantic_type\": \"\",\n        \"description\": \"\"\n      }\n    },\n    {\n      \"column\": \"Rating\",\n      \"properties\": {\n        \"dtype\": \"number\",\n        \"std\": 2.728996921559054,\n        \"min\": 1.0,\n        \"max\": 10.0,\n        \"num_unique_values\": 10,\n        \"samples\": [\n          1.0,\n          8.0,\n          5.0\n        ],\n        \"semantic_type\": \"\",\n        \"description\": \"\"\n      }\n    },\n    {\n      \"column\": \"Sentiment_rating\",\n      \"properties\": {\n        \"dtype\": \"number\",\n        \"std\": 0,\n        \"min\": 0,\n        \"max\": 1,\n        \"num_unique_values\": 2,\n        \"samples\": [\n          0,\n          1\n        ],\n        \"semantic_type\": \"\",\n        \"description\": \"\"\n      }\n    }\n  ]\n}"
            }
          },
          "metadata": {},
          "execution_count": 66
        }
      ],
      "source": [
        "df_spider[['Review_text_new','Rating', 'Sentiment_rating']]"
      ]
    },
    {
      "cell_type": "markdown",
      "metadata": {
        "id": "4eYwLU_2cPAC"
      },
      "source": [
        "## **Vectorización BOW**"
      ]
    },
    {
      "cell_type": "code",
      "execution_count": 67,
      "metadata": {
        "id": "_GXxlb6bcUan"
      },
      "outputs": [],
      "source": [
        "# Creacion de metodo para stemming\n",
        "from nltk.stem import PorterStemmer\n",
        "\n",
        "stemmer = PorterStemmer()\n",
        "analyzer = CountVectorizer().build_analyzer()\n",
        "\n",
        "def stemmed_words(doc):\n",
        "    return (stemmer.stem(w) for w in analyzer(doc))"
      ]
    },
    {
      "cell_type": "code",
      "execution_count": 68,
      "metadata": {
        "id": "E7ECOOb5cYjW"
      },
      "outputs": [],
      "source": [
        "# Creacion de un objeto tipo CountVectorizer\n",
        "bow_counts = CountVectorizer(\n",
        "    tokenizer=word_tokenize,\n",
        "    stop_words=noise_words,\n",
        "    ngram_range=(1, 4)\n",
        ")"
      ]
    },
    {
      "cell_type": "code",
      "execution_count": 69,
      "metadata": {
        "id": "UGXsq2cncdjE"
      },
      "outputs": [],
      "source": [
        "reviews_train, reviews_test = train_test_split(df_spider, test_size=0.2, random_state=0)"
      ]
    },
    {
      "cell_type": "code",
      "execution_count": 70,
      "metadata": {
        "colab": {
          "base_uri": "https://localhost:8080/"
        },
        "id": "4q5DxFvrcjm7",
        "outputId": "13c6c01d-a5e9-4734-ee02-4864370a7f29"
      },
      "outputs": [
        {
          "output_type": "stream",
          "name": "stderr",
          "text": [
            "/usr/local/lib/python3.11/dist-packages/sklearn/feature_extraction/text.py:517: UserWarning: The parameter 'token_pattern' will not be used since 'tokenizer' is not None'\n",
            "  warnings.warn(\n",
            "/usr/local/lib/python3.11/dist-packages/sklearn/feature_extraction/text.py:402: UserWarning: Your stop_words may be inconsistent with your preprocessing. Tokenizing the stop words generated tokens [\"'d\", \"'ll\", \"'re\", \"'s\", \"'ve\", \"n't\", 'sha', 'wo'] not in stop_words.\n",
            "  warnings.warn(\n"
          ]
        }
      ],
      "source": [
        "X_train_bow = bow_counts.fit_transform(reviews_train.Review_text_new)\n",
        "X_test_bow = bow_counts.transform(reviews_test.Review_text_new)"
      ]
    },
    {
      "cell_type": "code",
      "execution_count": 71,
      "metadata": {
        "id": "5wU88jDocrSC"
      },
      "outputs": [],
      "source": [
        "X_train_bow = bow_counts.fit_transform(reviews_train.Review_text_new)\n",
        "X_test_bow = bow_counts.transform(reviews_test.Review_text_new)"
      ]
    },
    {
      "cell_type": "code",
      "execution_count": 72,
      "metadata": {
        "id": "fT3Aclagc81W"
      },
      "outputs": [],
      "source": [
        "y_train_bow = reviews_train['Sentiment_rating']\n",
        "y_test_bow = reviews_test['Sentiment_rating']"
      ]
    },
    {
      "cell_type": "code",
      "execution_count": 73,
      "metadata": {
        "colab": {
          "base_uri": "https://localhost:8080/",
          "height": 176
        },
        "id": "BN8JvQdFc2ow",
        "outputId": "b6344e40-8b6e-455e-f3d6-f0ac601f37e9"
      },
      "outputs": [
        {
          "output_type": "execute_result",
          "data": {
            "text/plain": [
              "Sentiment_rating\n",
              "1    0.737871\n",
              "0    0.262129\n",
              "Name: count, dtype: float64"
            ],
            "text/html": [
              "<div>\n",
              "<style scoped>\n",
              "    .dataframe tbody tr th:only-of-type {\n",
              "        vertical-align: middle;\n",
              "    }\n",
              "\n",
              "    .dataframe tbody tr th {\n",
              "        vertical-align: top;\n",
              "    }\n",
              "\n",
              "    .dataframe thead th {\n",
              "        text-align: right;\n",
              "    }\n",
              "</style>\n",
              "<table border=\"1\" class=\"dataframe\">\n",
              "  <thead>\n",
              "    <tr style=\"text-align: right;\">\n",
              "      <th></th>\n",
              "      <th>count</th>\n",
              "    </tr>\n",
              "    <tr>\n",
              "      <th>Sentiment_rating</th>\n",
              "      <th></th>\n",
              "    </tr>\n",
              "  </thead>\n",
              "  <tbody>\n",
              "    <tr>\n",
              "      <th>1</th>\n",
              "      <td>0.737871</td>\n",
              "    </tr>\n",
              "    <tr>\n",
              "      <th>0</th>\n",
              "      <td>0.262129</td>\n",
              "    </tr>\n",
              "  </tbody>\n",
              "</table>\n",
              "</div><br><label><b>dtype:</b> float64</label>"
            ]
          },
          "metadata": {},
          "execution_count": 73
        }
      ],
      "source": [
        "y_test_bow.value_counts() / y_test_bow.shape[0]"
      ]
    },
    {
      "cell_type": "markdown",
      "metadata": {
        "id": "qU5DFNXJdDTn"
      },
      "source": [
        "Los datos presentan un 73,7% de opiniones positivas."
      ]
    },
    {
      "cell_type": "markdown",
      "metadata": {
        "id": "G-nq0rhMTviV"
      },
      "source": [
        "## **Modelado**"
      ]
    },
    {
      "cell_type": "markdown",
      "metadata": {
        "id": "6Y0y5ysjdRpo"
      },
      "source": [
        "### **Regresión Logistica**"
      ]
    },
    {
      "cell_type": "code",
      "execution_count": 74,
      "metadata": {
        "colab": {
          "base_uri": "https://localhost:8080/"
        },
        "id": "_H_xrYMjEcBs",
        "outputId": "62bb4c1c-fa34-419e-8536-9bba7143b1ac"
      },
      "outputs": [
        {
          "output_type": "stream",
          "name": "stdout",
          "text": [
            "F1 score:  0.8824860461608086\n",
            "Accuracy:  81.65332077249175\n"
          ]
        }
      ],
      "source": [
        "# Entrenar el modelo\n",
        "lr_model_all = LogisticRegression(C=1, solver=\"liblinear\")\n",
        "lr_model_all.fit(X_train_bow, y_train_bow)\n",
        "\n",
        "# Predecir el output\n",
        "test_pred_lr_prob = lr_model_all.predict_proba(X_test_bow)\n",
        "test_pred_lr_all = lr_model_all.predict(X_test_bow)\n",
        "\n",
        "print(\"F1 score: \", f1_score(y_test_bow, test_pred_lr_all))\n",
        "print(\"Accuracy: \", accuracy_score(y_test_bow, test_pred_lr_all) * 100)"
      ]
    },
    {
      "cell_type": "code",
      "execution_count": 75,
      "metadata": {
        "colab": {
          "base_uri": "https://localhost:8080/"
        },
        "id": "K6O8MiYiqU_s",
        "outputId": "6e2c1ca2-7cea-48cd-ad84-ff5c6eba8403"
      },
      "outputs": [
        {
          "output_type": "execute_result",
          "data": {
            "text/plain": [
              "array([[0.45006082, 0.54993918],\n",
              "       [0.02765517, 0.97234483],\n",
              "       [0.03897232, 0.96102768],\n",
              "       ...,\n",
              "       [0.03198966, 0.96801034],\n",
              "       [0.03242497, 0.96757503],\n",
              "       [0.06974047, 0.93025953]])"
            ]
          },
          "metadata": {},
          "execution_count": 75
        }
      ],
      "source": [
        "test_pred_lr_prob"
      ]
    },
    {
      "cell_type": "code",
      "execution_count": 76,
      "metadata": {
        "id": "WCRa1kgqqaYL"
      },
      "outputs": [],
      "source": [
        "probabilities = [each[1] for each in test_pred_lr_prob]"
      ]
    },
    {
      "cell_type": "code",
      "execution_count": 77,
      "metadata": {
        "id": "0n7YkHs3qcwD"
      },
      "outputs": [],
      "source": [
        "predictions = pd.DataFrame()\n",
        "predictions['Review'] = reviews_test['Review']\n",
        "predictions['Actual_Score'] = reviews_test['Rating']\n",
        "predictions['Sentiment_rating'] = reviews_test['Sentiment_rating']\n",
        "predictions['Predicted_sentiment'] = test_pred_lr_all\n",
        "predictions['Predicted_probability'] = probabilities"
      ]
    },
    {
      "cell_type": "code",
      "execution_count": 78,
      "metadata": {
        "colab": {
          "base_uri": "https://localhost:8080/",
          "height": 204
        },
        "id": "tk36qT2QEruF",
        "outputId": "f4d3807a-1e2a-4382-f259-c458250bb9a9"
      },
      "outputs": [
        {
          "output_type": "execute_result",
          "data": {
            "text/plain": [
              "                                                  Review  Actual_Score  \\\n",
              "6084   No movie can live up to the hype. If you know ...           NaN   \n",
              "816    Beautifully animated film which tells an inter...           9.0   \n",
              "13399  Very enjoyable installment from everybody's fa...           9.0   \n",
              "20401  This movie made me cry, lough,clap, gave me go...          10.0   \n",
              "18605  The first 20 minutes of the movie were a sense...           4.0   \n",
              "\n",
              "       Sentiment_rating  Predicted_sentiment  Predicted_probability  \n",
              "6084                  0                    1               0.549939  \n",
              "816                   1                    1               0.972345  \n",
              "13399                 1                    1               0.961028  \n",
              "20401                 1                    1               0.998433  \n",
              "18605                 0                    0               0.228874  "
            ],
            "text/html": [
              "\n",
              "  <div id=\"df-838f7be1-da09-4c1b-abd2-db2b19f00515\" class=\"colab-df-container\">\n",
              "    <div>\n",
              "<style scoped>\n",
              "    .dataframe tbody tr th:only-of-type {\n",
              "        vertical-align: middle;\n",
              "    }\n",
              "\n",
              "    .dataframe tbody tr th {\n",
              "        vertical-align: top;\n",
              "    }\n",
              "\n",
              "    .dataframe thead th {\n",
              "        text-align: right;\n",
              "    }\n",
              "</style>\n",
              "<table border=\"1\" class=\"dataframe\">\n",
              "  <thead>\n",
              "    <tr style=\"text-align: right;\">\n",
              "      <th></th>\n",
              "      <th>Review</th>\n",
              "      <th>Actual_Score</th>\n",
              "      <th>Sentiment_rating</th>\n",
              "      <th>Predicted_sentiment</th>\n",
              "      <th>Predicted_probability</th>\n",
              "    </tr>\n",
              "  </thead>\n",
              "  <tbody>\n",
              "    <tr>\n",
              "      <th>6084</th>\n",
              "      <td>No movie can live up to the hype. If you know ...</td>\n",
              "      <td>NaN</td>\n",
              "      <td>0</td>\n",
              "      <td>1</td>\n",
              "      <td>0.549939</td>\n",
              "    </tr>\n",
              "    <tr>\n",
              "      <th>816</th>\n",
              "      <td>Beautifully animated film which tells an inter...</td>\n",
              "      <td>9.0</td>\n",
              "      <td>1</td>\n",
              "      <td>1</td>\n",
              "      <td>0.972345</td>\n",
              "    </tr>\n",
              "    <tr>\n",
              "      <th>13399</th>\n",
              "      <td>Very enjoyable installment from everybody's fa...</td>\n",
              "      <td>9.0</td>\n",
              "      <td>1</td>\n",
              "      <td>1</td>\n",
              "      <td>0.961028</td>\n",
              "    </tr>\n",
              "    <tr>\n",
              "      <th>20401</th>\n",
              "      <td>This movie made me cry, lough,clap, gave me go...</td>\n",
              "      <td>10.0</td>\n",
              "      <td>1</td>\n",
              "      <td>1</td>\n",
              "      <td>0.998433</td>\n",
              "    </tr>\n",
              "    <tr>\n",
              "      <th>18605</th>\n",
              "      <td>The first 20 minutes of the movie were a sense...</td>\n",
              "      <td>4.0</td>\n",
              "      <td>0</td>\n",
              "      <td>0</td>\n",
              "      <td>0.228874</td>\n",
              "    </tr>\n",
              "  </tbody>\n",
              "</table>\n",
              "</div>\n",
              "    <div class=\"colab-df-buttons\">\n",
              "\n",
              "  <div class=\"colab-df-container\">\n",
              "    <button class=\"colab-df-convert\" onclick=\"convertToInteractive('df-838f7be1-da09-4c1b-abd2-db2b19f00515')\"\n",
              "            title=\"Convert this dataframe to an interactive table.\"\n",
              "            style=\"display:none;\">\n",
              "\n",
              "  <svg xmlns=\"http://www.w3.org/2000/svg\" height=\"24px\" viewBox=\"0 -960 960 960\">\n",
              "    <path d=\"M120-120v-720h720v720H120Zm60-500h600v-160H180v160Zm220 220h160v-160H400v160Zm0 220h160v-160H400v160ZM180-400h160v-160H180v160Zm440 0h160v-160H620v160ZM180-180h160v-160H180v160Zm440 0h160v-160H620v160Z\"/>\n",
              "  </svg>\n",
              "    </button>\n",
              "\n",
              "  <style>\n",
              "    .colab-df-container {\n",
              "      display:flex;\n",
              "      gap: 12px;\n",
              "    }\n",
              "\n",
              "    .colab-df-convert {\n",
              "      background-color: #E8F0FE;\n",
              "      border: none;\n",
              "      border-radius: 50%;\n",
              "      cursor: pointer;\n",
              "      display: none;\n",
              "      fill: #1967D2;\n",
              "      height: 32px;\n",
              "      padding: 0 0 0 0;\n",
              "      width: 32px;\n",
              "    }\n",
              "\n",
              "    .colab-df-convert:hover {\n",
              "      background-color: #E2EBFA;\n",
              "      box-shadow: 0px 1px 2px rgba(60, 64, 67, 0.3), 0px 1px 3px 1px rgba(60, 64, 67, 0.15);\n",
              "      fill: #174EA6;\n",
              "    }\n",
              "\n",
              "    .colab-df-buttons div {\n",
              "      margin-bottom: 4px;\n",
              "    }\n",
              "\n",
              "    [theme=dark] .colab-df-convert {\n",
              "      background-color: #3B4455;\n",
              "      fill: #D2E3FC;\n",
              "    }\n",
              "\n",
              "    [theme=dark] .colab-df-convert:hover {\n",
              "      background-color: #434B5C;\n",
              "      box-shadow: 0px 1px 3px 1px rgba(0, 0, 0, 0.15);\n",
              "      filter: drop-shadow(0px 1px 2px rgba(0, 0, 0, 0.3));\n",
              "      fill: #FFFFFF;\n",
              "    }\n",
              "  </style>\n",
              "\n",
              "    <script>\n",
              "      const buttonEl =\n",
              "        document.querySelector('#df-838f7be1-da09-4c1b-abd2-db2b19f00515 button.colab-df-convert');\n",
              "      buttonEl.style.display =\n",
              "        google.colab.kernel.accessAllowed ? 'block' : 'none';\n",
              "\n",
              "      async function convertToInteractive(key) {\n",
              "        const element = document.querySelector('#df-838f7be1-da09-4c1b-abd2-db2b19f00515');\n",
              "        const dataTable =\n",
              "          await google.colab.kernel.invokeFunction('convertToInteractive',\n",
              "                                                    [key], {});\n",
              "        if (!dataTable) return;\n",
              "\n",
              "        const docLinkHtml = 'Like what you see? Visit the ' +\n",
              "          '<a target=\"_blank\" href=https://colab.research.google.com/notebooks/data_table.ipynb>data table notebook</a>'\n",
              "          + ' to learn more about interactive tables.';\n",
              "        element.innerHTML = '';\n",
              "        dataTable['output_type'] = 'display_data';\n",
              "        await google.colab.output.renderOutput(dataTable, element);\n",
              "        const docLink = document.createElement('div');\n",
              "        docLink.innerHTML = docLinkHtml;\n",
              "        element.appendChild(docLink);\n",
              "      }\n",
              "    </script>\n",
              "  </div>\n",
              "\n",
              "\n",
              "<div id=\"df-d20a0fe0-85fd-48fe-86d2-fed99fdd3bcd\">\n",
              "  <button class=\"colab-df-quickchart\" onclick=\"quickchart('df-d20a0fe0-85fd-48fe-86d2-fed99fdd3bcd')\"\n",
              "            title=\"Suggest charts\"\n",
              "            style=\"display:none;\">\n",
              "\n",
              "<svg xmlns=\"http://www.w3.org/2000/svg\" height=\"24px\"viewBox=\"0 0 24 24\"\n",
              "     width=\"24px\">\n",
              "    <g>\n",
              "        <path d=\"M19 3H5c-1.1 0-2 .9-2 2v14c0 1.1.9 2 2 2h14c1.1 0 2-.9 2-2V5c0-1.1-.9-2-2-2zM9 17H7v-7h2v7zm4 0h-2V7h2v10zm4 0h-2v-4h2v4z\"/>\n",
              "    </g>\n",
              "</svg>\n",
              "  </button>\n",
              "\n",
              "<style>\n",
              "  .colab-df-quickchart {\n",
              "      --bg-color: #E8F0FE;\n",
              "      --fill-color: #1967D2;\n",
              "      --hover-bg-color: #E2EBFA;\n",
              "      --hover-fill-color: #174EA6;\n",
              "      --disabled-fill-color: #AAA;\n",
              "      --disabled-bg-color: #DDD;\n",
              "  }\n",
              "\n",
              "  [theme=dark] .colab-df-quickchart {\n",
              "      --bg-color: #3B4455;\n",
              "      --fill-color: #D2E3FC;\n",
              "      --hover-bg-color: #434B5C;\n",
              "      --hover-fill-color: #FFFFFF;\n",
              "      --disabled-bg-color: #3B4455;\n",
              "      --disabled-fill-color: #666;\n",
              "  }\n",
              "\n",
              "  .colab-df-quickchart {\n",
              "    background-color: var(--bg-color);\n",
              "    border: none;\n",
              "    border-radius: 50%;\n",
              "    cursor: pointer;\n",
              "    display: none;\n",
              "    fill: var(--fill-color);\n",
              "    height: 32px;\n",
              "    padding: 0;\n",
              "    width: 32px;\n",
              "  }\n",
              "\n",
              "  .colab-df-quickchart:hover {\n",
              "    background-color: var(--hover-bg-color);\n",
              "    box-shadow: 0 1px 2px rgba(60, 64, 67, 0.3), 0 1px 3px 1px rgba(60, 64, 67, 0.15);\n",
              "    fill: var(--button-hover-fill-color);\n",
              "  }\n",
              "\n",
              "  .colab-df-quickchart-complete:disabled,\n",
              "  .colab-df-quickchart-complete:disabled:hover {\n",
              "    background-color: var(--disabled-bg-color);\n",
              "    fill: var(--disabled-fill-color);\n",
              "    box-shadow: none;\n",
              "  }\n",
              "\n",
              "  .colab-df-spinner {\n",
              "    border: 2px solid var(--fill-color);\n",
              "    border-color: transparent;\n",
              "    border-bottom-color: var(--fill-color);\n",
              "    animation:\n",
              "      spin 1s steps(1) infinite;\n",
              "  }\n",
              "\n",
              "  @keyframes spin {\n",
              "    0% {\n",
              "      border-color: transparent;\n",
              "      border-bottom-color: var(--fill-color);\n",
              "      border-left-color: var(--fill-color);\n",
              "    }\n",
              "    20% {\n",
              "      border-color: transparent;\n",
              "      border-left-color: var(--fill-color);\n",
              "      border-top-color: var(--fill-color);\n",
              "    }\n",
              "    30% {\n",
              "      border-color: transparent;\n",
              "      border-left-color: var(--fill-color);\n",
              "      border-top-color: var(--fill-color);\n",
              "      border-right-color: var(--fill-color);\n",
              "    }\n",
              "    40% {\n",
              "      border-color: transparent;\n",
              "      border-right-color: var(--fill-color);\n",
              "      border-top-color: var(--fill-color);\n",
              "    }\n",
              "    60% {\n",
              "      border-color: transparent;\n",
              "      border-right-color: var(--fill-color);\n",
              "    }\n",
              "    80% {\n",
              "      border-color: transparent;\n",
              "      border-right-color: var(--fill-color);\n",
              "      border-bottom-color: var(--fill-color);\n",
              "    }\n",
              "    90% {\n",
              "      border-color: transparent;\n",
              "      border-bottom-color: var(--fill-color);\n",
              "    }\n",
              "  }\n",
              "</style>\n",
              "\n",
              "  <script>\n",
              "    async function quickchart(key) {\n",
              "      const quickchartButtonEl =\n",
              "        document.querySelector('#' + key + ' button');\n",
              "      quickchartButtonEl.disabled = true;  // To prevent multiple clicks.\n",
              "      quickchartButtonEl.classList.add('colab-df-spinner');\n",
              "      try {\n",
              "        const charts = await google.colab.kernel.invokeFunction(\n",
              "            'suggestCharts', [key], {});\n",
              "      } catch (error) {\n",
              "        console.error('Error during call to suggestCharts:', error);\n",
              "      }\n",
              "      quickchartButtonEl.classList.remove('colab-df-spinner');\n",
              "      quickchartButtonEl.classList.add('colab-df-quickchart-complete');\n",
              "    }\n",
              "    (() => {\n",
              "      let quickchartButtonEl =\n",
              "        document.querySelector('#df-d20a0fe0-85fd-48fe-86d2-fed99fdd3bcd button');\n",
              "      quickchartButtonEl.style.display =\n",
              "        google.colab.kernel.accessAllowed ? 'block' : 'none';\n",
              "    })();\n",
              "  </script>\n",
              "</div>\n",
              "\n",
              "    </div>\n",
              "  </div>\n"
            ],
            "application/vnd.google.colaboratory.intrinsic+json": {
              "type": "dataframe",
              "variable_name": "predictions",
              "summary": "{\n  \"name\": \"predictions\",\n  \"rows\": 4246,\n  \"fields\": [\n    {\n      \"column\": \"Review\",\n      \"properties\": {\n        \"dtype\": \"string\",\n        \"num_unique_values\": 4239,\n        \"samples\": [\n          \"Fresh and engaging.i will blow your mind mainly marvel fans\",\n          \"An insanely emotional, fun-packed, and amazing character development film. It hits all areas you've always wanted in a Spider-Man film and the future of Spider-Man and the MCU is exciting.\",\n          \"Edit: I see a lot of people have already thumbed down this review because it sounds like people are playing the race card with this movie. \\\"Peter Parker is the only Spider-Man!!\\\" Look watch the movie for yourself, or don't see it at all. If you're really that bothered by a black Spider-Man in this movie then why are you here reading reviews? You still have the Rami films and heck you still have the Garfield films if that's what floats your boat. If you really care about good storytelling and good animation then hear me out. Into the Spider-Verse is the hour of redemption for Sony's animation studio. I haven't been particularly happy with their recent films ranging from endless Hotel Transylvania sequels, constant remakes of the Smurfs, and of course the god awful Emoji Movie. I kept asking myself, when Sony? When will you actually use your creative talents and give us something worth our time? And folks, this is it. This is their baby. Into the Spider-Verse is not only one of the best animated films of the year, it's one of the best Spider-Man films period. I was skeptical at first too, the high ratings, the complex story, the studio, but thankfully the reviews were right on this. What this movie does so well is how it constantly engages its audience through visual storytelling. It reflects the same methods Stan Lee/Steve Ditko used when they wrote their comic stories all those years ago. You can tell the filmmakers did their homework and really captured the comic book esthetic to a whole other level. It's colorful, it's full of amazing textures, and the action is just amazing to watch. Now if the movie solely relied on this I probably would've given it a lower rating but thankfully they wrote a nice story here. We get to finally see Miles Morales come to life and while I didn't think he had the most interesting personality compared to say Peter Parker, he worked as a vessel for the audience. We got to see his Spider-Man journey in a very unique and interesting way that feels nostalgic but fresh at the same time. I do have to add that I didn't quite feel the emotional weight in this film with Miles' character arc like I did in Tobey's Spider-Man 2, but it was still emotionally satisfying for this film on its own when you don't compare it to previous films. In the end, this was still my favorite Spider-Man movie since Spider-Man 2. It's funny, fun, and full of heart. I would be ok with Sony owning the license to Spider-Man if they kept making movies with this animation style but still carry some depth and passion in the storytelling. Because this movie honored the most endearing thing about Spider-Man's story, and it's that anyone can wear the mask. It's that universal trait that Steve Ditko and Stan Lee created all those years ago that make this character so mythological and so palpable. And this has one of Stan's best cameos yet I promise you that. If you're a Spidey fan, or just a comic fan, or even just a fan of animated films. YESSS GO SEE IT. This is my favorite animated film of the year, if not in years, and might potentially creep into my top 10 films of the year. PLEASE GO SUPPORT THIS. 9/10.\"\n        ],\n        \"semantic_type\": \"\",\n        \"description\": \"\"\n      }\n    },\n    {\n      \"column\": \"Actual_Score\",\n      \"properties\": {\n        \"dtype\": \"number\",\n        \"std\": 2.7501130246527974,\n        \"min\": 1.0,\n        \"max\": 10.0,\n        \"num_unique_values\": 10,\n        \"samples\": [\n          1.0,\n          10.0,\n          6.0\n        ],\n        \"semantic_type\": \"\",\n        \"description\": \"\"\n      }\n    },\n    {\n      \"column\": \"Sentiment_rating\",\n      \"properties\": {\n        \"dtype\": \"number\",\n        \"std\": 0,\n        \"min\": 0,\n        \"max\": 1,\n        \"num_unique_values\": 2,\n        \"samples\": [\n          1,\n          0\n        ],\n        \"semantic_type\": \"\",\n        \"description\": \"\"\n      }\n    },\n    {\n      \"column\": \"Predicted_sentiment\",\n      \"properties\": {\n        \"dtype\": \"number\",\n        \"std\": 0,\n        \"min\": 0,\n        \"max\": 1,\n        \"num_unique_values\": 2,\n        \"samples\": [\n          0,\n          1\n        ],\n        \"semantic_type\": \"\",\n        \"description\": \"\"\n      }\n    },\n    {\n      \"column\": \"Predicted_probability\",\n      \"properties\": {\n        \"dtype\": \"number\",\n        \"std\": 0.3183802686300192,\n        \"min\": 2.5351287677537472e-14,\n        \"max\": 0.9999999999997145,\n        \"num_unique_values\": 4222,\n        \"samples\": [\n          0.8327485019312858,\n          0.4636866023198395\n        ],\n        \"semantic_type\": \"\",\n        \"description\": \"\"\n      }\n    }\n  ]\n}"
            }
          },
          "metadata": {},
          "execution_count": 78
        }
      ],
      "source": [
        "predictions.head(5)"
      ]
    },
    {
      "cell_type": "code",
      "execution_count": 79,
      "metadata": {
        "colab": {
          "base_uri": "https://localhost:8080/"
        },
        "id": "IY-PUtZ7vmCk",
        "outputId": "4a610c6d-37fa-458d-af4a-0effbc4ddbdd"
      },
      "outputs": [
        {
          "output_type": "execute_result",
          "data": {
            "text/plain": [
              "0.8165332077249176"
            ]
          },
          "metadata": {},
          "execution_count": 79
        }
      ],
      "source": [
        "accuracy_score(predictions['Sentiment_rating'], predictions['Predicted_sentiment'])"
      ]
    },
    {
      "cell_type": "code",
      "execution_count": 80,
      "metadata": {
        "colab": {
          "base_uri": "https://localhost:8080/",
          "height": 359
        },
        "id": "2vdWm5Nzv2q8",
        "outputId": "fd3cc440-13fa-4ade-9f0b-5371497621bf"
      },
      "outputs": [
        {
          "output_type": "execute_result",
          "data": {
            "text/plain": [
              "                                                  Review  Actual_Score  \\\n",
              "5380   Dumb, loud, and cynical blockbusters have long...           7.0   \n",
              "8125   Being a former avid comic book collector when ...           6.0   \n",
              "6089   I am still 'iffy' on \"how\" Doc-Ock came to be....           6.0   \n",
              "7420   Spiderman 3 is directed by Sam Raimi and is th...           6.0   \n",
              "8240   Good marks for special effects, low points for...           6.0   \n",
              "7029   Don't believe the hype - seldom has this sayin...           6.0   \n",
              "9173   Considering that only a mere ten years have pa...           6.0   \n",
              "8201   First off, I'm a fan of comic books and I love...           6.0   \n",
              "15344  OMG, the first hour thirty minutes was a total...           6.0   \n",
              "18220  This was a fan service movie. Though that isn'...           6.0   \n",
              "\n",
              "       Sentiment_rating  Predicted_sentiment  Predicted_probability  \n",
              "5380                  1                    0           1.925367e-07  \n",
              "8125                  1                    0           3.293010e-06  \n",
              "6089                  1                    0           8.397528e-06  \n",
              "7420                  1                    0           1.196663e-05  \n",
              "8240                  1                    0           2.794743e-05  \n",
              "7029                  1                    0           2.331157e-04  \n",
              "9173                  1                    0           2.708514e-04  \n",
              "8201                  1                    0           2.895588e-04  \n",
              "15344                 1                    0           3.113955e-04  \n",
              "18220                 1                    0           4.149614e-04  "
            ],
            "text/html": [
              "\n",
              "  <div id=\"df-e08af4ea-d5e3-45e5-81e4-7578b2fab537\" class=\"colab-df-container\">\n",
              "    <div>\n",
              "<style scoped>\n",
              "    .dataframe tbody tr th:only-of-type {\n",
              "        vertical-align: middle;\n",
              "    }\n",
              "\n",
              "    .dataframe tbody tr th {\n",
              "        vertical-align: top;\n",
              "    }\n",
              "\n",
              "    .dataframe thead th {\n",
              "        text-align: right;\n",
              "    }\n",
              "</style>\n",
              "<table border=\"1\" class=\"dataframe\">\n",
              "  <thead>\n",
              "    <tr style=\"text-align: right;\">\n",
              "      <th></th>\n",
              "      <th>Review</th>\n",
              "      <th>Actual_Score</th>\n",
              "      <th>Sentiment_rating</th>\n",
              "      <th>Predicted_sentiment</th>\n",
              "      <th>Predicted_probability</th>\n",
              "    </tr>\n",
              "  </thead>\n",
              "  <tbody>\n",
              "    <tr>\n",
              "      <th>5380</th>\n",
              "      <td>Dumb, loud, and cynical blockbusters have long...</td>\n",
              "      <td>7.0</td>\n",
              "      <td>1</td>\n",
              "      <td>0</td>\n",
              "      <td>1.925367e-07</td>\n",
              "    </tr>\n",
              "    <tr>\n",
              "      <th>8125</th>\n",
              "      <td>Being a former avid comic book collector when ...</td>\n",
              "      <td>6.0</td>\n",
              "      <td>1</td>\n",
              "      <td>0</td>\n",
              "      <td>3.293010e-06</td>\n",
              "    </tr>\n",
              "    <tr>\n",
              "      <th>6089</th>\n",
              "      <td>I am still 'iffy' on \"how\" Doc-Ock came to be....</td>\n",
              "      <td>6.0</td>\n",
              "      <td>1</td>\n",
              "      <td>0</td>\n",
              "      <td>8.397528e-06</td>\n",
              "    </tr>\n",
              "    <tr>\n",
              "      <th>7420</th>\n",
              "      <td>Spiderman 3 is directed by Sam Raimi and is th...</td>\n",
              "      <td>6.0</td>\n",
              "      <td>1</td>\n",
              "      <td>0</td>\n",
              "      <td>1.196663e-05</td>\n",
              "    </tr>\n",
              "    <tr>\n",
              "      <th>8240</th>\n",
              "      <td>Good marks for special effects, low points for...</td>\n",
              "      <td>6.0</td>\n",
              "      <td>1</td>\n",
              "      <td>0</td>\n",
              "      <td>2.794743e-05</td>\n",
              "    </tr>\n",
              "    <tr>\n",
              "      <th>7029</th>\n",
              "      <td>Don't believe the hype - seldom has this sayin...</td>\n",
              "      <td>6.0</td>\n",
              "      <td>1</td>\n",
              "      <td>0</td>\n",
              "      <td>2.331157e-04</td>\n",
              "    </tr>\n",
              "    <tr>\n",
              "      <th>9173</th>\n",
              "      <td>Considering that only a mere ten years have pa...</td>\n",
              "      <td>6.0</td>\n",
              "      <td>1</td>\n",
              "      <td>0</td>\n",
              "      <td>2.708514e-04</td>\n",
              "    </tr>\n",
              "    <tr>\n",
              "      <th>8201</th>\n",
              "      <td>First off, I'm a fan of comic books and I love...</td>\n",
              "      <td>6.0</td>\n",
              "      <td>1</td>\n",
              "      <td>0</td>\n",
              "      <td>2.895588e-04</td>\n",
              "    </tr>\n",
              "    <tr>\n",
              "      <th>15344</th>\n",
              "      <td>OMG, the first hour thirty minutes was a total...</td>\n",
              "      <td>6.0</td>\n",
              "      <td>1</td>\n",
              "      <td>0</td>\n",
              "      <td>3.113955e-04</td>\n",
              "    </tr>\n",
              "    <tr>\n",
              "      <th>18220</th>\n",
              "      <td>This was a fan service movie. Though that isn'...</td>\n",
              "      <td>6.0</td>\n",
              "      <td>1</td>\n",
              "      <td>0</td>\n",
              "      <td>4.149614e-04</td>\n",
              "    </tr>\n",
              "  </tbody>\n",
              "</table>\n",
              "</div>\n",
              "    <div class=\"colab-df-buttons\">\n",
              "\n",
              "  <div class=\"colab-df-container\">\n",
              "    <button class=\"colab-df-convert\" onclick=\"convertToInteractive('df-e08af4ea-d5e3-45e5-81e4-7578b2fab537')\"\n",
              "            title=\"Convert this dataframe to an interactive table.\"\n",
              "            style=\"display:none;\">\n",
              "\n",
              "  <svg xmlns=\"http://www.w3.org/2000/svg\" height=\"24px\" viewBox=\"0 -960 960 960\">\n",
              "    <path d=\"M120-120v-720h720v720H120Zm60-500h600v-160H180v160Zm220 220h160v-160H400v160Zm0 220h160v-160H400v160ZM180-400h160v-160H180v160Zm440 0h160v-160H620v160ZM180-180h160v-160H180v160Zm440 0h160v-160H620v160Z\"/>\n",
              "  </svg>\n",
              "    </button>\n",
              "\n",
              "  <style>\n",
              "    .colab-df-container {\n",
              "      display:flex;\n",
              "      gap: 12px;\n",
              "    }\n",
              "\n",
              "    .colab-df-convert {\n",
              "      background-color: #E8F0FE;\n",
              "      border: none;\n",
              "      border-radius: 50%;\n",
              "      cursor: pointer;\n",
              "      display: none;\n",
              "      fill: #1967D2;\n",
              "      height: 32px;\n",
              "      padding: 0 0 0 0;\n",
              "      width: 32px;\n",
              "    }\n",
              "\n",
              "    .colab-df-convert:hover {\n",
              "      background-color: #E2EBFA;\n",
              "      box-shadow: 0px 1px 2px rgba(60, 64, 67, 0.3), 0px 1px 3px 1px rgba(60, 64, 67, 0.15);\n",
              "      fill: #174EA6;\n",
              "    }\n",
              "\n",
              "    .colab-df-buttons div {\n",
              "      margin-bottom: 4px;\n",
              "    }\n",
              "\n",
              "    [theme=dark] .colab-df-convert {\n",
              "      background-color: #3B4455;\n",
              "      fill: #D2E3FC;\n",
              "    }\n",
              "\n",
              "    [theme=dark] .colab-df-convert:hover {\n",
              "      background-color: #434B5C;\n",
              "      box-shadow: 0px 1px 3px 1px rgba(0, 0, 0, 0.15);\n",
              "      filter: drop-shadow(0px 1px 2px rgba(0, 0, 0, 0.3));\n",
              "      fill: #FFFFFF;\n",
              "    }\n",
              "  </style>\n",
              "\n",
              "    <script>\n",
              "      const buttonEl =\n",
              "        document.querySelector('#df-e08af4ea-d5e3-45e5-81e4-7578b2fab537 button.colab-df-convert');\n",
              "      buttonEl.style.display =\n",
              "        google.colab.kernel.accessAllowed ? 'block' : 'none';\n",
              "\n",
              "      async function convertToInteractive(key) {\n",
              "        const element = document.querySelector('#df-e08af4ea-d5e3-45e5-81e4-7578b2fab537');\n",
              "        const dataTable =\n",
              "          await google.colab.kernel.invokeFunction('convertToInteractive',\n",
              "                                                    [key], {});\n",
              "        if (!dataTable) return;\n",
              "\n",
              "        const docLinkHtml = 'Like what you see? Visit the ' +\n",
              "          '<a target=\"_blank\" href=https://colab.research.google.com/notebooks/data_table.ipynb>data table notebook</a>'\n",
              "          + ' to learn more about interactive tables.';\n",
              "        element.innerHTML = '';\n",
              "        dataTable['output_type'] = 'display_data';\n",
              "        await google.colab.output.renderOutput(dataTable, element);\n",
              "        const docLink = document.createElement('div');\n",
              "        docLink.innerHTML = docLinkHtml;\n",
              "        element.appendChild(docLink);\n",
              "      }\n",
              "    </script>\n",
              "  </div>\n",
              "\n",
              "\n",
              "<div id=\"df-9004c52e-f8a6-4a89-b1c2-e90c634639d8\">\n",
              "  <button class=\"colab-df-quickchart\" onclick=\"quickchart('df-9004c52e-f8a6-4a89-b1c2-e90c634639d8')\"\n",
              "            title=\"Suggest charts\"\n",
              "            style=\"display:none;\">\n",
              "\n",
              "<svg xmlns=\"http://www.w3.org/2000/svg\" height=\"24px\"viewBox=\"0 0 24 24\"\n",
              "     width=\"24px\">\n",
              "    <g>\n",
              "        <path d=\"M19 3H5c-1.1 0-2 .9-2 2v14c0 1.1.9 2 2 2h14c1.1 0 2-.9 2-2V5c0-1.1-.9-2-2-2zM9 17H7v-7h2v7zm4 0h-2V7h2v10zm4 0h-2v-4h2v4z\"/>\n",
              "    </g>\n",
              "</svg>\n",
              "  </button>\n",
              "\n",
              "<style>\n",
              "  .colab-df-quickchart {\n",
              "      --bg-color: #E8F0FE;\n",
              "      --fill-color: #1967D2;\n",
              "      --hover-bg-color: #E2EBFA;\n",
              "      --hover-fill-color: #174EA6;\n",
              "      --disabled-fill-color: #AAA;\n",
              "      --disabled-bg-color: #DDD;\n",
              "  }\n",
              "\n",
              "  [theme=dark] .colab-df-quickchart {\n",
              "      --bg-color: #3B4455;\n",
              "      --fill-color: #D2E3FC;\n",
              "      --hover-bg-color: #434B5C;\n",
              "      --hover-fill-color: #FFFFFF;\n",
              "      --disabled-bg-color: #3B4455;\n",
              "      --disabled-fill-color: #666;\n",
              "  }\n",
              "\n",
              "  .colab-df-quickchart {\n",
              "    background-color: var(--bg-color);\n",
              "    border: none;\n",
              "    border-radius: 50%;\n",
              "    cursor: pointer;\n",
              "    display: none;\n",
              "    fill: var(--fill-color);\n",
              "    height: 32px;\n",
              "    padding: 0;\n",
              "    width: 32px;\n",
              "  }\n",
              "\n",
              "  .colab-df-quickchart:hover {\n",
              "    background-color: var(--hover-bg-color);\n",
              "    box-shadow: 0 1px 2px rgba(60, 64, 67, 0.3), 0 1px 3px 1px rgba(60, 64, 67, 0.15);\n",
              "    fill: var(--button-hover-fill-color);\n",
              "  }\n",
              "\n",
              "  .colab-df-quickchart-complete:disabled,\n",
              "  .colab-df-quickchart-complete:disabled:hover {\n",
              "    background-color: var(--disabled-bg-color);\n",
              "    fill: var(--disabled-fill-color);\n",
              "    box-shadow: none;\n",
              "  }\n",
              "\n",
              "  .colab-df-spinner {\n",
              "    border: 2px solid var(--fill-color);\n",
              "    border-color: transparent;\n",
              "    border-bottom-color: var(--fill-color);\n",
              "    animation:\n",
              "      spin 1s steps(1) infinite;\n",
              "  }\n",
              "\n",
              "  @keyframes spin {\n",
              "    0% {\n",
              "      border-color: transparent;\n",
              "      border-bottom-color: var(--fill-color);\n",
              "      border-left-color: var(--fill-color);\n",
              "    }\n",
              "    20% {\n",
              "      border-color: transparent;\n",
              "      border-left-color: var(--fill-color);\n",
              "      border-top-color: var(--fill-color);\n",
              "    }\n",
              "    30% {\n",
              "      border-color: transparent;\n",
              "      border-left-color: var(--fill-color);\n",
              "      border-top-color: var(--fill-color);\n",
              "      border-right-color: var(--fill-color);\n",
              "    }\n",
              "    40% {\n",
              "      border-color: transparent;\n",
              "      border-right-color: var(--fill-color);\n",
              "      border-top-color: var(--fill-color);\n",
              "    }\n",
              "    60% {\n",
              "      border-color: transparent;\n",
              "      border-right-color: var(--fill-color);\n",
              "    }\n",
              "    80% {\n",
              "      border-color: transparent;\n",
              "      border-right-color: var(--fill-color);\n",
              "      border-bottom-color: var(--fill-color);\n",
              "    }\n",
              "    90% {\n",
              "      border-color: transparent;\n",
              "      border-bottom-color: var(--fill-color);\n",
              "    }\n",
              "  }\n",
              "</style>\n",
              "\n",
              "  <script>\n",
              "    async function quickchart(key) {\n",
              "      const quickchartButtonEl =\n",
              "        document.querySelector('#' + key + ' button');\n",
              "      quickchartButtonEl.disabled = true;  // To prevent multiple clicks.\n",
              "      quickchartButtonEl.classList.add('colab-df-spinner');\n",
              "      try {\n",
              "        const charts = await google.colab.kernel.invokeFunction(\n",
              "            'suggestCharts', [key], {});\n",
              "      } catch (error) {\n",
              "        console.error('Error during call to suggestCharts:', error);\n",
              "      }\n",
              "      quickchartButtonEl.classList.remove('colab-df-spinner');\n",
              "      quickchartButtonEl.classList.add('colab-df-quickchart-complete');\n",
              "    }\n",
              "    (() => {\n",
              "      let quickchartButtonEl =\n",
              "        document.querySelector('#df-9004c52e-f8a6-4a89-b1c2-e90c634639d8 button');\n",
              "      quickchartButtonEl.style.display =\n",
              "        google.colab.kernel.accessAllowed ? 'block' : 'none';\n",
              "    })();\n",
              "  </script>\n",
              "</div>\n",
              "\n",
              "    </div>\n",
              "  </div>\n"
            ],
            "application/vnd.google.colaboratory.intrinsic+json": {
              "type": "dataframe",
              "summary": "{\n  \"name\": \"]\",\n  \"rows\": 10,\n  \"fields\": [\n    {\n      \"column\": \"Review\",\n      \"properties\": {\n        \"dtype\": \"string\",\n        \"num_unique_values\": 10,\n        \"samples\": [\n          \"OMG, the first hour thirty minutes was a total waste of time, senseless plot and actions, and Tom doing what he does best, being the worst spidey ever. And his two best friends couldn't act to save their own skin. Frankly, the movie wouldn't have survived more than 4 stars if not for Tobey and Garfield's presence. The whole plot was a flop to be honest, I can't understand why they would even go for it. I mean the idea was great but the execution was terrible esp the introduction of the two spideys. And how in the world did Spidey outsmart Dr Strange in his own world, but he couldn't handle a mere human like Green Goblin?! And he was able to scoop up MJ and make a run for it but he couldn't pick up Aunt May and rush her to the hospital? Absolutely childish. Don't believe all the amazing reviews, they are just diehard marvel fans.\\n\\nQuestion, do different people write the scripts for each Spidey because Garfield's lines are the best.\",\n          \"Being a former avid comic book collector when I was younger, it pains me to see how Hollywood has been treating comic adaptations of late. There seems to be a bit of a pattern developing where movie makers seem to either try to fit too much into the time and end up not exploring any one topic or character well enough for you to care about the events presented, or else focus almost completely on the action to the detriment of story and character exploration\\u0085 so once again you don't care about the outcome.\\n\\nSome comic book movies DO manage to escape fully slipping into one or both of these categories eg. good characterisation and reasonable exploration of only a few core concepts in the X-men movies; and good characterisation in The Hulk - which only just manages to win out over the confused addition of an extra villain late in the game. Both of these however might have also seemed better due to the higher class of acting ability? I haven't decided yet.\\n\\nIn any case, Spiderman 3 unfortunately seems to have a mix of both patterns and as such just didn't do it for me.\\n\\nBeing that the Spiderman movies are about a single character, I would expect that character to be fleshed out well. X-men, as I mentioned, manages to explore a number of characters reasonably well, but as the Spiderman trilogy has progressed I feel that Peter Parker has become more wooden and prone to posturing about spouting lame catch cries mixed with out of character moments thrown in to advance the plot quickly (eg Gwen Stacey related events). I ceased to feel for his character and ended up getting irritated that he was whining all the time about how badly he had screwed up. In fact, he was either arrogant and pompous, taking himself too seriously, or a bit childish and whiny... All in all I ended up bored.\\n\\nThe treatment of Peter Parker's character mirrored the style of the movie itself - it alternated between taking itself way too seriously with preachy speeches backed by music possibly intended to be inspirational, with American flags waving in the background :/ to weird scenes of the characters behaving in stupid ways (Peter Parker's dancing in the streets bit). All in all I could never tell if I was supposed to feel sorry for a character, hate them, like them, laugh at them or just not bother with in any of these. In the end that is the one I chose as it provided less confusion.\\n\\nI think my main problem with the movie, and with most comic adaptations that have been executed poorly (Daredevil *shudders*) is that I recognise the *potential* there was for a decent movie (given all the provided back stories) that was squandered by poorly written scripts/dialogue/plot. Given the potentially interesting nature of Venom and his origins, I wasn't quite sure why they had bothered including Sandman in the movie at all - it would have been much more coherent if Venom was the sole new character and had been given the attention he deserved. The unfortunate casting of Topher Grace (that 70s Show) in the role of Eddie Brock/Venom was another distraction that completely killed interest in the character for me.\\n\\nAnyway, the special effects were great as you might expect (the only reason I just managed to give this a 6/10), but the rest of the movie ended up so infuriating in parts that around 10 or 15 in a cinema of 300 walked out before the end. On my way out I heard murmurings from almost half the people I passed about how \\\"lame\\\" it was. I ended up apologising to my partner for even dragging her to see it. Maybe go see it if you're a fan, but be ready for some major disappointment. If I was able to get my money back at the end of the movie as a way of showing Hollywood studios that they are starting to get comic book movies WRONG I would. Now I'm not even sure if I should bother with the next Fantastic 4 \\u0096 Jessica Alba or not! :(\",\n          \"Don't believe the hype - seldom has this saying been so true when looking at Spider-Man 3. Even I as a non-comic-book-fan enjoyed Spider-Man 1 & 2 and was looking forward to this one, but looks like Sam Raimi fooled us all...\\n\\nFor no apparent reason, director Sam Raimi overstuffed this installment of Spider-Man to an extent that one could think he cut two different films together, even though things start well enough with Peter Parker's life appearing to be just perfect as the beloved hero of NYC and with his love to MJ prospering.\\n\\nHowever, once a comet carrying the much talked about symbiote conveniently lands on earth directly next to MJ and Peter in the park without the two even noticing, this movie turns into an unforgivable mess packed with half-hearted sub-stories and useless new characters. For example, shortly after the symbiote managed to make its way to Peter's apartment, we suddenly find out that the police finally found the supposed true murderer of Pete's uncle Ben in a tragic criminal named Flint Marko, who is committing crimes for the sake of his sick daughter. This Flint Marko, however, while being chased by police officers, \\\"conveniently\\\" stumbles over a testing ground for a particle accelerator, which transforms him into the Sandman, a terrifying and seemingly invincible new villain for Spidey to fight. And then there is Harry Osborn, Peter's former best friend who found out about Peter's alter ego and now blames him for the death of his father (as seen in part 1), seeking revenge by going the way of his father and hunting Spidey as the New Goblin. Oh, and then there is a new rival for Peter at the Daily Bugle named Eddie Brock, using dirty tricks in order to outclass Peter, with his girlfriend Gwen Stacey flirting with both Peter Parker and Spider-Man and making Mary Jane and Eddie jealous in the process...and last but not least, the symbiote itself seems to be a far greater threat to Pete than he could have possibly imagined, personified by...I think you can guess who is going to be affected by the symbiote apart from Spidey and will represent his completely dark side...\\n\\nSee what I mean? All these plot lines have been cramped into roughly two hours of screen time, and I did not even mention the useless bits showing Peter Parker as a mean a-hole due to the symbiote's influence that seem more ridiculous than anything else. But especially the last act of the movie, or roughly the last 30 minutes, seem so tacked-on and incoherent that one might assume that this part of the film was not even planned to be there to begin with, and it only drags the entire story down. Due to this overflow of plot lines, it is clear that the movie cannot do justice to each of them, hence the story as a whole seems half hearted and literally crumbles under the weight of so many characters and sub-stories as well as nonsensical and gaping plot-holes (like the sudden appearance of the symbiote or the creation of Sandman), with the last twenty minutes being reason enough for comic book fans to curse Sam Raimi, since not even the actors manage to save the story. Tobey Maguire remains shockingly stale and wooden as Peter Parker, and specifically his performance during the love scenes come off as unintentionally funny. I still can't understand what happened to Tobey, since he really did a great job in the first two, and I thought he would have grown even more into the role. Kirsten Dunst as MJ seems to be complete out of place in this movie, and even James Franco as Harry Osborn has a few embarrassing moments. Thomas Haden Church on the other hand plays the part of the tragic villain Flint Marko rather nicely, while Topher Grace as Eddie Brock rivals the wooden performance by Maguire. I guess part of the problem are the horrible dialogue lines (even for a comic book movie), and even the way George Lucas is writing his love scenes (I am a Lucas supporter, though) is infinitely superior to the tedious and painful exchanges between Dunst and Maguire. At least J.K. Simmons as Jonah Jameson as well as Bruce Campbell in a hilarious cameo as a French waiter manage to save the cast from being a complete disappointment.\\n\\nThe only saving grace of the movie, though, are its breathtaking action sequences - apart from the final confrontation, that is, which lacks any excitement whatsoever and comes off as a pale rehash of the first two. Not even the visual effects are perfect, in fact, they are even less believable than in the previous two, with some scenes making it painfully obvious that a lot has been done via CGI in some inappropriate places...John Dykstra's absence from Spider-Man 3 is rather apparent in that regard, unfortunately, even though the effects in general are still quite nice to look at (especially Sandman is a well done CG character, while not on par with General Grievous or Gollum), just not on the same level as Lord of the Rings or the Star Wars prequels.\\n\\nIn the end, Spider-Man 3 is a towering disappointment, a movie that does not live up to the enormous hype in the least bit and lacks all the strengths of its predecessors, and I am still at a loss of words - how could this have possibly gone so terribly wrong? What on earth was Sam Raimi, normally a great director, thinking? What happened to the usually solid cast? And why does the plot have to be too ambitious for its own good? It really is sad to see the Spider-Man going the way of the Batman franchise in the 90s - in fact, this IS the Batman Forever of the Spider-Man series. I for my part doubt that a fourth part could bring the series back on track.\"\n        ],\n        \"semantic_type\": \"\",\n        \"description\": \"\"\n      }\n    },\n    {\n      \"column\": \"Actual_Score\",\n      \"properties\": {\n        \"dtype\": \"number\",\n        \"std\": 0.3162277660168379,\n        \"min\": 6.0,\n        \"max\": 7.0,\n        \"num_unique_values\": 2,\n        \"samples\": [\n          6.0,\n          7.0\n        ],\n        \"semantic_type\": \"\",\n        \"description\": \"\"\n      }\n    },\n    {\n      \"column\": \"Sentiment_rating\",\n      \"properties\": {\n        \"dtype\": \"number\",\n        \"std\": 0,\n        \"min\": 1,\n        \"max\": 1,\n        \"num_unique_values\": 1,\n        \"samples\": [\n          1\n        ],\n        \"semantic_type\": \"\",\n        \"description\": \"\"\n      }\n    },\n    {\n      \"column\": \"Predicted_sentiment\",\n      \"properties\": {\n        \"dtype\": \"number\",\n        \"std\": 0,\n        \"min\": 0,\n        \"max\": 0,\n        \"num_unique_values\": 1,\n        \"samples\": [\n          0\n        ],\n        \"semantic_type\": \"\",\n        \"description\": \"\"\n      }\n    },\n    {\n      \"column\": \"Predicted_probability\",\n      \"properties\": {\n        \"dtype\": \"number\",\n        \"std\": 0.00016148466709061055,\n        \"min\": 1.9253674225157515e-07,\n        \"max\": 0.00041496136292662055,\n        \"num_unique_values\": 10,\n        \"samples\": [\n          0.0003113955103851675\n        ],\n        \"semantic_type\": \"\",\n        \"description\": \"\"\n      }\n    }\n  ]\n}"
            }
          },
          "metadata": {},
          "execution_count": 80
        }
      ],
      "source": [
        "predictions[\n",
        "    predictions['Predicted_sentiment'] != predictions['Sentiment_rating']\n",
        "].sort_values(by=[\"Predicted_probability\"]).head(10)"
      ]
    },
    {
      "cell_type": "code",
      "execution_count": 81,
      "metadata": {
        "colab": {
          "base_uri": "https://localhost:8080/"
        },
        "id": "rg7GmY2gwC7d",
        "outputId": "9e9062a0-ca5c-4c30-f85b-a4a6458a3d56"
      },
      "outputs": [
        {
          "output_type": "execute_result",
          "data": {
            "text/plain": [
              "array(['Dumb, loud, and cynical blockbusters have long brutalized movie audiences. \\'Spiderman 2\\' illustrates that a superhero film can always stand to strike a chord of what vibrant, intelligent, and heartfelt popular film-making could look like. Directed by Sam Raimi and adapted from a story whose many scribes include the novelist Michael Chabon; the sole screenwriting credit belongs to Alvin Sargent, who wrote \"Ordinary People\" and \"Paper Moon\". The new Spider-Man 2 is replete with dazzling colors, deafening noises and elaborate special effects. Of course this is what we expected.\\n\\nWhat distinguishes this film, I am pleased to report, is solid character development with sincere emotions. Much like its Marvel Comic book kin, \"X-Men 2,\" this sequel, free from the dreary weight of excessive exploitation, is somewhat better than its predecessor as well as better than most other comic-book-based feature films.\\n\\nHowever, what disturbs me about this Super hero is his lack of maturity, looks, and good judgment. It would more aptly be called Spider Boy than Spider Man. His continuous child-like thinking and boyish appearance belong more in a high school teenathon than as the omnipotent Spiderman of comic book fame. This frail looking teenager hardly presents the image of a super hero who is able to attract the likes of a Mary Jane (Kirsten Dunst) or any other adult female.\\n\\nIn the comic book, the hero is depicted as much older, more muscular, and able to assert himself wherever and whenever needed. I would suppose that the powers that be selected Tobey Maguire for those boyish looks since they would more likely appeal to the teenagers who would more likely provide the bulk of the film\\'s attendance. Whenever Peter Parker kisses the mature-looking Mary Jane, it almost makes you cringe that he is about to be sexually abused.\\n\\nAt the end of the film, the hero was forced to choose between his superhuman powers and the heady charms of Mary Jane. However, it was extremely irritating and difficult to sympathize as to why poor Peter Parker could not have both. True to action-hero clichés, he felt the world needed Spider-Man, and so Peter hardened his resolve and surrendered his despairing, life-long love of Mary Jane Watson.\\n\\nThe dutiful web-slinger, although adored by the people, is unjustly scorned, and maligned in the Daily Bugle, led by the angry and abusive editor J. Jonah Jameson, played with fanatic passion by J. K. Simmons. However, his alter ego Peter Parker is the one who suffers the deeper emotional wounds. Jameson continuously insults, cheats, and badgers poor Peter while he is desperately scrambling to balance the demands of a normal life along with nocturnal forays into crime fighting. Perhaps even more insulting to Peter is the negative mirror image of Spider-Man he is forced to bear, being routinely hounded as penniless, lazy, selfish, and unreliable.\\n\\nHis poor aunt May (Rosemary Harris), who is still grieving from the loss of her husband, (Uncle Ben previously played by Cliff Robertson, in a brief flashback), is in grave danger of losing her home, and her devotion to Peter is eroded by palpable disappointment when he confesses his negligent role in her husband\\'s death. Even Mary Jane, whose career as a model and actress has been recently quite successful, is fed up with what appears to be Peter\\'s consistent selfishness and unbelievable excuses. To make matters ever worse for Peter, she has become engaged to an astronaut, who just happens to be Jonah Jameson\\'s son.\\n\\nAll of this hoopla moves us to the film\\'s midpoint when the pitiful Spider-Man, his webs drying up because of Peter\\'s depression, dumps his Spidy suit into a back-alley garbage can. In the meantime, a brilliant scientist named Otto Octavius (Alfred Molina) is presenting a dangerous and ambitious fusion project financed by Peter\\'s best pal and who incidentally is also another Spider-Man nemesis, Harry Osborn (James Franco). A disastrous malfunction leaves Octavius not only a widower, but transforms him into a monster. Malevolent, intelligent mechanical legs that seem to have diabolical minds of their own now propel his body. Doc Ock, as Jamison in the Bugle characterizes him, is now Spidey\\'s enemy. Unlike Spidey, poor Ock is not the master of his octopus mechanical arms; rather he is their servant.\\n\\nSam Raimi, the director who cut his teeth on the gory, low-budget horrors of the \"Evil Dead\" franchise, is not totally an aficionado of fancy computer-generated special effects (CGI). Nevertheless, they remain an integral part of the film. (No filmmaker working in this genre can afford not to). Yet, the digitized scenes of New York City\\'s Spiderman flights and fighting are not the strongest parts of the movie, since Raimi does not yet have Peter Jackson\\'s or Steven Spielberg\\'s talent for a seamless combination of CGI with conventional movie-making. Instead, he attempts to develop the characters more and provide more of a storyline than other action films.\\n\\nThe storyline, although much more interesting than the usual action extravaganza, still is a bit juvenile for my taste. The film is fun, yet often frustrating when the immaturity of Peter contaminates the hero mood.',\n",
              "       7.0, 1, 0, 1.9253674225157515e-07], dtype=object)"
            ]
          },
          "metadata": {},
          "execution_count": 81
        }
      ],
      "source": [
        "predictions.loc[5380].values"
      ]
    },
    {
      "cell_type": "markdown",
      "source": [
        "Una vez realizado el entrenamiento, podemos evidenciar que un comentario que antes era calificado como positivo (calificación de 7.0) ahora el algoritmo lo reconoce como negativo, esto, considerando a que el párrafo posee frases con adjetivos de \"Dumb, loud, cynical blockbusters\", lo cual, el modelo aprendió a considerarlo como negativo."
      ],
      "metadata": {
        "id": "GEzz1dIST1pF"
      }
    },
    {
      "cell_type": "code",
      "execution_count": 82,
      "metadata": {
        "colab": {
          "base_uri": "https://localhost:8080/",
          "height": 514
        },
        "id": "Bhk_FHqz0vJ3",
        "outputId": "3844e1c5-510f-43a9-e7b9-ad2c1ba82623"
      },
      "outputs": [
        {
          "output_type": "execute_result",
          "data": {
            "text/plain": [
              "               words   weights\n",
              "1236100  masterpiece  0.878808\n",
              "249354     brilliant  0.864100\n",
              "1172488        level  0.859150\n",
              "737063        family  0.856361\n",
              "646759       endgame  0.851363\n",
              "1470556    perfectly  0.850305\n",
              "1978521    surprises  0.761278\n",
              "1871828  spectacular  0.736672\n",
              "1865302   soundtrack  0.717624\n",
              "894566      greatest  0.717623\n",
              "1487759   phenomenal  0.715293\n",
              "2099558        treat  0.711598\n",
              "1883365        spoil  0.707652\n",
              "1414583      opinion  0.698585\n",
              "2060577         till  0.697776"
            ],
            "text/html": [
              "\n",
              "  <div id=\"df-36854a4d-a4a8-4996-a4d4-1353129f0348\" class=\"colab-df-container\">\n",
              "    <div>\n",
              "<style scoped>\n",
              "    .dataframe tbody tr th:only-of-type {\n",
              "        vertical-align: middle;\n",
              "    }\n",
              "\n",
              "    .dataframe tbody tr th {\n",
              "        vertical-align: top;\n",
              "    }\n",
              "\n",
              "    .dataframe thead th {\n",
              "        text-align: right;\n",
              "    }\n",
              "</style>\n",
              "<table border=\"1\" class=\"dataframe\">\n",
              "  <thead>\n",
              "    <tr style=\"text-align: right;\">\n",
              "      <th></th>\n",
              "      <th>words</th>\n",
              "      <th>weights</th>\n",
              "    </tr>\n",
              "  </thead>\n",
              "  <tbody>\n",
              "    <tr>\n",
              "      <th>1236100</th>\n",
              "      <td>masterpiece</td>\n",
              "      <td>0.878808</td>\n",
              "    </tr>\n",
              "    <tr>\n",
              "      <th>249354</th>\n",
              "      <td>brilliant</td>\n",
              "      <td>0.864100</td>\n",
              "    </tr>\n",
              "    <tr>\n",
              "      <th>1172488</th>\n",
              "      <td>level</td>\n",
              "      <td>0.859150</td>\n",
              "    </tr>\n",
              "    <tr>\n",
              "      <th>737063</th>\n",
              "      <td>family</td>\n",
              "      <td>0.856361</td>\n",
              "    </tr>\n",
              "    <tr>\n",
              "      <th>646759</th>\n",
              "      <td>endgame</td>\n",
              "      <td>0.851363</td>\n",
              "    </tr>\n",
              "    <tr>\n",
              "      <th>1470556</th>\n",
              "      <td>perfectly</td>\n",
              "      <td>0.850305</td>\n",
              "    </tr>\n",
              "    <tr>\n",
              "      <th>1978521</th>\n",
              "      <td>surprises</td>\n",
              "      <td>0.761278</td>\n",
              "    </tr>\n",
              "    <tr>\n",
              "      <th>1871828</th>\n",
              "      <td>spectacular</td>\n",
              "      <td>0.736672</td>\n",
              "    </tr>\n",
              "    <tr>\n",
              "      <th>1865302</th>\n",
              "      <td>soundtrack</td>\n",
              "      <td>0.717624</td>\n",
              "    </tr>\n",
              "    <tr>\n",
              "      <th>894566</th>\n",
              "      <td>greatest</td>\n",
              "      <td>0.717623</td>\n",
              "    </tr>\n",
              "    <tr>\n",
              "      <th>1487759</th>\n",
              "      <td>phenomenal</td>\n",
              "      <td>0.715293</td>\n",
              "    </tr>\n",
              "    <tr>\n",
              "      <th>2099558</th>\n",
              "      <td>treat</td>\n",
              "      <td>0.711598</td>\n",
              "    </tr>\n",
              "    <tr>\n",
              "      <th>1883365</th>\n",
              "      <td>spoil</td>\n",
              "      <td>0.707652</td>\n",
              "    </tr>\n",
              "    <tr>\n",
              "      <th>1414583</th>\n",
              "      <td>opinion</td>\n",
              "      <td>0.698585</td>\n",
              "    </tr>\n",
              "    <tr>\n",
              "      <th>2060577</th>\n",
              "      <td>till</td>\n",
              "      <td>0.697776</td>\n",
              "    </tr>\n",
              "  </tbody>\n",
              "</table>\n",
              "</div>\n",
              "    <div class=\"colab-df-buttons\">\n",
              "\n",
              "  <div class=\"colab-df-container\">\n",
              "    <button class=\"colab-df-convert\" onclick=\"convertToInteractive('df-36854a4d-a4a8-4996-a4d4-1353129f0348')\"\n",
              "            title=\"Convert this dataframe to an interactive table.\"\n",
              "            style=\"display:none;\">\n",
              "\n",
              "  <svg xmlns=\"http://www.w3.org/2000/svg\" height=\"24px\" viewBox=\"0 -960 960 960\">\n",
              "    <path d=\"M120-120v-720h720v720H120Zm60-500h600v-160H180v160Zm220 220h160v-160H400v160Zm0 220h160v-160H400v160ZM180-400h160v-160H180v160Zm440 0h160v-160H620v160ZM180-180h160v-160H180v160Zm440 0h160v-160H620v160Z\"/>\n",
              "  </svg>\n",
              "    </button>\n",
              "\n",
              "  <style>\n",
              "    .colab-df-container {\n",
              "      display:flex;\n",
              "      gap: 12px;\n",
              "    }\n",
              "\n",
              "    .colab-df-convert {\n",
              "      background-color: #E8F0FE;\n",
              "      border: none;\n",
              "      border-radius: 50%;\n",
              "      cursor: pointer;\n",
              "      display: none;\n",
              "      fill: #1967D2;\n",
              "      height: 32px;\n",
              "      padding: 0 0 0 0;\n",
              "      width: 32px;\n",
              "    }\n",
              "\n",
              "    .colab-df-convert:hover {\n",
              "      background-color: #E2EBFA;\n",
              "      box-shadow: 0px 1px 2px rgba(60, 64, 67, 0.3), 0px 1px 3px 1px rgba(60, 64, 67, 0.15);\n",
              "      fill: #174EA6;\n",
              "    }\n",
              "\n",
              "    .colab-df-buttons div {\n",
              "      margin-bottom: 4px;\n",
              "    }\n",
              "\n",
              "    [theme=dark] .colab-df-convert {\n",
              "      background-color: #3B4455;\n",
              "      fill: #D2E3FC;\n",
              "    }\n",
              "\n",
              "    [theme=dark] .colab-df-convert:hover {\n",
              "      background-color: #434B5C;\n",
              "      box-shadow: 0px 1px 3px 1px rgba(0, 0, 0, 0.15);\n",
              "      filter: drop-shadow(0px 1px 2px rgba(0, 0, 0, 0.3));\n",
              "      fill: #FFFFFF;\n",
              "    }\n",
              "  </style>\n",
              "\n",
              "    <script>\n",
              "      const buttonEl =\n",
              "        document.querySelector('#df-36854a4d-a4a8-4996-a4d4-1353129f0348 button.colab-df-convert');\n",
              "      buttonEl.style.display =\n",
              "        google.colab.kernel.accessAllowed ? 'block' : 'none';\n",
              "\n",
              "      async function convertToInteractive(key) {\n",
              "        const element = document.querySelector('#df-36854a4d-a4a8-4996-a4d4-1353129f0348');\n",
              "        const dataTable =\n",
              "          await google.colab.kernel.invokeFunction('convertToInteractive',\n",
              "                                                    [key], {});\n",
              "        if (!dataTable) return;\n",
              "\n",
              "        const docLinkHtml = 'Like what you see? Visit the ' +\n",
              "          '<a target=\"_blank\" href=https://colab.research.google.com/notebooks/data_table.ipynb>data table notebook</a>'\n",
              "          + ' to learn more about interactive tables.';\n",
              "        element.innerHTML = '';\n",
              "        dataTable['output_type'] = 'display_data';\n",
              "        await google.colab.output.renderOutput(dataTable, element);\n",
              "        const docLink = document.createElement('div');\n",
              "        docLink.innerHTML = docLinkHtml;\n",
              "        element.appendChild(docLink);\n",
              "      }\n",
              "    </script>\n",
              "  </div>\n",
              "\n",
              "\n",
              "<div id=\"df-c8db1cf1-7ed0-437a-8075-2ed0bee31145\">\n",
              "  <button class=\"colab-df-quickchart\" onclick=\"quickchart('df-c8db1cf1-7ed0-437a-8075-2ed0bee31145')\"\n",
              "            title=\"Suggest charts\"\n",
              "            style=\"display:none;\">\n",
              "\n",
              "<svg xmlns=\"http://www.w3.org/2000/svg\" height=\"24px\"viewBox=\"0 0 24 24\"\n",
              "     width=\"24px\">\n",
              "    <g>\n",
              "        <path d=\"M19 3H5c-1.1 0-2 .9-2 2v14c0 1.1.9 2 2 2h14c1.1 0 2-.9 2-2V5c0-1.1-.9-2-2-2zM9 17H7v-7h2v7zm4 0h-2V7h2v10zm4 0h-2v-4h2v4z\"/>\n",
              "    </g>\n",
              "</svg>\n",
              "  </button>\n",
              "\n",
              "<style>\n",
              "  .colab-df-quickchart {\n",
              "      --bg-color: #E8F0FE;\n",
              "      --fill-color: #1967D2;\n",
              "      --hover-bg-color: #E2EBFA;\n",
              "      --hover-fill-color: #174EA6;\n",
              "      --disabled-fill-color: #AAA;\n",
              "      --disabled-bg-color: #DDD;\n",
              "  }\n",
              "\n",
              "  [theme=dark] .colab-df-quickchart {\n",
              "      --bg-color: #3B4455;\n",
              "      --fill-color: #D2E3FC;\n",
              "      --hover-bg-color: #434B5C;\n",
              "      --hover-fill-color: #FFFFFF;\n",
              "      --disabled-bg-color: #3B4455;\n",
              "      --disabled-fill-color: #666;\n",
              "  }\n",
              "\n",
              "  .colab-df-quickchart {\n",
              "    background-color: var(--bg-color);\n",
              "    border: none;\n",
              "    border-radius: 50%;\n",
              "    cursor: pointer;\n",
              "    display: none;\n",
              "    fill: var(--fill-color);\n",
              "    height: 32px;\n",
              "    padding: 0;\n",
              "    width: 32px;\n",
              "  }\n",
              "\n",
              "  .colab-df-quickchart:hover {\n",
              "    background-color: var(--hover-bg-color);\n",
              "    box-shadow: 0 1px 2px rgba(60, 64, 67, 0.3), 0 1px 3px 1px rgba(60, 64, 67, 0.15);\n",
              "    fill: var(--button-hover-fill-color);\n",
              "  }\n",
              "\n",
              "  .colab-df-quickchart-complete:disabled,\n",
              "  .colab-df-quickchart-complete:disabled:hover {\n",
              "    background-color: var(--disabled-bg-color);\n",
              "    fill: var(--disabled-fill-color);\n",
              "    box-shadow: none;\n",
              "  }\n",
              "\n",
              "  .colab-df-spinner {\n",
              "    border: 2px solid var(--fill-color);\n",
              "    border-color: transparent;\n",
              "    border-bottom-color: var(--fill-color);\n",
              "    animation:\n",
              "      spin 1s steps(1) infinite;\n",
              "  }\n",
              "\n",
              "  @keyframes spin {\n",
              "    0% {\n",
              "      border-color: transparent;\n",
              "      border-bottom-color: var(--fill-color);\n",
              "      border-left-color: var(--fill-color);\n",
              "    }\n",
              "    20% {\n",
              "      border-color: transparent;\n",
              "      border-left-color: var(--fill-color);\n",
              "      border-top-color: var(--fill-color);\n",
              "    }\n",
              "    30% {\n",
              "      border-color: transparent;\n",
              "      border-left-color: var(--fill-color);\n",
              "      border-top-color: var(--fill-color);\n",
              "      border-right-color: var(--fill-color);\n",
              "    }\n",
              "    40% {\n",
              "      border-color: transparent;\n",
              "      border-right-color: var(--fill-color);\n",
              "      border-top-color: var(--fill-color);\n",
              "    }\n",
              "    60% {\n",
              "      border-color: transparent;\n",
              "      border-right-color: var(--fill-color);\n",
              "    }\n",
              "    80% {\n",
              "      border-color: transparent;\n",
              "      border-right-color: var(--fill-color);\n",
              "      border-bottom-color: var(--fill-color);\n",
              "    }\n",
              "    90% {\n",
              "      border-color: transparent;\n",
              "      border-bottom-color: var(--fill-color);\n",
              "    }\n",
              "  }\n",
              "</style>\n",
              "\n",
              "  <script>\n",
              "    async function quickchart(key) {\n",
              "      const quickchartButtonEl =\n",
              "        document.querySelector('#' + key + ' button');\n",
              "      quickchartButtonEl.disabled = true;  // To prevent multiple clicks.\n",
              "      quickchartButtonEl.classList.add('colab-df-spinner');\n",
              "      try {\n",
              "        const charts = await google.colab.kernel.invokeFunction(\n",
              "            'suggestCharts', [key], {});\n",
              "      } catch (error) {\n",
              "        console.error('Error during call to suggestCharts:', error);\n",
              "      }\n",
              "      quickchartButtonEl.classList.remove('colab-df-spinner');\n",
              "      quickchartButtonEl.classList.add('colab-df-quickchart-complete');\n",
              "    }\n",
              "    (() => {\n",
              "      let quickchartButtonEl =\n",
              "        document.querySelector('#df-c8db1cf1-7ed0-437a-8075-2ed0bee31145 button');\n",
              "      quickchartButtonEl.style.display =\n",
              "        google.colab.kernel.accessAllowed ? 'block' : 'none';\n",
              "    })();\n",
              "  </script>\n",
              "</div>\n",
              "\n",
              "    </div>\n",
              "  </div>\n"
            ],
            "application/vnd.google.colaboratory.intrinsic+json": {
              "type": "dataframe",
              "summary": "{\n  \"name\": \"lr_weights\",\n  \"rows\": 15,\n  \"fields\": [\n    {\n      \"column\": \"words\",\n      \"properties\": {\n        \"dtype\": \"string\",\n        \"num_unique_values\": 15,\n        \"samples\": [\n          \"greatest\",\n          \"treat\",\n          \"masterpiece\"\n        ],\n        \"semantic_type\": \"\",\n        \"description\": \"\"\n      }\n    },\n    {\n      \"column\": \"weights\",\n      \"properties\": {\n        \"dtype\": \"number\",\n        \"std\": 0.07371891678371813,\n        \"min\": 0.6977764702598789,\n        \"max\": 0.8788080256583792,\n        \"num_unique_values\": 15,\n        \"samples\": [\n          0.7176227953904182,\n          0.7115979569187758,\n          0.8788080256583792\n        ],\n        \"semantic_type\": \"\",\n        \"description\": \"\"\n      }\n    }\n  ]\n}"
            }
          },
          "metadata": {},
          "execution_count": 82
        }
      ],
      "source": [
        "lr_weights = pd.DataFrame(list(\n",
        "    zip(\n",
        "        bow_counts.get_feature_names_out(),\n",
        "        lr_model_all.coef_[0])\n",
        "    ),\n",
        "    columns=['words','weights']\n",
        ")\n",
        "\n",
        "lr_weights.sort_values(['weights'],ascending = False)[:15]"
      ]
    },
    {
      "cell_type": "code",
      "execution_count": 83,
      "metadata": {
        "colab": {
          "base_uri": "https://localhost:8080/",
          "height": 514
        },
        "id": "NTMibgCz0_cr",
        "outputId": "8c952b2a-07af-4b2d-efec-c1bad361903e"
      },
      "outputs": [
        {
          "output_type": "execute_result",
          "data": {
            "text/plain": [
              "                  words   weights\n",
              "565704   disappointment -1.115753\n",
              "1942619          stupid -1.164774\n",
              "2232489      whatsoever -1.168363\n",
              "1301860           money -1.188833\n",
              "2026109        terrible -1.189544\n",
              "444966             crap -1.304440\n",
              "2267013           worse -1.371625\n",
              "336941         children -1.373747\n",
              "336296         childish -1.413159\n",
              "232809           boring -1.540953\n",
              "1709757         rubbish -1.566927\n",
              "155414            awful -1.575807\n",
              "846083          garbage -1.584462\n",
              "2211855           waste -1.677710\n",
              "2268554           worst -2.017090"
            ],
            "text/html": [
              "\n",
              "  <div id=\"df-83bc61aa-304b-4f8a-861a-09744c932910\" class=\"colab-df-container\">\n",
              "    <div>\n",
              "<style scoped>\n",
              "    .dataframe tbody tr th:only-of-type {\n",
              "        vertical-align: middle;\n",
              "    }\n",
              "\n",
              "    .dataframe tbody tr th {\n",
              "        vertical-align: top;\n",
              "    }\n",
              "\n",
              "    .dataframe thead th {\n",
              "        text-align: right;\n",
              "    }\n",
              "</style>\n",
              "<table border=\"1\" class=\"dataframe\">\n",
              "  <thead>\n",
              "    <tr style=\"text-align: right;\">\n",
              "      <th></th>\n",
              "      <th>words</th>\n",
              "      <th>weights</th>\n",
              "    </tr>\n",
              "  </thead>\n",
              "  <tbody>\n",
              "    <tr>\n",
              "      <th>565704</th>\n",
              "      <td>disappointment</td>\n",
              "      <td>-1.115753</td>\n",
              "    </tr>\n",
              "    <tr>\n",
              "      <th>1942619</th>\n",
              "      <td>stupid</td>\n",
              "      <td>-1.164774</td>\n",
              "    </tr>\n",
              "    <tr>\n",
              "      <th>2232489</th>\n",
              "      <td>whatsoever</td>\n",
              "      <td>-1.168363</td>\n",
              "    </tr>\n",
              "    <tr>\n",
              "      <th>1301860</th>\n",
              "      <td>money</td>\n",
              "      <td>-1.188833</td>\n",
              "    </tr>\n",
              "    <tr>\n",
              "      <th>2026109</th>\n",
              "      <td>terrible</td>\n",
              "      <td>-1.189544</td>\n",
              "    </tr>\n",
              "    <tr>\n",
              "      <th>444966</th>\n",
              "      <td>crap</td>\n",
              "      <td>-1.304440</td>\n",
              "    </tr>\n",
              "    <tr>\n",
              "      <th>2267013</th>\n",
              "      <td>worse</td>\n",
              "      <td>-1.371625</td>\n",
              "    </tr>\n",
              "    <tr>\n",
              "      <th>336941</th>\n",
              "      <td>children</td>\n",
              "      <td>-1.373747</td>\n",
              "    </tr>\n",
              "    <tr>\n",
              "      <th>336296</th>\n",
              "      <td>childish</td>\n",
              "      <td>-1.413159</td>\n",
              "    </tr>\n",
              "    <tr>\n",
              "      <th>232809</th>\n",
              "      <td>boring</td>\n",
              "      <td>-1.540953</td>\n",
              "    </tr>\n",
              "    <tr>\n",
              "      <th>1709757</th>\n",
              "      <td>rubbish</td>\n",
              "      <td>-1.566927</td>\n",
              "    </tr>\n",
              "    <tr>\n",
              "      <th>155414</th>\n",
              "      <td>awful</td>\n",
              "      <td>-1.575807</td>\n",
              "    </tr>\n",
              "    <tr>\n",
              "      <th>846083</th>\n",
              "      <td>garbage</td>\n",
              "      <td>-1.584462</td>\n",
              "    </tr>\n",
              "    <tr>\n",
              "      <th>2211855</th>\n",
              "      <td>waste</td>\n",
              "      <td>-1.677710</td>\n",
              "    </tr>\n",
              "    <tr>\n",
              "      <th>2268554</th>\n",
              "      <td>worst</td>\n",
              "      <td>-2.017090</td>\n",
              "    </tr>\n",
              "  </tbody>\n",
              "</table>\n",
              "</div>\n",
              "    <div class=\"colab-df-buttons\">\n",
              "\n",
              "  <div class=\"colab-df-container\">\n",
              "    <button class=\"colab-df-convert\" onclick=\"convertToInteractive('df-83bc61aa-304b-4f8a-861a-09744c932910')\"\n",
              "            title=\"Convert this dataframe to an interactive table.\"\n",
              "            style=\"display:none;\">\n",
              "\n",
              "  <svg xmlns=\"http://www.w3.org/2000/svg\" height=\"24px\" viewBox=\"0 -960 960 960\">\n",
              "    <path d=\"M120-120v-720h720v720H120Zm60-500h600v-160H180v160Zm220 220h160v-160H400v160Zm0 220h160v-160H400v160ZM180-400h160v-160H180v160Zm440 0h160v-160H620v160ZM180-180h160v-160H180v160Zm440 0h160v-160H620v160Z\"/>\n",
              "  </svg>\n",
              "    </button>\n",
              "\n",
              "  <style>\n",
              "    .colab-df-container {\n",
              "      display:flex;\n",
              "      gap: 12px;\n",
              "    }\n",
              "\n",
              "    .colab-df-convert {\n",
              "      background-color: #E8F0FE;\n",
              "      border: none;\n",
              "      border-radius: 50%;\n",
              "      cursor: pointer;\n",
              "      display: none;\n",
              "      fill: #1967D2;\n",
              "      height: 32px;\n",
              "      padding: 0 0 0 0;\n",
              "      width: 32px;\n",
              "    }\n",
              "\n",
              "    .colab-df-convert:hover {\n",
              "      background-color: #E2EBFA;\n",
              "      box-shadow: 0px 1px 2px rgba(60, 64, 67, 0.3), 0px 1px 3px 1px rgba(60, 64, 67, 0.15);\n",
              "      fill: #174EA6;\n",
              "    }\n",
              "\n",
              "    .colab-df-buttons div {\n",
              "      margin-bottom: 4px;\n",
              "    }\n",
              "\n",
              "    [theme=dark] .colab-df-convert {\n",
              "      background-color: #3B4455;\n",
              "      fill: #D2E3FC;\n",
              "    }\n",
              "\n",
              "    [theme=dark] .colab-df-convert:hover {\n",
              "      background-color: #434B5C;\n",
              "      box-shadow: 0px 1px 3px 1px rgba(0, 0, 0, 0.15);\n",
              "      filter: drop-shadow(0px 1px 2px rgba(0, 0, 0, 0.3));\n",
              "      fill: #FFFFFF;\n",
              "    }\n",
              "  </style>\n",
              "\n",
              "    <script>\n",
              "      const buttonEl =\n",
              "        document.querySelector('#df-83bc61aa-304b-4f8a-861a-09744c932910 button.colab-df-convert');\n",
              "      buttonEl.style.display =\n",
              "        google.colab.kernel.accessAllowed ? 'block' : 'none';\n",
              "\n",
              "      async function convertToInteractive(key) {\n",
              "        const element = document.querySelector('#df-83bc61aa-304b-4f8a-861a-09744c932910');\n",
              "        const dataTable =\n",
              "          await google.colab.kernel.invokeFunction('convertToInteractive',\n",
              "                                                    [key], {});\n",
              "        if (!dataTable) return;\n",
              "\n",
              "        const docLinkHtml = 'Like what you see? Visit the ' +\n",
              "          '<a target=\"_blank\" href=https://colab.research.google.com/notebooks/data_table.ipynb>data table notebook</a>'\n",
              "          + ' to learn more about interactive tables.';\n",
              "        element.innerHTML = '';\n",
              "        dataTable['output_type'] = 'display_data';\n",
              "        await google.colab.output.renderOutput(dataTable, element);\n",
              "        const docLink = document.createElement('div');\n",
              "        docLink.innerHTML = docLinkHtml;\n",
              "        element.appendChild(docLink);\n",
              "      }\n",
              "    </script>\n",
              "  </div>\n",
              "\n",
              "\n",
              "<div id=\"df-64d7577a-67d7-4def-9c72-682381a04355\">\n",
              "  <button class=\"colab-df-quickchart\" onclick=\"quickchart('df-64d7577a-67d7-4def-9c72-682381a04355')\"\n",
              "            title=\"Suggest charts\"\n",
              "            style=\"display:none;\">\n",
              "\n",
              "<svg xmlns=\"http://www.w3.org/2000/svg\" height=\"24px\"viewBox=\"0 0 24 24\"\n",
              "     width=\"24px\">\n",
              "    <g>\n",
              "        <path d=\"M19 3H5c-1.1 0-2 .9-2 2v14c0 1.1.9 2 2 2h14c1.1 0 2-.9 2-2V5c0-1.1-.9-2-2-2zM9 17H7v-7h2v7zm4 0h-2V7h2v10zm4 0h-2v-4h2v4z\"/>\n",
              "    </g>\n",
              "</svg>\n",
              "  </button>\n",
              "\n",
              "<style>\n",
              "  .colab-df-quickchart {\n",
              "      --bg-color: #E8F0FE;\n",
              "      --fill-color: #1967D2;\n",
              "      --hover-bg-color: #E2EBFA;\n",
              "      --hover-fill-color: #174EA6;\n",
              "      --disabled-fill-color: #AAA;\n",
              "      --disabled-bg-color: #DDD;\n",
              "  }\n",
              "\n",
              "  [theme=dark] .colab-df-quickchart {\n",
              "      --bg-color: #3B4455;\n",
              "      --fill-color: #D2E3FC;\n",
              "      --hover-bg-color: #434B5C;\n",
              "      --hover-fill-color: #FFFFFF;\n",
              "      --disabled-bg-color: #3B4455;\n",
              "      --disabled-fill-color: #666;\n",
              "  }\n",
              "\n",
              "  .colab-df-quickchart {\n",
              "    background-color: var(--bg-color);\n",
              "    border: none;\n",
              "    border-radius: 50%;\n",
              "    cursor: pointer;\n",
              "    display: none;\n",
              "    fill: var(--fill-color);\n",
              "    height: 32px;\n",
              "    padding: 0;\n",
              "    width: 32px;\n",
              "  }\n",
              "\n",
              "  .colab-df-quickchart:hover {\n",
              "    background-color: var(--hover-bg-color);\n",
              "    box-shadow: 0 1px 2px rgba(60, 64, 67, 0.3), 0 1px 3px 1px rgba(60, 64, 67, 0.15);\n",
              "    fill: var(--button-hover-fill-color);\n",
              "  }\n",
              "\n",
              "  .colab-df-quickchart-complete:disabled,\n",
              "  .colab-df-quickchart-complete:disabled:hover {\n",
              "    background-color: var(--disabled-bg-color);\n",
              "    fill: var(--disabled-fill-color);\n",
              "    box-shadow: none;\n",
              "  }\n",
              "\n",
              "  .colab-df-spinner {\n",
              "    border: 2px solid var(--fill-color);\n",
              "    border-color: transparent;\n",
              "    border-bottom-color: var(--fill-color);\n",
              "    animation:\n",
              "      spin 1s steps(1) infinite;\n",
              "  }\n",
              "\n",
              "  @keyframes spin {\n",
              "    0% {\n",
              "      border-color: transparent;\n",
              "      border-bottom-color: var(--fill-color);\n",
              "      border-left-color: var(--fill-color);\n",
              "    }\n",
              "    20% {\n",
              "      border-color: transparent;\n",
              "      border-left-color: var(--fill-color);\n",
              "      border-top-color: var(--fill-color);\n",
              "    }\n",
              "    30% {\n",
              "      border-color: transparent;\n",
              "      border-left-color: var(--fill-color);\n",
              "      border-top-color: var(--fill-color);\n",
              "      border-right-color: var(--fill-color);\n",
              "    }\n",
              "    40% {\n",
              "      border-color: transparent;\n",
              "      border-right-color: var(--fill-color);\n",
              "      border-top-color: var(--fill-color);\n",
              "    }\n",
              "    60% {\n",
              "      border-color: transparent;\n",
              "      border-right-color: var(--fill-color);\n",
              "    }\n",
              "    80% {\n",
              "      border-color: transparent;\n",
              "      border-right-color: var(--fill-color);\n",
              "      border-bottom-color: var(--fill-color);\n",
              "    }\n",
              "    90% {\n",
              "      border-color: transparent;\n",
              "      border-bottom-color: var(--fill-color);\n",
              "    }\n",
              "  }\n",
              "</style>\n",
              "\n",
              "  <script>\n",
              "    async function quickchart(key) {\n",
              "      const quickchartButtonEl =\n",
              "        document.querySelector('#' + key + ' button');\n",
              "      quickchartButtonEl.disabled = true;  // To prevent multiple clicks.\n",
              "      quickchartButtonEl.classList.add('colab-df-spinner');\n",
              "      try {\n",
              "        const charts = await google.colab.kernel.invokeFunction(\n",
              "            'suggestCharts', [key], {});\n",
              "      } catch (error) {\n",
              "        console.error('Error during call to suggestCharts:', error);\n",
              "      }\n",
              "      quickchartButtonEl.classList.remove('colab-df-spinner');\n",
              "      quickchartButtonEl.classList.add('colab-df-quickchart-complete');\n",
              "    }\n",
              "    (() => {\n",
              "      let quickchartButtonEl =\n",
              "        document.querySelector('#df-64d7577a-67d7-4def-9c72-682381a04355 button');\n",
              "      quickchartButtonEl.style.display =\n",
              "        google.colab.kernel.accessAllowed ? 'block' : 'none';\n",
              "    })();\n",
              "  </script>\n",
              "</div>\n",
              "\n",
              "    </div>\n",
              "  </div>\n"
            ],
            "application/vnd.google.colaboratory.intrinsic+json": {
              "type": "dataframe",
              "summary": "{\n  \"name\": \"lr_weights\",\n  \"rows\": 15,\n  \"fields\": [\n    {\n      \"column\": \"words\",\n      \"properties\": {\n        \"dtype\": \"string\",\n        \"num_unique_values\": 15,\n        \"samples\": [\n          \"boring\",\n          \"awful\",\n          \"disappointment\"\n        ],\n        \"semantic_type\": \"\",\n        \"description\": \"\"\n      }\n    },\n    {\n      \"column\": \"weights\",\n      \"properties\": {\n        \"dtype\": \"number\",\n        \"std\": 0.2472391671809643,\n        \"min\": -2.0170895346394846,\n        \"max\": -1.1157533129813826,\n        \"num_unique_values\": 15,\n        \"samples\": [\n          -1.5409525757688933,\n          -1.575807203821569,\n          -1.1157533129813826\n        ],\n        \"semantic_type\": \"\",\n        \"description\": \"\"\n      }\n    }\n  ]\n}"
            }
          },
          "metadata": {},
          "execution_count": 83
        }
      ],
      "source": [
        "lr_weights.sort_values(['weights'],ascending = False)[-15:]"
      ]
    },
    {
      "cell_type": "markdown",
      "metadata": {
        "id": "oSFndsDw1MWt"
      },
      "source": [
        "### **Random Forest**"
      ]
    },
    {
      "cell_type": "code",
      "execution_count": 86,
      "metadata": {
        "id": "-lcGwtqM1Puf"
      },
      "outputs": [],
      "source": [
        "rf_model_all = RandomForestClassifier(n_estimators=100, max_depth=10, n_jobs=-1)\n",
        "\n",
        "# Entrenamiento\n",
        "rf_model_all.fit(X_train_bow, y_train_bow)\n",
        "\n",
        "# predicciones\n",
        "test_pred_lr_prob = rf_model_all.predict_proba(X_test_bow)\n",
        "test_pred_lr_all = rf_model_all.predict(X_test_bow)"
      ]
    },
    {
      "cell_type": "code",
      "execution_count": 87,
      "metadata": {
        "id": "nDoeEImR1W7o",
        "colab": {
          "base_uri": "https://localhost:8080/"
        },
        "outputId": "5ae9d565-01d5-4654-c582-3a0c24bbf0a7"
      },
      "outputs": [
        {
          "output_type": "stream",
          "name": "stdout",
          "text": [
            "F1 score:  0.8491665537335682\n",
            "Accuracy:  73.78709373528027\n"
          ]
        }
      ],
      "source": [
        "print(\"F1 score: \", f1_score(y_test_bow,test_pred_lr_all))\n",
        "print(\"Accuracy: \", accuracy_score(y_test_bow,test_pred_lr_all)* 100)"
      ]
    },
    {
      "cell_type": "code",
      "execution_count": 88,
      "metadata": {
        "id": "bHkLcDdA54Om"
      },
      "outputs": [],
      "source": [
        "feature_importances = pd.DataFrame(\n",
        "    rf_model_all.feature_importances_,\n",
        "    index=bow_counts.get_feature_names_out(),\n",
        "    columns=['importance']\n",
        ")"
      ]
    },
    {
      "cell_type": "code",
      "execution_count": 89,
      "metadata": {
        "id": "n93A1Zbv57YU",
        "colab": {
          "base_uri": "https://localhost:8080/",
          "height": 359
        },
        "outputId": "b8df9cbd-1653-4a0f-abc0-8d4c96754b71"
      },
      "outputs": [
        {
          "output_type": "execute_result",
          "data": {
            "text/plain": [
              "          importance\n",
              "stupid      0.011886\n",
              "save        0.006875\n",
              "dumb        0.005818\n",
              "annoying    0.005802\n",
              "worse       0.005798\n",
              "money       0.005665\n",
              "boring      0.005517\n",
              "awful       0.005439\n",
              "joke        0.005414\n",
              "attempt     0.005291"
            ],
            "text/html": [
              "\n",
              "  <div id=\"df-438cf2ad-bc86-4a61-bc3b-68ff5024dc91\" class=\"colab-df-container\">\n",
              "    <div>\n",
              "<style scoped>\n",
              "    .dataframe tbody tr th:only-of-type {\n",
              "        vertical-align: middle;\n",
              "    }\n",
              "\n",
              "    .dataframe tbody tr th {\n",
              "        vertical-align: top;\n",
              "    }\n",
              "\n",
              "    .dataframe thead th {\n",
              "        text-align: right;\n",
              "    }\n",
              "</style>\n",
              "<table border=\"1\" class=\"dataframe\">\n",
              "  <thead>\n",
              "    <tr style=\"text-align: right;\">\n",
              "      <th></th>\n",
              "      <th>importance</th>\n",
              "    </tr>\n",
              "  </thead>\n",
              "  <tbody>\n",
              "    <tr>\n",
              "      <th>stupid</th>\n",
              "      <td>0.011886</td>\n",
              "    </tr>\n",
              "    <tr>\n",
              "      <th>save</th>\n",
              "      <td>0.006875</td>\n",
              "    </tr>\n",
              "    <tr>\n",
              "      <th>dumb</th>\n",
              "      <td>0.005818</td>\n",
              "    </tr>\n",
              "    <tr>\n",
              "      <th>annoying</th>\n",
              "      <td>0.005802</td>\n",
              "    </tr>\n",
              "    <tr>\n",
              "      <th>worse</th>\n",
              "      <td>0.005798</td>\n",
              "    </tr>\n",
              "    <tr>\n",
              "      <th>money</th>\n",
              "      <td>0.005665</td>\n",
              "    </tr>\n",
              "    <tr>\n",
              "      <th>boring</th>\n",
              "      <td>0.005517</td>\n",
              "    </tr>\n",
              "    <tr>\n",
              "      <th>awful</th>\n",
              "      <td>0.005439</td>\n",
              "    </tr>\n",
              "    <tr>\n",
              "      <th>joke</th>\n",
              "      <td>0.005414</td>\n",
              "    </tr>\n",
              "    <tr>\n",
              "      <th>attempt</th>\n",
              "      <td>0.005291</td>\n",
              "    </tr>\n",
              "  </tbody>\n",
              "</table>\n",
              "</div>\n",
              "    <div class=\"colab-df-buttons\">\n",
              "\n",
              "  <div class=\"colab-df-container\">\n",
              "    <button class=\"colab-df-convert\" onclick=\"convertToInteractive('df-438cf2ad-bc86-4a61-bc3b-68ff5024dc91')\"\n",
              "            title=\"Convert this dataframe to an interactive table.\"\n",
              "            style=\"display:none;\">\n",
              "\n",
              "  <svg xmlns=\"http://www.w3.org/2000/svg\" height=\"24px\" viewBox=\"0 -960 960 960\">\n",
              "    <path d=\"M120-120v-720h720v720H120Zm60-500h600v-160H180v160Zm220 220h160v-160H400v160Zm0 220h160v-160H400v160ZM180-400h160v-160H180v160Zm440 0h160v-160H620v160ZM180-180h160v-160H180v160Zm440 0h160v-160H620v160Z\"/>\n",
              "  </svg>\n",
              "    </button>\n",
              "\n",
              "  <style>\n",
              "    .colab-df-container {\n",
              "      display:flex;\n",
              "      gap: 12px;\n",
              "    }\n",
              "\n",
              "    .colab-df-convert {\n",
              "      background-color: #E8F0FE;\n",
              "      border: none;\n",
              "      border-radius: 50%;\n",
              "      cursor: pointer;\n",
              "      display: none;\n",
              "      fill: #1967D2;\n",
              "      height: 32px;\n",
              "      padding: 0 0 0 0;\n",
              "      width: 32px;\n",
              "    }\n",
              "\n",
              "    .colab-df-convert:hover {\n",
              "      background-color: #E2EBFA;\n",
              "      box-shadow: 0px 1px 2px rgba(60, 64, 67, 0.3), 0px 1px 3px 1px rgba(60, 64, 67, 0.15);\n",
              "      fill: #174EA6;\n",
              "    }\n",
              "\n",
              "    .colab-df-buttons div {\n",
              "      margin-bottom: 4px;\n",
              "    }\n",
              "\n",
              "    [theme=dark] .colab-df-convert {\n",
              "      background-color: #3B4455;\n",
              "      fill: #D2E3FC;\n",
              "    }\n",
              "\n",
              "    [theme=dark] .colab-df-convert:hover {\n",
              "      background-color: #434B5C;\n",
              "      box-shadow: 0px 1px 3px 1px rgba(0, 0, 0, 0.15);\n",
              "      filter: drop-shadow(0px 1px 2px rgba(0, 0, 0, 0.3));\n",
              "      fill: #FFFFFF;\n",
              "    }\n",
              "  </style>\n",
              "\n",
              "    <script>\n",
              "      const buttonEl =\n",
              "        document.querySelector('#df-438cf2ad-bc86-4a61-bc3b-68ff5024dc91 button.colab-df-convert');\n",
              "      buttonEl.style.display =\n",
              "        google.colab.kernel.accessAllowed ? 'block' : 'none';\n",
              "\n",
              "      async function convertToInteractive(key) {\n",
              "        const element = document.querySelector('#df-438cf2ad-bc86-4a61-bc3b-68ff5024dc91');\n",
              "        const dataTable =\n",
              "          await google.colab.kernel.invokeFunction('convertToInteractive',\n",
              "                                                    [key], {});\n",
              "        if (!dataTable) return;\n",
              "\n",
              "        const docLinkHtml = 'Like what you see? Visit the ' +\n",
              "          '<a target=\"_blank\" href=https://colab.research.google.com/notebooks/data_table.ipynb>data table notebook</a>'\n",
              "          + ' to learn more about interactive tables.';\n",
              "        element.innerHTML = '';\n",
              "        dataTable['output_type'] = 'display_data';\n",
              "        await google.colab.output.renderOutput(dataTable, element);\n",
              "        const docLink = document.createElement('div');\n",
              "        docLink.innerHTML = docLinkHtml;\n",
              "        element.appendChild(docLink);\n",
              "      }\n",
              "    </script>\n",
              "  </div>\n",
              "\n",
              "\n",
              "<div id=\"df-b346ec77-44e9-410d-bcf6-6b4e5f736655\">\n",
              "  <button class=\"colab-df-quickchart\" onclick=\"quickchart('df-b346ec77-44e9-410d-bcf6-6b4e5f736655')\"\n",
              "            title=\"Suggest charts\"\n",
              "            style=\"display:none;\">\n",
              "\n",
              "<svg xmlns=\"http://www.w3.org/2000/svg\" height=\"24px\"viewBox=\"0 0 24 24\"\n",
              "     width=\"24px\">\n",
              "    <g>\n",
              "        <path d=\"M19 3H5c-1.1 0-2 .9-2 2v14c0 1.1.9 2 2 2h14c1.1 0 2-.9 2-2V5c0-1.1-.9-2-2-2zM9 17H7v-7h2v7zm4 0h-2V7h2v10zm4 0h-2v-4h2v4z\"/>\n",
              "    </g>\n",
              "</svg>\n",
              "  </button>\n",
              "\n",
              "<style>\n",
              "  .colab-df-quickchart {\n",
              "      --bg-color: #E8F0FE;\n",
              "      --fill-color: #1967D2;\n",
              "      --hover-bg-color: #E2EBFA;\n",
              "      --hover-fill-color: #174EA6;\n",
              "      --disabled-fill-color: #AAA;\n",
              "      --disabled-bg-color: #DDD;\n",
              "  }\n",
              "\n",
              "  [theme=dark] .colab-df-quickchart {\n",
              "      --bg-color: #3B4455;\n",
              "      --fill-color: #D2E3FC;\n",
              "      --hover-bg-color: #434B5C;\n",
              "      --hover-fill-color: #FFFFFF;\n",
              "      --disabled-bg-color: #3B4455;\n",
              "      --disabled-fill-color: #666;\n",
              "  }\n",
              "\n",
              "  .colab-df-quickchart {\n",
              "    background-color: var(--bg-color);\n",
              "    border: none;\n",
              "    border-radius: 50%;\n",
              "    cursor: pointer;\n",
              "    display: none;\n",
              "    fill: var(--fill-color);\n",
              "    height: 32px;\n",
              "    padding: 0;\n",
              "    width: 32px;\n",
              "  }\n",
              "\n",
              "  .colab-df-quickchart:hover {\n",
              "    background-color: var(--hover-bg-color);\n",
              "    box-shadow: 0 1px 2px rgba(60, 64, 67, 0.3), 0 1px 3px 1px rgba(60, 64, 67, 0.15);\n",
              "    fill: var(--button-hover-fill-color);\n",
              "  }\n",
              "\n",
              "  .colab-df-quickchart-complete:disabled,\n",
              "  .colab-df-quickchart-complete:disabled:hover {\n",
              "    background-color: var(--disabled-bg-color);\n",
              "    fill: var(--disabled-fill-color);\n",
              "    box-shadow: none;\n",
              "  }\n",
              "\n",
              "  .colab-df-spinner {\n",
              "    border: 2px solid var(--fill-color);\n",
              "    border-color: transparent;\n",
              "    border-bottom-color: var(--fill-color);\n",
              "    animation:\n",
              "      spin 1s steps(1) infinite;\n",
              "  }\n",
              "\n",
              "  @keyframes spin {\n",
              "    0% {\n",
              "      border-color: transparent;\n",
              "      border-bottom-color: var(--fill-color);\n",
              "      border-left-color: var(--fill-color);\n",
              "    }\n",
              "    20% {\n",
              "      border-color: transparent;\n",
              "      border-left-color: var(--fill-color);\n",
              "      border-top-color: var(--fill-color);\n",
              "    }\n",
              "    30% {\n",
              "      border-color: transparent;\n",
              "      border-left-color: var(--fill-color);\n",
              "      border-top-color: var(--fill-color);\n",
              "      border-right-color: var(--fill-color);\n",
              "    }\n",
              "    40% {\n",
              "      border-color: transparent;\n",
              "      border-right-color: var(--fill-color);\n",
              "      border-top-color: var(--fill-color);\n",
              "    }\n",
              "    60% {\n",
              "      border-color: transparent;\n",
              "      border-right-color: var(--fill-color);\n",
              "    }\n",
              "    80% {\n",
              "      border-color: transparent;\n",
              "      border-right-color: var(--fill-color);\n",
              "      border-bottom-color: var(--fill-color);\n",
              "    }\n",
              "    90% {\n",
              "      border-color: transparent;\n",
              "      border-bottom-color: var(--fill-color);\n",
              "    }\n",
              "  }\n",
              "</style>\n",
              "\n",
              "  <script>\n",
              "    async function quickchart(key) {\n",
              "      const quickchartButtonEl =\n",
              "        document.querySelector('#' + key + ' button');\n",
              "      quickchartButtonEl.disabled = true;  // To prevent multiple clicks.\n",
              "      quickchartButtonEl.classList.add('colab-df-spinner');\n",
              "      try {\n",
              "        const charts = await google.colab.kernel.invokeFunction(\n",
              "            'suggestCharts', [key], {});\n",
              "      } catch (error) {\n",
              "        console.error('Error during call to suggestCharts:', error);\n",
              "      }\n",
              "      quickchartButtonEl.classList.remove('colab-df-spinner');\n",
              "      quickchartButtonEl.classList.add('colab-df-quickchart-complete');\n",
              "    }\n",
              "    (() => {\n",
              "      let quickchartButtonEl =\n",
              "        document.querySelector('#df-b346ec77-44e9-410d-bcf6-6b4e5f736655 button');\n",
              "      quickchartButtonEl.style.display =\n",
              "        google.colab.kernel.accessAllowed ? 'block' : 'none';\n",
              "    })();\n",
              "  </script>\n",
              "</div>\n",
              "\n",
              "    </div>\n",
              "  </div>\n"
            ],
            "application/vnd.google.colaboratory.intrinsic+json": {
              "type": "dataframe",
              "summary": "{\n  \"name\": \"feature_importances\",\n  \"rows\": 10,\n  \"fields\": [\n    {\n      \"column\": \"importance\",\n      \"properties\": {\n        \"dtype\": \"number\",\n        \"std\": 0.0019944808367331067,\n        \"min\": 0.00529079308992267,\n        \"max\": 0.011886050204218852,\n        \"num_unique_values\": 10,\n        \"samples\": [\n          0.0054144337670502035,\n          0.0068750116304859745,\n          0.005664710203044091\n        ],\n        \"semantic_type\": \"\",\n        \"description\": \"\"\n      }\n    }\n  ]\n}"
            }
          },
          "metadata": {},
          "execution_count": 89
        }
      ],
      "source": [
        "feature_importances.sort_values(['importance'], ascending=False)[:10]"
      ]
    },
    {
      "cell_type": "markdown",
      "source": [
        "Comparando los Accuracy entre ambos modelos, es posible constatar que Regresión Logística (81.65) tendría un mejor desempeño."
      ],
      "metadata": {
        "id": "ssHCPiGwU4FF"
      }
    },
    {
      "cell_type": "markdown",
      "source": [
        "## **Vectorización TF-IDF**"
      ],
      "metadata": {
        "id": "7tRnDnuShahI"
      }
    },
    {
      "cell_type": "code",
      "source": [
        "tfidf_counts = TfidfVectorizer(\n",
        "    stop_words=noise_words,\n",
        "    ngram_range=(1,1)\n",
        ")\n",
        "\n",
        "X_train_tfidf = tfidf_counts.fit_transform(reviews_train.Review_text_new)\n",
        "X_test_tfidf = tfidf_counts.transform(reviews_test.Review_text_new)"
      ],
      "metadata": {
        "id": "Ivu5bPv3hmA5"
      },
      "execution_count": 91,
      "outputs": []
    },
    {
      "cell_type": "markdown",
      "source": [
        "###**Regresión Logística**"
      ],
      "metadata": {
        "id": "8vMA_T5Lh92g"
      }
    },
    {
      "cell_type": "code",
      "source": [
        "# Crear el clasificador\n",
        "lr_model_tf_idf = LogisticRegression(C=1, solver=\"liblinear\")\n",
        "\n",
        "# Entrenar\n",
        "lr_model_tf_idf.fit(X_train_tfidf, y_train_bow)\n",
        "\n",
        "# Predecir\n",
        "test_pred_lr_prob = lr_model_tf_idf.predict_proba(X_test_tfidf)\n",
        "test_pred_lr_all = lr_model_tf_idf.predict(X_test_tfidf)\n",
        "\n",
        "## Evaluar el modelo\n",
        "print(\"F1 score: \",f1_score(y_test_bow, test_pred_lr_all))\n",
        "print(\"Accuracy: \", accuracy_score(y_test_bow, test_pred_lr_all) * 100)"
      ],
      "metadata": {
        "id": "mitUdyf8h9g4",
        "colab": {
          "base_uri": "https://localhost:8080/"
        },
        "outputId": "79bdb6b9-89d3-4d11-c0f8-78d3987f39e6"
      },
      "execution_count": 92,
      "outputs": [
        {
          "output_type": "stream",
          "name": "stdout",
          "text": [
            "F1 score:  0.8884266825137423\n",
            "Accuracy:  82.312764955252\n"
          ]
        }
      ]
    },
    {
      "cell_type": "markdown",
      "source": [
        "### **Random Forest**"
      ],
      "metadata": {
        "id": "bqRQB8TrC5ht"
      }
    },
    {
      "cell_type": "code",
      "source": [
        "rf_model_tf_idt = RandomForestClassifier(n_estimators=100, max_depth=10, n_jobs=-1)\n",
        "\n",
        "# Entrenamiento\n",
        "rf_model_tf_idt.fit(X_train_bow, y_train_bow)\n",
        "\n",
        "# predicciones\n",
        "test_pred_lr_prob = rf_model_all.predict_proba(X_test_bow)\n",
        "test_pred_lr_all = rf_model_all.predict(X_test_bow)"
      ],
      "metadata": {
        "id": "1UOpcN9wC82L"
      },
      "execution_count": 93,
      "outputs": []
    },
    {
      "cell_type": "code",
      "source": [
        "print(\"F1 score: \", f1_score(y_test_bow,test_pred_lr_all))\n",
        "print(\"Accuracy: \", accuracy_score(y_test_bow,test_pred_lr_all)* 100)"
      ],
      "metadata": {
        "colab": {
          "base_uri": "https://localhost:8080/"
        },
        "id": "JKjOkNvlDKvP",
        "outputId": "d5d733a2-fc4c-4f35-9871-5ae73ef2b135"
      },
      "execution_count": 94,
      "outputs": [
        {
          "output_type": "stream",
          "name": "stdout",
          "text": [
            "F1 score:  0.8491665537335682\n",
            "Accuracy:  73.78709373528027\n"
          ]
        }
      ]
    },
    {
      "cell_type": "markdown",
      "source": [
        "Con la Vectorización TF-IDF el mejor modelo sigue siendo Regresión Logística, mostrando una pequeña mejora que con el anterior método de vectorización, tanto en Accuracy como en el indicador F1 score."
      ],
      "metadata": {
        "id": "-ka3Amd8DnGD"
      }
    },
    {
      "cell_type": "code",
      "source": [
        "tfidf_counts = TfidfVectorizer(\n",
        "    stop_words=noise_words,\n",
        "    ngram_range=(1,3)\n",
        ")\n",
        "\n",
        "X_train_tfidf = tfidf_counts.fit_transform(reviews_train.Review_text_new)\n",
        "X_test_tfidf = tfidf_counts.transform(reviews_test.Review_text_new)"
      ],
      "metadata": {
        "id": "qnWBVYfvES_x"
      },
      "execution_count": 95,
      "outputs": []
    },
    {
      "cell_type": "code",
      "source": [
        "# definiendo la clase del modelo\n",
        "lr_model_tf_idf_new = LogisticRegression(C=1, solver=\"liblinear\")\n",
        "\n",
        "# Entrenar\n",
        "lr_model_tf_idf_new.fit(X_train_tfidf, y_train_bow)\n",
        "\n",
        "# Predecir\n",
        "test_pred_lr_prob = lr_model_tf_idf_new.predict_proba(X_test_tfidf)\n",
        "test_pred_lr_all = lr_model_tf_idf_new.predict(X_test_tfidf)\n",
        "\n",
        "# Evaluar el modelo\n",
        "print(\"F1 score: \",f1_score(y_test_bow, test_pred_lr_all))\n",
        "print(\"Accuracy: \", accuracy_score(y_test_bow, test_pred_lr_all)*100)"
      ],
      "metadata": {
        "colab": {
          "base_uri": "https://localhost:8080/"
        },
        "id": "MPOHJ07DEl_P",
        "outputId": "494bc6ad-9a0d-42fa-bb6f-f4bb3ad73f82"
      },
      "execution_count": 96,
      "outputs": [
        {
          "output_type": "stream",
          "name": "stdout",
          "text": [
            "F1 score:  0.8891229125921468\n",
            "Accuracy:  82.64248704663213\n"
          ]
        }
      ]
    },
    {
      "cell_type": "markdown",
      "source": [
        "Aumentando los n-gramas no existe una clara mejora de los indicadores, pero sigue demostrando que el método TF-IDF tendría mejor rendimiento."
      ],
      "metadata": {
        "id": "RWOp7wXMEsXp"
      }
    },
    {
      "cell_type": "markdown",
      "source": [
        "## **Conclusiones**\n",
        "\n",
        "Al realizar un análisis de sentimientos a los comentarios de usuarios a las películas de Spiderman, se puede concluir que el método de vectorización **IT-IDF** tendría un mejor rendimiento, utilizando un modelo de Regresión Logística, puydiendo obtener una precisión de **88,9%**."
      ],
      "metadata": {
        "id": "m3ppcnk-FDiU"
      }
    }
  ],
  "metadata": {
    "colab": {
      "provenance": [],
      "authorship_tag": "ABX9TyOcx9ut1PdcZD2e63IcE3ie",
      "include_colab_link": true
    },
    "kernelspec": {
      "display_name": "Python 3",
      "name": "python3"
    },
    "language_info": {
      "name": "python"
    }
  },
  "nbformat": 4,
  "nbformat_minor": 0
}